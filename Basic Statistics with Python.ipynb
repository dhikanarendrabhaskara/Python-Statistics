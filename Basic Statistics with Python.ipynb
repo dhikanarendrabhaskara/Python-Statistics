{
 "cells": [
  {
   "cell_type": "markdown",
   "metadata": {},
   "source": [
    "## IMPORTING DATA & LIBRARIES"
   ]
  },
  {
   "cell_type": "code",
   "execution_count": 1,
   "metadata": {},
   "outputs": [],
   "source": [
    "# importing basic libraries\n",
    "import pandas as pd\n",
    "import numpy as np\n",
    "import seaborn as sns\n",
    "import matplotlib.pyplot as plt\n",
    "import plotly.graph_objects as go\n",
    "import plotly.express as px\n",
    "import warnings\n",
    "warnings.filterwarnings('ignore')\n",
    "%matplotlib inline\n",
    "\n",
    "# importing data\n",
    "data = pd.read_csv('hotel_cancel.csv')"
   ]
  },
  {
   "cell_type": "code",
   "execution_count": 2,
   "metadata": {
    "scrolled": true
   },
   "outputs": [
    {
     "data": {
      "text/html": [
       "<div>\n",
       "<style scoped>\n",
       "    .dataframe tbody tr th:only-of-type {\n",
       "        vertical-align: middle;\n",
       "    }\n",
       "\n",
       "    .dataframe tbody tr th {\n",
       "        vertical-align: top;\n",
       "    }\n",
       "\n",
       "    .dataframe thead th {\n",
       "        text-align: right;\n",
       "    }\n",
       "</style>\n",
       "<table border=\"1\" class=\"dataframe\">\n",
       "  <thead>\n",
       "    <tr style=\"text-align: right;\">\n",
       "      <th></th>\n",
       "      <th>hotel</th>\n",
       "      <th>is_canceled</th>\n",
       "      <th>lead_time</th>\n",
       "      <th>arrival_date_year</th>\n",
       "      <th>arrival_date_month</th>\n",
       "      <th>arrival_date_week_number</th>\n",
       "      <th>arrival_date_day_of_month</th>\n",
       "      <th>stays_in_weekend_nights</th>\n",
       "      <th>stays_in_week_nights</th>\n",
       "      <th>adults</th>\n",
       "      <th>children</th>\n",
       "      <th>babies</th>\n",
       "      <th>meal</th>\n",
       "      <th>country</th>\n",
       "      <th>market_segment</th>\n",
       "      <th>distribution_channel</th>\n",
       "      <th>is_repeated_guest</th>\n",
       "      <th>previous_cancellations</th>\n",
       "      <th>previous_bookings_not_canceled</th>\n",
       "      <th>reserved_room_type</th>\n",
       "      <th>assigned_room_type</th>\n",
       "      <th>booking_changes</th>\n",
       "      <th>deposit_type</th>\n",
       "      <th>agent</th>\n",
       "      <th>company</th>\n",
       "      <th>days_in_waiting_list</th>\n",
       "      <th>customer_type</th>\n",
       "      <th>adr</th>\n",
       "      <th>required_car_parking_spaces</th>\n",
       "      <th>total_of_special_requests</th>\n",
       "      <th>reservation_status</th>\n",
       "      <th>reservation_status_date</th>\n",
       "    </tr>\n",
       "  </thead>\n",
       "  <tbody>\n",
       "    <tr>\n",
       "      <th>0</th>\n",
       "      <td>Resort Hotel</td>\n",
       "      <td>0</td>\n",
       "      <td>342</td>\n",
       "      <td>2015</td>\n",
       "      <td>July</td>\n",
       "      <td>27</td>\n",
       "      <td>1</td>\n",
       "      <td>0</td>\n",
       "      <td>0</td>\n",
       "      <td>2</td>\n",
       "      <td>0.0</td>\n",
       "      <td>0</td>\n",
       "      <td>BB</td>\n",
       "      <td>PRT</td>\n",
       "      <td>Direct</td>\n",
       "      <td>Direct</td>\n",
       "      <td>0</td>\n",
       "      <td>0</td>\n",
       "      <td>0</td>\n",
       "      <td>C</td>\n",
       "      <td>C</td>\n",
       "      <td>3</td>\n",
       "      <td>No Deposit</td>\n",
       "      <td>NaN</td>\n",
       "      <td>NaN</td>\n",
       "      <td>0</td>\n",
       "      <td>Transient</td>\n",
       "      <td>0.0</td>\n",
       "      <td>0</td>\n",
       "      <td>0</td>\n",
       "      <td>Check-Out</td>\n",
       "      <td>2015-07-01</td>\n",
       "    </tr>\n",
       "    <tr>\n",
       "      <th>1</th>\n",
       "      <td>Resort Hotel</td>\n",
       "      <td>0</td>\n",
       "      <td>737</td>\n",
       "      <td>2015</td>\n",
       "      <td>July</td>\n",
       "      <td>27</td>\n",
       "      <td>1</td>\n",
       "      <td>0</td>\n",
       "      <td>0</td>\n",
       "      <td>2</td>\n",
       "      <td>0.0</td>\n",
       "      <td>0</td>\n",
       "      <td>BB</td>\n",
       "      <td>PRT</td>\n",
       "      <td>Direct</td>\n",
       "      <td>Direct</td>\n",
       "      <td>0</td>\n",
       "      <td>0</td>\n",
       "      <td>0</td>\n",
       "      <td>C</td>\n",
       "      <td>C</td>\n",
       "      <td>4</td>\n",
       "      <td>No Deposit</td>\n",
       "      <td>NaN</td>\n",
       "      <td>NaN</td>\n",
       "      <td>0</td>\n",
       "      <td>Transient</td>\n",
       "      <td>0.0</td>\n",
       "      <td>0</td>\n",
       "      <td>0</td>\n",
       "      <td>Check-Out</td>\n",
       "      <td>2015-07-01</td>\n",
       "    </tr>\n",
       "    <tr>\n",
       "      <th>2</th>\n",
       "      <td>Resort Hotel</td>\n",
       "      <td>0</td>\n",
       "      <td>7</td>\n",
       "      <td>2015</td>\n",
       "      <td>July</td>\n",
       "      <td>27</td>\n",
       "      <td>1</td>\n",
       "      <td>0</td>\n",
       "      <td>1</td>\n",
       "      <td>1</td>\n",
       "      <td>0.0</td>\n",
       "      <td>0</td>\n",
       "      <td>BB</td>\n",
       "      <td>GBR</td>\n",
       "      <td>Direct</td>\n",
       "      <td>Direct</td>\n",
       "      <td>0</td>\n",
       "      <td>0</td>\n",
       "      <td>0</td>\n",
       "      <td>A</td>\n",
       "      <td>C</td>\n",
       "      <td>0</td>\n",
       "      <td>No Deposit</td>\n",
       "      <td>NaN</td>\n",
       "      <td>NaN</td>\n",
       "      <td>0</td>\n",
       "      <td>Transient</td>\n",
       "      <td>75.0</td>\n",
       "      <td>0</td>\n",
       "      <td>0</td>\n",
       "      <td>Check-Out</td>\n",
       "      <td>2015-07-02</td>\n",
       "    </tr>\n",
       "    <tr>\n",
       "      <th>3</th>\n",
       "      <td>Resort Hotel</td>\n",
       "      <td>0</td>\n",
       "      <td>13</td>\n",
       "      <td>2015</td>\n",
       "      <td>July</td>\n",
       "      <td>27</td>\n",
       "      <td>1</td>\n",
       "      <td>0</td>\n",
       "      <td>1</td>\n",
       "      <td>1</td>\n",
       "      <td>0.0</td>\n",
       "      <td>0</td>\n",
       "      <td>BB</td>\n",
       "      <td>GBR</td>\n",
       "      <td>Corporate</td>\n",
       "      <td>Corporate</td>\n",
       "      <td>0</td>\n",
       "      <td>0</td>\n",
       "      <td>0</td>\n",
       "      <td>A</td>\n",
       "      <td>A</td>\n",
       "      <td>0</td>\n",
       "      <td>No Deposit</td>\n",
       "      <td>304.0</td>\n",
       "      <td>NaN</td>\n",
       "      <td>0</td>\n",
       "      <td>Transient</td>\n",
       "      <td>75.0</td>\n",
       "      <td>0</td>\n",
       "      <td>0</td>\n",
       "      <td>Check-Out</td>\n",
       "      <td>2015-07-02</td>\n",
       "    </tr>\n",
       "    <tr>\n",
       "      <th>4</th>\n",
       "      <td>Resort Hotel</td>\n",
       "      <td>0</td>\n",
       "      <td>14</td>\n",
       "      <td>2015</td>\n",
       "      <td>July</td>\n",
       "      <td>27</td>\n",
       "      <td>1</td>\n",
       "      <td>0</td>\n",
       "      <td>2</td>\n",
       "      <td>2</td>\n",
       "      <td>0.0</td>\n",
       "      <td>0</td>\n",
       "      <td>BB</td>\n",
       "      <td>GBR</td>\n",
       "      <td>Online TA</td>\n",
       "      <td>TA/TO</td>\n",
       "      <td>0</td>\n",
       "      <td>0</td>\n",
       "      <td>0</td>\n",
       "      <td>A</td>\n",
       "      <td>A</td>\n",
       "      <td>0</td>\n",
       "      <td>No Deposit</td>\n",
       "      <td>240.0</td>\n",
       "      <td>NaN</td>\n",
       "      <td>0</td>\n",
       "      <td>Transient</td>\n",
       "      <td>98.0</td>\n",
       "      <td>0</td>\n",
       "      <td>1</td>\n",
       "      <td>Check-Out</td>\n",
       "      <td>2015-07-03</td>\n",
       "    </tr>\n",
       "  </tbody>\n",
       "</table>\n",
       "</div>"
      ],
      "text/plain": [
       "          hotel  is_canceled  lead_time  arrival_date_year arrival_date_month  \\\n",
       "0  Resort Hotel            0        342               2015               July   \n",
       "1  Resort Hotel            0        737               2015               July   \n",
       "2  Resort Hotel            0          7               2015               July   \n",
       "3  Resort Hotel            0         13               2015               July   \n",
       "4  Resort Hotel            0         14               2015               July   \n",
       "\n",
       "   arrival_date_week_number  arrival_date_day_of_month  \\\n",
       "0                        27                          1   \n",
       "1                        27                          1   \n",
       "2                        27                          1   \n",
       "3                        27                          1   \n",
       "4                        27                          1   \n",
       "\n",
       "   stays_in_weekend_nights  stays_in_week_nights  adults  children  babies  \\\n",
       "0                        0                     0       2       0.0       0   \n",
       "1                        0                     0       2       0.0       0   \n",
       "2                        0                     1       1       0.0       0   \n",
       "3                        0                     1       1       0.0       0   \n",
       "4                        0                     2       2       0.0       0   \n",
       "\n",
       "  meal country market_segment distribution_channel  is_repeated_guest  \\\n",
       "0   BB     PRT         Direct               Direct                  0   \n",
       "1   BB     PRT         Direct               Direct                  0   \n",
       "2   BB     GBR         Direct               Direct                  0   \n",
       "3   BB     GBR      Corporate            Corporate                  0   \n",
       "4   BB     GBR      Online TA                TA/TO                  0   \n",
       "\n",
       "   previous_cancellations  previous_bookings_not_canceled reserved_room_type  \\\n",
       "0                       0                               0                  C   \n",
       "1                       0                               0                  C   \n",
       "2                       0                               0                  A   \n",
       "3                       0                               0                  A   \n",
       "4                       0                               0                  A   \n",
       "\n",
       "  assigned_room_type  booking_changes deposit_type  agent  company  \\\n",
       "0                  C                3   No Deposit    NaN      NaN   \n",
       "1                  C                4   No Deposit    NaN      NaN   \n",
       "2                  C                0   No Deposit    NaN      NaN   \n",
       "3                  A                0   No Deposit  304.0      NaN   \n",
       "4                  A                0   No Deposit  240.0      NaN   \n",
       "\n",
       "   days_in_waiting_list customer_type   adr  required_car_parking_spaces  \\\n",
       "0                     0     Transient   0.0                            0   \n",
       "1                     0     Transient   0.0                            0   \n",
       "2                     0     Transient  75.0                            0   \n",
       "3                     0     Transient  75.0                            0   \n",
       "4                     0     Transient  98.0                            0   \n",
       "\n",
       "   total_of_special_requests reservation_status reservation_status_date  \n",
       "0                          0          Check-Out              2015-07-01  \n",
       "1                          0          Check-Out              2015-07-01  \n",
       "2                          0          Check-Out              2015-07-02  \n",
       "3                          0          Check-Out              2015-07-02  \n",
       "4                          1          Check-Out              2015-07-03  "
      ]
     },
     "execution_count": 2,
     "metadata": {},
     "output_type": "execute_result"
    }
   ],
   "source": [
    "# data head\n",
    "pd.set_option('max_columns', None)\n",
    "data.head()"
   ]
  },
  {
   "cell_type": "markdown",
   "metadata": {},
   "source": [
    "##  DATA OVERVIEW"
   ]
  },
  {
   "cell_type": "code",
   "execution_count": 3,
   "metadata": {},
   "outputs": [
    {
     "data": {
      "text/html": [
       "<div>\n",
       "<style scoped>\n",
       "    .dataframe tbody tr th:only-of-type {\n",
       "        vertical-align: middle;\n",
       "    }\n",
       "\n",
       "    .dataframe tbody tr th {\n",
       "        vertical-align: top;\n",
       "    }\n",
       "\n",
       "    .dataframe thead th {\n",
       "        text-align: right;\n",
       "    }\n",
       "</style>\n",
       "<table border=\"1\" class=\"dataframe\">\n",
       "  <thead>\n",
       "    <tr style=\"text-align: right;\">\n",
       "      <th></th>\n",
       "      <th>Data Features</th>\n",
       "      <th>Data Type</th>\n",
       "      <th>Null Count</th>\n",
       "      <th>Null %</th>\n",
       "      <th>N-Unique</th>\n",
       "      <th>Unique Sample</th>\n",
       "    </tr>\n",
       "  </thead>\n",
       "  <tbody>\n",
       "    <tr>\n",
       "      <th>0</th>\n",
       "      <td>hotel</td>\n",
       "      <td>object</td>\n",
       "      <td>0</td>\n",
       "      <td>0.00</td>\n",
       "      <td>2</td>\n",
       "      <td>[City Hotel, Resort Hotel]</td>\n",
       "    </tr>\n",
       "    <tr>\n",
       "      <th>1</th>\n",
       "      <td>is_canceled</td>\n",
       "      <td>int64</td>\n",
       "      <td>0</td>\n",
       "      <td>0.00</td>\n",
       "      <td>2</td>\n",
       "      <td>[1, 0]</td>\n",
       "    </tr>\n",
       "    <tr>\n",
       "      <th>2</th>\n",
       "      <td>lead_time</td>\n",
       "      <td>int64</td>\n",
       "      <td>0</td>\n",
       "      <td>0.00</td>\n",
       "      <td>479</td>\n",
       "      <td>[76, 296]</td>\n",
       "    </tr>\n",
       "    <tr>\n",
       "      <th>3</th>\n",
       "      <td>arrival_date_year</td>\n",
       "      <td>int64</td>\n",
       "      <td>0</td>\n",
       "      <td>0.00</td>\n",
       "      <td>3</td>\n",
       "      <td>[2016, 2017]</td>\n",
       "    </tr>\n",
       "    <tr>\n",
       "      <th>4</th>\n",
       "      <td>arrival_date_month</td>\n",
       "      <td>object</td>\n",
       "      <td>0</td>\n",
       "      <td>0.00</td>\n",
       "      <td>12</td>\n",
       "      <td>[March, May]</td>\n",
       "    </tr>\n",
       "    <tr>\n",
       "      <th>5</th>\n",
       "      <td>arrival_date_week_number</td>\n",
       "      <td>int64</td>\n",
       "      <td>0</td>\n",
       "      <td>0.00</td>\n",
       "      <td>53</td>\n",
       "      <td>[18, 7]</td>\n",
       "    </tr>\n",
       "    <tr>\n",
       "      <th>6</th>\n",
       "      <td>arrival_date_day_of_month</td>\n",
       "      <td>int64</td>\n",
       "      <td>0</td>\n",
       "      <td>0.00</td>\n",
       "      <td>31</td>\n",
       "      <td>[12, 3]</td>\n",
       "    </tr>\n",
       "    <tr>\n",
       "      <th>7</th>\n",
       "      <td>stays_in_weekend_nights</td>\n",
       "      <td>int64</td>\n",
       "      <td>0</td>\n",
       "      <td>0.00</td>\n",
       "      <td>17</td>\n",
       "      <td>[12, 7]</td>\n",
       "    </tr>\n",
       "    <tr>\n",
       "      <th>8</th>\n",
       "      <td>stays_in_week_nights</td>\n",
       "      <td>int64</td>\n",
       "      <td>0</td>\n",
       "      <td>0.00</td>\n",
       "      <td>35</td>\n",
       "      <td>[22, 16]</td>\n",
       "    </tr>\n",
       "    <tr>\n",
       "      <th>9</th>\n",
       "      <td>adults</td>\n",
       "      <td>int64</td>\n",
       "      <td>0</td>\n",
       "      <td>0.00</td>\n",
       "      <td>14</td>\n",
       "      <td>[6, 50]</td>\n",
       "    </tr>\n",
       "    <tr>\n",
       "      <th>10</th>\n",
       "      <td>children</td>\n",
       "      <td>float64</td>\n",
       "      <td>4</td>\n",
       "      <td>0.00</td>\n",
       "      <td>5</td>\n",
       "      <td>[1.0, 2.0]</td>\n",
       "    </tr>\n",
       "    <tr>\n",
       "      <th>11</th>\n",
       "      <td>babies</td>\n",
       "      <td>int64</td>\n",
       "      <td>0</td>\n",
       "      <td>0.00</td>\n",
       "      <td>5</td>\n",
       "      <td>[1, 10]</td>\n",
       "    </tr>\n",
       "    <tr>\n",
       "      <th>12</th>\n",
       "      <td>meal</td>\n",
       "      <td>object</td>\n",
       "      <td>0</td>\n",
       "      <td>0.00</td>\n",
       "      <td>5</td>\n",
       "      <td>[BB, FB]</td>\n",
       "    </tr>\n",
       "    <tr>\n",
       "      <th>13</th>\n",
       "      <td>country</td>\n",
       "      <td>object</td>\n",
       "      <td>488</td>\n",
       "      <td>0.41</td>\n",
       "      <td>177</td>\n",
       "      <td>[ARM, SYC]</td>\n",
       "    </tr>\n",
       "    <tr>\n",
       "      <th>14</th>\n",
       "      <td>market_segment</td>\n",
       "      <td>object</td>\n",
       "      <td>0</td>\n",
       "      <td>0.00</td>\n",
       "      <td>8</td>\n",
       "      <td>[Direct, Aviation]</td>\n",
       "    </tr>\n",
       "    <tr>\n",
       "      <th>15</th>\n",
       "      <td>distribution_channel</td>\n",
       "      <td>object</td>\n",
       "      <td>0</td>\n",
       "      <td>0.00</td>\n",
       "      <td>5</td>\n",
       "      <td>[TA/TO, Undefined]</td>\n",
       "    </tr>\n",
       "    <tr>\n",
       "      <th>16</th>\n",
       "      <td>is_repeated_guest</td>\n",
       "      <td>int64</td>\n",
       "      <td>0</td>\n",
       "      <td>0.00</td>\n",
       "      <td>2</td>\n",
       "      <td>[1, 0]</td>\n",
       "    </tr>\n",
       "    <tr>\n",
       "      <th>17</th>\n",
       "      <td>previous_cancellations</td>\n",
       "      <td>int64</td>\n",
       "      <td>0</td>\n",
       "      <td>0.00</td>\n",
       "      <td>15</td>\n",
       "      <td>[19, 4]</td>\n",
       "    </tr>\n",
       "    <tr>\n",
       "      <th>18</th>\n",
       "      <td>previous_bookings_not_canceled</td>\n",
       "      <td>int64</td>\n",
       "      <td>0</td>\n",
       "      <td>0.00</td>\n",
       "      <td>73</td>\n",
       "      <td>[61, 19]</td>\n",
       "    </tr>\n",
       "    <tr>\n",
       "      <th>19</th>\n",
       "      <td>reserved_room_type</td>\n",
       "      <td>object</td>\n",
       "      <td>0</td>\n",
       "      <td>0.00</td>\n",
       "      <td>10</td>\n",
       "      <td>[P, B]</td>\n",
       "    </tr>\n",
       "    <tr>\n",
       "      <th>20</th>\n",
       "      <td>assigned_room_type</td>\n",
       "      <td>object</td>\n",
       "      <td>0</td>\n",
       "      <td>0.00</td>\n",
       "      <td>12</td>\n",
       "      <td>[L, I]</td>\n",
       "    </tr>\n",
       "    <tr>\n",
       "      <th>21</th>\n",
       "      <td>booking_changes</td>\n",
       "      <td>int64</td>\n",
       "      <td>0</td>\n",
       "      <td>0.00</td>\n",
       "      <td>21</td>\n",
       "      <td>[12, 4]</td>\n",
       "    </tr>\n",
       "    <tr>\n",
       "      <th>22</th>\n",
       "      <td>deposit_type</td>\n",
       "      <td>object</td>\n",
       "      <td>0</td>\n",
       "      <td>0.00</td>\n",
       "      <td>3</td>\n",
       "      <td>[No Deposit, Non Refund]</td>\n",
       "    </tr>\n",
       "    <tr>\n",
       "      <th>23</th>\n",
       "      <td>agent</td>\n",
       "      <td>float64</td>\n",
       "      <td>16340</td>\n",
       "      <td>13.69</td>\n",
       "      <td>333</td>\n",
       "      <td>[476.0, 425.0]</td>\n",
       "    </tr>\n",
       "    <tr>\n",
       "      <th>24</th>\n",
       "      <td>company</td>\n",
       "      <td>float64</td>\n",
       "      <td>112593</td>\n",
       "      <td>94.31</td>\n",
       "      <td>352</td>\n",
       "      <td>[521.0, 254.0]</td>\n",
       "    </tr>\n",
       "    <tr>\n",
       "      <th>25</th>\n",
       "      <td>days_in_waiting_list</td>\n",
       "      <td>int64</td>\n",
       "      <td>0</td>\n",
       "      <td>0.00</td>\n",
       "      <td>128</td>\n",
       "      <td>[32, 69]</td>\n",
       "    </tr>\n",
       "    <tr>\n",
       "      <th>26</th>\n",
       "      <td>customer_type</td>\n",
       "      <td>object</td>\n",
       "      <td>0</td>\n",
       "      <td>0.00</td>\n",
       "      <td>4</td>\n",
       "      <td>[Transient, Contract]</td>\n",
       "    </tr>\n",
       "    <tr>\n",
       "      <th>27</th>\n",
       "      <td>adr</td>\n",
       "      <td>float64</td>\n",
       "      <td>0</td>\n",
       "      <td>0.00</td>\n",
       "      <td>8879</td>\n",
       "      <td>[87.91, 97.39]</td>\n",
       "    </tr>\n",
       "    <tr>\n",
       "      <th>28</th>\n",
       "      <td>required_car_parking_spaces</td>\n",
       "      <td>int64</td>\n",
       "      <td>0</td>\n",
       "      <td>0.00</td>\n",
       "      <td>5</td>\n",
       "      <td>[1, 2]</td>\n",
       "    </tr>\n",
       "    <tr>\n",
       "      <th>29</th>\n",
       "      <td>total_of_special_requests</td>\n",
       "      <td>int64</td>\n",
       "      <td>0</td>\n",
       "      <td>0.00</td>\n",
       "      <td>6</td>\n",
       "      <td>[4, 2]</td>\n",
       "    </tr>\n",
       "    <tr>\n",
       "      <th>30</th>\n",
       "      <td>reservation_status</td>\n",
       "      <td>object</td>\n",
       "      <td>0</td>\n",
       "      <td>0.00</td>\n",
       "      <td>3</td>\n",
       "      <td>[Check-Out, Canceled]</td>\n",
       "    </tr>\n",
       "    <tr>\n",
       "      <th>31</th>\n",
       "      <td>reservation_status_date</td>\n",
       "      <td>object</td>\n",
       "      <td>0</td>\n",
       "      <td>0.00</td>\n",
       "      <td>926</td>\n",
       "      <td>[2016-03-23, 2017-02-11]</td>\n",
       "    </tr>\n",
       "  </tbody>\n",
       "</table>\n",
       "</div>"
      ],
      "text/plain": [
       "                     Data Features Data Type  Null Count  Null %  N-Unique  \\\n",
       "0                            hotel    object           0    0.00         2   \n",
       "1                      is_canceled     int64           0    0.00         2   \n",
       "2                        lead_time     int64           0    0.00       479   \n",
       "3                arrival_date_year     int64           0    0.00         3   \n",
       "4               arrival_date_month    object           0    0.00        12   \n",
       "5         arrival_date_week_number     int64           0    0.00        53   \n",
       "6        arrival_date_day_of_month     int64           0    0.00        31   \n",
       "7          stays_in_weekend_nights     int64           0    0.00        17   \n",
       "8             stays_in_week_nights     int64           0    0.00        35   \n",
       "9                           adults     int64           0    0.00        14   \n",
       "10                        children   float64           4    0.00         5   \n",
       "11                          babies     int64           0    0.00         5   \n",
       "12                            meal    object           0    0.00         5   \n",
       "13                         country    object         488    0.41       177   \n",
       "14                  market_segment    object           0    0.00         8   \n",
       "15            distribution_channel    object           0    0.00         5   \n",
       "16               is_repeated_guest     int64           0    0.00         2   \n",
       "17          previous_cancellations     int64           0    0.00        15   \n",
       "18  previous_bookings_not_canceled     int64           0    0.00        73   \n",
       "19              reserved_room_type    object           0    0.00        10   \n",
       "20              assigned_room_type    object           0    0.00        12   \n",
       "21                 booking_changes     int64           0    0.00        21   \n",
       "22                    deposit_type    object           0    0.00         3   \n",
       "23                           agent   float64       16340   13.69       333   \n",
       "24                         company   float64      112593   94.31       352   \n",
       "25            days_in_waiting_list     int64           0    0.00       128   \n",
       "26                   customer_type    object           0    0.00         4   \n",
       "27                             adr   float64           0    0.00      8879   \n",
       "28     required_car_parking_spaces     int64           0    0.00         5   \n",
       "29       total_of_special_requests     int64           0    0.00         6   \n",
       "30              reservation_status    object           0    0.00         3   \n",
       "31         reservation_status_date    object           0    0.00       926   \n",
       "\n",
       "                 Unique Sample  \n",
       "0   [City Hotel, Resort Hotel]  \n",
       "1                       [1, 0]  \n",
       "2                    [76, 296]  \n",
       "3                 [2016, 2017]  \n",
       "4                 [March, May]  \n",
       "5                      [18, 7]  \n",
       "6                      [12, 3]  \n",
       "7                      [12, 7]  \n",
       "8                     [22, 16]  \n",
       "9                      [6, 50]  \n",
       "10                  [1.0, 2.0]  \n",
       "11                     [1, 10]  \n",
       "12                    [BB, FB]  \n",
       "13                  [ARM, SYC]  \n",
       "14          [Direct, Aviation]  \n",
       "15          [TA/TO, Undefined]  \n",
       "16                      [1, 0]  \n",
       "17                     [19, 4]  \n",
       "18                    [61, 19]  \n",
       "19                      [P, B]  \n",
       "20                      [L, I]  \n",
       "21                     [12, 4]  \n",
       "22    [No Deposit, Non Refund]  \n",
       "23              [476.0, 425.0]  \n",
       "24              [521.0, 254.0]  \n",
       "25                    [32, 69]  \n",
       "26       [Transient, Contract]  \n",
       "27              [87.91, 97.39]  \n",
       "28                      [1, 2]  \n",
       "29                      [4, 2]  \n",
       "30       [Check-Out, Canceled]  \n",
       "31    [2016-03-23, 2017-02-11]  "
      ]
     },
     "execution_count": 3,
     "metadata": {},
     "output_type": "execute_result"
    }
   ],
   "source": [
    "# data overview\n",
    "listItem = []\n",
    "for col in data.columns :\n",
    "    listItem.append([col, data[col].dtype, data[col].isna().sum(), round((data[col].isna().sum()/len(data[col])) * 100,2),\n",
    "                    data[col].nunique(), list(data[col].drop_duplicates().sample(2).values)]);\n",
    "\n",
    "dfDesc = pd.DataFrame(columns=['Data Features', 'Data Type', 'Null Count', 'Null %', 'N-Unique', 'Unique Sample'],\n",
    "                     data=listItem)\n",
    "dfDesc"
   ]
  },
  {
   "cell_type": "code",
   "execution_count": 4,
   "metadata": {},
   "outputs": [
    {
     "name": "stdout",
     "output_type": "stream",
     "text": [
      "raw data: (119390, 32)\n",
      "clean data: (118898, 30)\n"
     ]
    }
   ],
   "source": [
    "# dropping columns & then the remaining null rows\n",
    "mydata = data.drop(['agent','company'], axis=1)\n",
    "mydata = mydata.dropna()\n",
    "\n",
    "# resetting index\n",
    "mydata.reset_index(drop=True)\n",
    "\n",
    "# data's new shape\n",
    "print('raw data:',data.shape)\n",
    "print('clean data:',mydata.shape)"
   ]
  },
  {
   "cell_type": "markdown",
   "metadata": {},
   "source": [
    "## HISTOGRAM"
   ]
  },
  {
   "cell_type": "code",
   "execution_count": 5,
   "metadata": {},
   "outputs": [
    {
     "data": {
      "text/plain": [
       "Text(0, 0.5, 'Counts')"
      ]
     },
     "execution_count": 5,
     "metadata": {},
     "output_type": "execute_result"
    },
    {
     "data": {
      "image/png": "[encoded data removed]",
      "text/plain": [
       "<Figure size 432x288 with 1 Axes>"
      ]
     },
     "metadata": {
      "needs_background": "light"
     },
     "output_type": "display_data"
    }
   ],
   "source": [
    "# lead_time (how many days between order time & arrival time) histogram plot \n",
    "mydata['lead_time'].plot.hist(bins=30,rwidth=0.9,color='#607c8e')\n",
    "plt.title('Lead Time Days Histogram')\n",
    "plt.xlabel('Days')\n",
    "plt.ylabel('Counts')"
   ]
  },
  {
   "cell_type": "code",
   "execution_count": 6,
   "metadata": {},
   "outputs": [
    {
     "data": {
      "text/plain": [
       "Text(0.5, 0, 'Days')"
      ]
     },
     "execution_count": 6,
     "metadata": {},
     "output_type": "execute_result"
    },
    {
     "data": {
      "image/png": "[encoded data removed]",
      "text/plain": [
       "<Figure size 432x288 with 1 Axes>"
      ]
     },
     "metadata": {
      "needs_background": "light"
     },
     "output_type": "display_data"
    }
   ],
   "source": [
    "# lead_time (how many days between order time & arrival time) KDE/kernel density estimation \n",
    "sns.distplot(mydata['lead_time'],color='darkred')\n",
    "plt.title('Lead Time Days KDE')\n",
    "plt.xlabel('Days')"
   ]
  },
  {
   "cell_type": "markdown",
   "metadata": {},
   "source": [
    "## BASIC STATISTICS SUMMARY"
   ]
  },
  {
   "cell_type": "code",
   "execution_count": 7,
   "metadata": {},
   "outputs": [
    {
     "data": {
      "text/plain": [
       "count    118898.000000\n",
       "mean        104.311435\n",
       "std         106.903309\n",
       "min           0.000000\n",
       "25%          18.000000\n",
       "50%          69.000000\n",
       "75%         161.000000\n",
       "max         737.000000\n",
       "Name: lead_time, dtype: float64"
      ]
     },
     "execution_count": 7,
     "metadata": {},
     "output_type": "execute_result"
    }
   ],
   "source": [
    "# basic statistics summary\n",
    "mydata['lead_time'].describe()"
   ]
  },
  {
   "cell_type": "markdown",
   "metadata": {},
   "source": [
    "COUNT: \n",
    "    - There's 118,898 data points\n",
    "MEAN & STDEV: \n",
    "    - It has the mean of 104.3 days & stdev of 106.9 days\n",
    "    - If normally distributed, 68% of data is within the +-1 stdev (106 days) from mean\n",
    "      (Empirical Rule)\n",
    "    - If not normally distributed, at least 75% of data is within the +-2 stdev (106 days) from mean\n",
    "      (Chebyshev's Theorem)\n",
    "MEDIAN (50%): \n",
    "    - It has the median of 69 days, which is much lower than the mean. This means that there are extreme values \n",
    "      on the right side, pulling up the means significantly\n",
    "MIN, MAX, Q1 (25%) & Q3 (75%):\n",
    "    - Its lowest & highest value are 0 days & 737 days, respectively. Q1 is 18 days & Q3 is 161 days, \n",
    "      this means that the middle 50% of values (when ordered from lowest to highest) spreads from 18 to 161 days"
   ]
  },
  {
   "cell_type": "markdown",
   "metadata": {},
   "source": [
    "## COEFFICIENT OF VARIATION (CV)"
   ]
  },
  {
   "cell_type": "code",
   "execution_count": 8,
   "metadata": {},
   "outputs": [
    {
     "data": {
      "text/plain": [
       "1.0248474601600814"
      ]
     },
     "execution_count": 8,
     "metadata": {},
     "output_type": "execute_result"
    }
   ],
   "source": [
    "CV = mydata['lead_time'].describe()['std']/mydata['lead_time'].describe()['mean']\n",
    "CV"
   ]
  },
  {
   "cell_type": "markdown",
   "metadata": {},
   "source": [
    "- CV>1 = High Variance (The lower the value, the more precise the estimate [less dispersion/variance/risk])\n",
    "- Lead time feature has high variance"
   ]
  },
  {
   "cell_type": "markdown",
   "metadata": {},
   "source": [
    "## SKEWNESS & KURTOSIS"
   ]
  },
  {
   "cell_type": "code",
   "execution_count": 9,
   "metadata": {},
   "outputs": [
    {
     "name": "stdout",
     "output_type": "stream",
     "text": [
      "Skewness: 1.3444057917324832, \n",
      "Kurtosis: 1.690329417393432\n"
     ]
    }
   ],
   "source": [
    "from scipy.stats import shapiro, skew, kurtosis\n",
    "\n",
    "print('Skewness: {}, \\nKurtosis: {}'.format(skew(mydata['lead_time']),kurtosis(mydata[\"lead_time\"])))"
   ]
  },
  {
   "cell_type": "markdown",
   "metadata": {},
   "source": [
    "SKEWNESS: \n",
    "    - A positive value of 1.34 means that extreme values are concentrated on the right tail \n",
    "      (Right/Positive Skewed)\n",
    "    - A negative value means the opposite (Left/Negative Skewed)\n",
    "    - A zero value means normal/symmetric distribution\n",
    "KURTOSIS: \n",
    "    - A positive value of 1.69 means that it has fatter tails than normal distribution. \n",
    "      Which means that there's higher likelihood of outliers compared to the normal distribution (Fatter Tails)\n",
    "    - A negative value means its the opposite (Thinner Tails)\n",
    "    - A zero value means normal/symmetric distribution"
   ]
  },
  {
   "cell_type": "markdown",
   "metadata": {},
   "source": [
    "## BOXPLOT"
   ]
  },
  {
   "cell_type": "code",
   "execution_count": 10,
   "metadata": {},
   "outputs": [
    {
     "data": {
      "text/plain": [
       "Text(0.5, 0, 'Days')"
      ]
     },
     "execution_count": 10,
     "metadata": {},
     "output_type": "execute_result"
    },
    {
     "data": {
      "image/png": "[encoded data removed]",
      "text/plain": [
       "<Figure size 432x288 with 1 Axes>"
      ]
     },
     "metadata": {},
     "output_type": "display_data"
    }
   ],
   "source": [
    "sns.set_style('whitegrid')\n",
    "sns.boxplot(x=mydata['lead_time'],palette=\"Set3\")\n",
    "plt.title('Lead Time Days Boxplot')\n",
    "plt.xlabel('Days')"
   ]
  },
  {
   "cell_type": "markdown",
   "metadata": {},
   "source": [
    "- the dots right to/beyond the outlier mark (375.5 days) are outliers\n",
    "- the blue box represent the IQR (the start of the box is Q1, the end of the box is Q3)\n",
    "- the middle line of the blue box represents Q2/Median"
   ]
  },
  {
   "cell_type": "markdown",
   "metadata": {},
   "source": [
    "## IQR & OUTLIERS (UNIVARIATE OUTLIER)"
   ]
  },
  {
   "cell_type": "code",
   "execution_count": 11,
   "metadata": {},
   "outputs": [
    {
     "name": "stdout",
     "output_type": "stream",
     "text": [
      "143.0 days is the spread of the middle 50% of values of this data\n"
     ]
    }
   ],
   "source": [
    "Q1, Q3 = np.percentile(mydata['lead_time'], [25 ,75])\n",
    "IQR = Q3-Q1\n",
    "print(IQR,\"days is the spread of the middle 50% of values of this data\")"
   ]
  },
  {
   "cell_type": "code",
   "execution_count": 12,
   "metadata": {},
   "outputs": [
    {
     "data": {
      "text/plain": [
       "-196.5"
      ]
     },
     "execution_count": 12,
     "metadata": {},
     "output_type": "execute_result"
    }
   ],
   "source": [
    "Q1 - (1.5*IQR) # the bottom limit for outlier, lower than that = outlier"
   ]
  },
  {
   "cell_type": "code",
   "execution_count": 13,
   "metadata": {},
   "outputs": [
    {
     "data": {
      "text/plain": [
       "375.5"
      ]
     },
     "execution_count": 13,
     "metadata": {},
     "output_type": "execute_result"
    }
   ],
   "source": [
    "Q3 + (1.5*IQR) # the top limit for outlier, higher than that = outlier"
   ]
  },
  {
   "cell_type": "code",
   "execution_count": 15,
   "metadata": {},
   "outputs": [
    {
     "name": "stdout",
     "output_type": "stream",
     "text": [
      "2982 univariate outliers\n"
     ]
    }
   ],
   "source": [
    "# total univariate outliers\n",
    "print(len(mydata[mydata['lead_time'] > 375.5]),\"univariate outliers\")"
   ]
  },
  {
   "cell_type": "markdown",
   "metadata": {},
   "source": [
    "## MAHALANOBIS & OUTLIERS (MULTIVARIATE OUTLIER)"
   ]
  },
  {
   "cell_type": "code",
   "execution_count": 16,
   "metadata": {},
   "outputs": [],
   "source": [
    "from mahalanobis import Mahalanobis\n",
    "\n",
    "data_test = mydata[['lead_time','adr','previous_cancellations','total_of_special_requests']]"
   ]
  },
  {
   "cell_type": "code",
   "execution_count": 17,
   "metadata": {},
   "outputs": [
    {
     "data": {
      "text/html": [
       "<div>\n",
       "<style scoped>\n",
       "    .dataframe tbody tr th:only-of-type {\n",
       "        vertical-align: middle;\n",
       "    }\n",
       "\n",
       "    .dataframe tbody tr th {\n",
       "        vertical-align: top;\n",
       "    }\n",
       "\n",
       "    .dataframe thead th {\n",
       "        text-align: right;\n",
       "    }\n",
       "</style>\n",
       "<table border=\"1\" class=\"dataframe\">\n",
       "  <thead>\n",
       "    <tr style=\"text-align: right;\">\n",
       "      <th></th>\n",
       "      <th>lead_time</th>\n",
       "      <th>adr</th>\n",
       "      <th>previous_cancellations</th>\n",
       "      <th>total_of_special_requests</th>\n",
       "      <th>mahala_pack</th>\n",
       "    </tr>\n",
       "  </thead>\n",
       "  <tbody>\n",
       "    <tr>\n",
       "      <th>0</th>\n",
       "      <td>342</td>\n",
       "      <td>0.0</td>\n",
       "      <td>0</td>\n",
       "      <td>0</td>\n",
       "      <td>2.946130</td>\n",
       "    </tr>\n",
       "    <tr>\n",
       "      <th>1</th>\n",
       "      <td>737</td>\n",
       "      <td>0.0</td>\n",
       "      <td>0</td>\n",
       "      <td>0</td>\n",
       "      <td>6.181233</td>\n",
       "    </tr>\n",
       "    <tr>\n",
       "      <th>2</th>\n",
       "      <td>7</td>\n",
       "      <td>75.0</td>\n",
       "      <td>0</td>\n",
       "      <td>0</td>\n",
       "      <td>1.309742</td>\n",
       "    </tr>\n",
       "  </tbody>\n",
       "</table>\n",
       "</div>"
      ],
      "text/plain": [
       "   lead_time   adr  previous_cancellations  total_of_special_requests  \\\n",
       "0        342   0.0                       0                          0   \n",
       "1        737   0.0                       0                          0   \n",
       "2          7  75.0                       0                          0   \n",
       "\n",
       "   mahala_pack  \n",
       "0     2.946130  \n",
       "1     6.181233  \n",
       "2     1.309742  "
      ]
     },
     "execution_count": 17,
     "metadata": {},
     "output_type": "execute_result"
    }
   ],
   "source": [
    "# creating Mahala pack column\n",
    "data_test['mahala_pack'] = Mahalanobis(np.array(data_test),len(data_test)).distances\n",
    "data_test.head(3)"
   ]
  },
  {
   "cell_type": "code",
   "execution_count": 18,
   "metadata": {},
   "outputs": [
    {
     "data": {
      "text/plain": [
       "11.344866730144373"
      ]
     },
     "execution_count": 18,
     "metadata": {},
     "output_type": "execute_result"
    }
   ],
   "source": [
    "# finding the Mahala distance outlier limit\n",
    "from scipy.stats import chi2\n",
    "chi2.ppf((1-0.01), df=3)"
   ]
  },
  {
   "cell_type": "markdown",
   "metadata": {},
   "source": [
    "- Mahala distance more than 11.34 is considered as an outlier\n",
    "- df (degree of freedom) = 3 ---> number of features minus 1 (4-1= 3)\n",
    "- if using p-value then: \n",
    "        - H0 === not outlier (no significant differences)\n",
    "        - H1 === outlier (there's significant differences)"
   ]
  },
  {
   "cell_type": "code",
   "execution_count": 20,
   "metadata": {
    "scrolled": true
   },
   "outputs": [
    {
     "data": {
      "text/html": [
       "<div>\n",
       "<style scoped>\n",
       "    .dataframe tbody tr th:only-of-type {\n",
       "        vertical-align: middle;\n",
       "    }\n",
       "\n",
       "    .dataframe tbody tr th {\n",
       "        vertical-align: top;\n",
       "    }\n",
       "\n",
       "    .dataframe thead th {\n",
       "        text-align: right;\n",
       "    }\n",
       "</style>\n",
       "<table border=\"1\" class=\"dataframe\">\n",
       "  <thead>\n",
       "    <tr style=\"text-align: right;\">\n",
       "      <th></th>\n",
       "      <th>hotel</th>\n",
       "      <th>is_canceled</th>\n",
       "      <th>lead_time</th>\n",
       "      <th>arrival_date_year</th>\n",
       "      <th>arrival_date_month</th>\n",
       "      <th>arrival_date_week_number</th>\n",
       "      <th>arrival_date_day_of_month</th>\n",
       "      <th>stays_in_weekend_nights</th>\n",
       "      <th>stays_in_week_nights</th>\n",
       "      <th>adults</th>\n",
       "      <th>children</th>\n",
       "      <th>babies</th>\n",
       "      <th>meal</th>\n",
       "      <th>country</th>\n",
       "      <th>market_segment</th>\n",
       "      <th>distribution_channel</th>\n",
       "      <th>is_repeated_guest</th>\n",
       "      <th>previous_cancellations</th>\n",
       "      <th>previous_bookings_not_canceled</th>\n",
       "      <th>reserved_room_type</th>\n",
       "      <th>assigned_room_type</th>\n",
       "      <th>booking_changes</th>\n",
       "      <th>deposit_type</th>\n",
       "      <th>days_in_waiting_list</th>\n",
       "      <th>customer_type</th>\n",
       "      <th>adr</th>\n",
       "      <th>required_car_parking_spaces</th>\n",
       "      <th>total_of_special_requests</th>\n",
       "      <th>reservation_status</th>\n",
       "      <th>reservation_status_date</th>\n",
       "      <th>outlier</th>\n",
       "    </tr>\n",
       "  </thead>\n",
       "  <tbody>\n",
       "    <tr>\n",
       "      <th>0</th>\n",
       "      <td>Resort Hotel</td>\n",
       "      <td>0</td>\n",
       "      <td>342</td>\n",
       "      <td>2015</td>\n",
       "      <td>July</td>\n",
       "      <td>27</td>\n",
       "      <td>1</td>\n",
       "      <td>0</td>\n",
       "      <td>0</td>\n",
       "      <td>2</td>\n",
       "      <td>0.0</td>\n",
       "      <td>0</td>\n",
       "      <td>BB</td>\n",
       "      <td>PRT</td>\n",
       "      <td>Direct</td>\n",
       "      <td>Direct</td>\n",
       "      <td>0</td>\n",
       "      <td>0</td>\n",
       "      <td>0</td>\n",
       "      <td>C</td>\n",
       "      <td>C</td>\n",
       "      <td>3</td>\n",
       "      <td>No Deposit</td>\n",
       "      <td>0</td>\n",
       "      <td>Transient</td>\n",
       "      <td>0.0</td>\n",
       "      <td>0</td>\n",
       "      <td>0</td>\n",
       "      <td>Check-Out</td>\n",
       "      <td>2015-07-01</td>\n",
       "      <td>NotOutlier</td>\n",
       "    </tr>\n",
       "    <tr>\n",
       "      <th>1</th>\n",
       "      <td>Resort Hotel</td>\n",
       "      <td>0</td>\n",
       "      <td>737</td>\n",
       "      <td>2015</td>\n",
       "      <td>July</td>\n",
       "      <td>27</td>\n",
       "      <td>1</td>\n",
       "      <td>0</td>\n",
       "      <td>0</td>\n",
       "      <td>2</td>\n",
       "      <td>0.0</td>\n",
       "      <td>0</td>\n",
       "      <td>BB</td>\n",
       "      <td>PRT</td>\n",
       "      <td>Direct</td>\n",
       "      <td>Direct</td>\n",
       "      <td>0</td>\n",
       "      <td>0</td>\n",
       "      <td>0</td>\n",
       "      <td>C</td>\n",
       "      <td>C</td>\n",
       "      <td>4</td>\n",
       "      <td>No Deposit</td>\n",
       "      <td>0</td>\n",
       "      <td>Transient</td>\n",
       "      <td>0.0</td>\n",
       "      <td>0</td>\n",
       "      <td>0</td>\n",
       "      <td>Check-Out</td>\n",
       "      <td>2015-07-01</td>\n",
       "      <td>NotOutlier</td>\n",
       "    </tr>\n",
       "    <tr>\n",
       "      <th>2</th>\n",
       "      <td>Resort Hotel</td>\n",
       "      <td>0</td>\n",
       "      <td>7</td>\n",
       "      <td>2015</td>\n",
       "      <td>July</td>\n",
       "      <td>27</td>\n",
       "      <td>1</td>\n",
       "      <td>0</td>\n",
       "      <td>1</td>\n",
       "      <td>1</td>\n",
       "      <td>0.0</td>\n",
       "      <td>0</td>\n",
       "      <td>BB</td>\n",
       "      <td>GBR</td>\n",
       "      <td>Direct</td>\n",
       "      <td>Direct</td>\n",
       "      <td>0</td>\n",
       "      <td>0</td>\n",
       "      <td>0</td>\n",
       "      <td>A</td>\n",
       "      <td>C</td>\n",
       "      <td>0</td>\n",
       "      <td>No Deposit</td>\n",
       "      <td>0</td>\n",
       "      <td>Transient</td>\n",
       "      <td>75.0</td>\n",
       "      <td>0</td>\n",
       "      <td>0</td>\n",
       "      <td>Check-Out</td>\n",
       "      <td>2015-07-02</td>\n",
       "      <td>NotOutlier</td>\n",
       "    </tr>\n",
       "  </tbody>\n",
       "</table>\n",
       "</div>"
      ],
      "text/plain": [
       "          hotel  is_canceled  lead_time  arrival_date_year arrival_date_month  \\\n",
       "0  Resort Hotel            0        342               2015               July   \n",
       "1  Resort Hotel            0        737               2015               July   \n",
       "2  Resort Hotel            0          7               2015               July   \n",
       "\n",
       "   arrival_date_week_number  arrival_date_day_of_month  \\\n",
       "0                        27                          1   \n",
       "1                        27                          1   \n",
       "2                        27                          1   \n",
       "\n",
       "   stays_in_weekend_nights  stays_in_week_nights  adults  children  babies  \\\n",
       "0                        0                     0       2       0.0       0   \n",
       "1                        0                     0       2       0.0       0   \n",
       "2                        0                     1       1       0.0       0   \n",
       "\n",
       "  meal country market_segment distribution_channel  is_repeated_guest  \\\n",
       "0   BB     PRT         Direct               Direct                  0   \n",
       "1   BB     PRT         Direct               Direct                  0   \n",
       "2   BB     GBR         Direct               Direct                  0   \n",
       "\n",
       "   previous_cancellations  previous_bookings_not_canceled reserved_room_type  \\\n",
       "0                       0                               0                  C   \n",
       "1                       0                               0                  C   \n",
       "2                       0                               0                  A   \n",
       "\n",
       "  assigned_room_type  booking_changes deposit_type  days_in_waiting_list  \\\n",
       "0                  C                3   No Deposit                     0   \n",
       "1                  C                4   No Deposit                     0   \n",
       "2                  C                0   No Deposit                     0   \n",
       "\n",
       "  customer_type   adr  required_car_parking_spaces  total_of_special_requests  \\\n",
       "0     Transient   0.0                            0                          0   \n",
       "1     Transient   0.0                            0                          0   \n",
       "2     Transient  75.0                            0                          0   \n",
       "\n",
       "  reservation_status reservation_status_date     outlier  \n",
       "0          Check-Out              2015-07-01  NotOutlier  \n",
       "1          Check-Out              2015-07-01  NotOutlier  \n",
       "2          Check-Out              2015-07-02  NotOutlier  "
      ]
     },
     "execution_count": 20,
     "metadata": {},
     "output_type": "execute_result"
    }
   ],
   "source": [
    "# creating p-value column\n",
    "data_test['p-value'] = 1 - chi2.cdf(data_test['mahala_pack'], 3) # 3 is the df\n",
    "\n",
    "# defining outlier\n",
    "def name_outlier(col):\n",
    "    if col < 0.01:\n",
    "        return 'Outlier'\n",
    "    else:\n",
    "        return 'NotOutlier'\n",
    "\n",
    "# applying function back to original-cleaned data\n",
    "mydata['outlier'] = data_test['p-value'].apply(name_outlier)\n",
    "mydata.head(3)"
   ]
  },
  {
   "cell_type": "code",
   "execution_count": 21,
   "metadata": {},
   "outputs": [
    {
     "data": {
      "text/html": [
       "<div>\n",
       "<style scoped>\n",
       "    .dataframe tbody tr th:only-of-type {\n",
       "        vertical-align: middle;\n",
       "    }\n",
       "\n",
       "    .dataframe tbody tr th {\n",
       "        vertical-align: top;\n",
       "    }\n",
       "\n",
       "    .dataframe thead th {\n",
       "        text-align: right;\n",
       "    }\n",
       "</style>\n",
       "<table border=\"1\" class=\"dataframe\">\n",
       "  <thead>\n",
       "    <tr style=\"text-align: right;\">\n",
       "      <th></th>\n",
       "      <th>hotel</th>\n",
       "      <th>is_canceled</th>\n",
       "      <th>lead_time</th>\n",
       "      <th>arrival_date_year</th>\n",
       "      <th>arrival_date_month</th>\n",
       "      <th>arrival_date_week_number</th>\n",
       "      <th>arrival_date_day_of_month</th>\n",
       "      <th>stays_in_weekend_nights</th>\n",
       "      <th>stays_in_week_nights</th>\n",
       "      <th>adults</th>\n",
       "      <th>children</th>\n",
       "      <th>babies</th>\n",
       "      <th>meal</th>\n",
       "      <th>country</th>\n",
       "      <th>market_segment</th>\n",
       "      <th>distribution_channel</th>\n",
       "      <th>is_repeated_guest</th>\n",
       "      <th>previous_cancellations</th>\n",
       "      <th>previous_bookings_not_canceled</th>\n",
       "      <th>reserved_room_type</th>\n",
       "      <th>assigned_room_type</th>\n",
       "      <th>booking_changes</th>\n",
       "      <th>deposit_type</th>\n",
       "      <th>days_in_waiting_list</th>\n",
       "      <th>customer_type</th>\n",
       "      <th>adr</th>\n",
       "      <th>required_car_parking_spaces</th>\n",
       "      <th>total_of_special_requests</th>\n",
       "      <th>reservation_status</th>\n",
       "      <th>reservation_status_date</th>\n",
       "      <th>outlier</th>\n",
       "    </tr>\n",
       "  </thead>\n",
       "  <tbody>\n",
       "    <tr>\n",
       "      <th>15151</th>\n",
       "      <td>Resort Hotel</td>\n",
       "      <td>1</td>\n",
       "      <td>244</td>\n",
       "      <td>2015</td>\n",
       "      <td>September</td>\n",
       "      <td>36</td>\n",
       "      <td>2</td>\n",
       "      <td>2</td>\n",
       "      <td>5</td>\n",
       "      <td>2</td>\n",
       "      <td>0.0</td>\n",
       "      <td>0</td>\n",
       "      <td>BB</td>\n",
       "      <td>IRL</td>\n",
       "      <td>Groups</td>\n",
       "      <td>TA/TO</td>\n",
       "      <td>0</td>\n",
       "      <td>24</td>\n",
       "      <td>0</td>\n",
       "      <td>A</td>\n",
       "      <td>A</td>\n",
       "      <td>0</td>\n",
       "      <td>No Deposit</td>\n",
       "      <td>0</td>\n",
       "      <td>Transient-Party</td>\n",
       "      <td>8.00</td>\n",
       "      <td>0</td>\n",
       "      <td>0</td>\n",
       "      <td>Canceled</td>\n",
       "      <td>2015-06-17</td>\n",
       "      <td>Outlier</td>\n",
       "    </tr>\n",
       "    <tr>\n",
       "      <th>14785</th>\n",
       "      <td>Resort Hotel</td>\n",
       "      <td>1</td>\n",
       "      <td>275</td>\n",
       "      <td>2015</td>\n",
       "      <td>October</td>\n",
       "      <td>41</td>\n",
       "      <td>4</td>\n",
       "      <td>2</td>\n",
       "      <td>0</td>\n",
       "      <td>2</td>\n",
       "      <td>0.0</td>\n",
       "      <td>0</td>\n",
       "      <td>HB</td>\n",
       "      <td>PRT</td>\n",
       "      <td>Offline TA/TO</td>\n",
       "      <td>TA/TO</td>\n",
       "      <td>0</td>\n",
       "      <td>26</td>\n",
       "      <td>0</td>\n",
       "      <td>A</td>\n",
       "      <td>A</td>\n",
       "      <td>0</td>\n",
       "      <td>Non Refund</td>\n",
       "      <td>0</td>\n",
       "      <td>Transient</td>\n",
       "      <td>50.00</td>\n",
       "      <td>0</td>\n",
       "      <td>0</td>\n",
       "      <td>Canceled</td>\n",
       "      <td>2015-01-30</td>\n",
       "      <td>Outlier</td>\n",
       "    </tr>\n",
       "    <tr>\n",
       "      <th>80053</th>\n",
       "      <td>City Hotel</td>\n",
       "      <td>0</td>\n",
       "      <td>1</td>\n",
       "      <td>2016</td>\n",
       "      <td>February</td>\n",
       "      <td>7</td>\n",
       "      <td>12</td>\n",
       "      <td>0</td>\n",
       "      <td>2</td>\n",
       "      <td>2</td>\n",
       "      <td>0.0</td>\n",
       "      <td>0</td>\n",
       "      <td>SC</td>\n",
       "      <td>PRT</td>\n",
       "      <td>Online TA</td>\n",
       "      <td>TA/TO</td>\n",
       "      <td>1</td>\n",
       "      <td>11</td>\n",
       "      <td>22</td>\n",
       "      <td>A</td>\n",
       "      <td>A</td>\n",
       "      <td>0</td>\n",
       "      <td>No Deposit</td>\n",
       "      <td>0</td>\n",
       "      <td>Transient</td>\n",
       "      <td>79.00</td>\n",
       "      <td>0</td>\n",
       "      <td>1</td>\n",
       "      <td>Check-Out</td>\n",
       "      <td>2016-02-14</td>\n",
       "      <td>Outlier</td>\n",
       "    </tr>\n",
       "    <tr>\n",
       "      <th>14985</th>\n",
       "      <td>Resort Hotel</td>\n",
       "      <td>1</td>\n",
       "      <td>166</td>\n",
       "      <td>2015</td>\n",
       "      <td>July</td>\n",
       "      <td>29</td>\n",
       "      <td>15</td>\n",
       "      <td>0</td>\n",
       "      <td>2</td>\n",
       "      <td>2</td>\n",
       "      <td>0.0</td>\n",
       "      <td>0</td>\n",
       "      <td>FB</td>\n",
       "      <td>PRT</td>\n",
       "      <td>Groups</td>\n",
       "      <td>TA/TO</td>\n",
       "      <td>0</td>\n",
       "      <td>24</td>\n",
       "      <td>0</td>\n",
       "      <td>A</td>\n",
       "      <td>A</td>\n",
       "      <td>0</td>\n",
       "      <td>Non Refund</td>\n",
       "      <td>0</td>\n",
       "      <td>Transient</td>\n",
       "      <td>121.50</td>\n",
       "      <td>0</td>\n",
       "      <td>0</td>\n",
       "      <td>Canceled</td>\n",
       "      <td>2015-04-28</td>\n",
       "      <td>Outlier</td>\n",
       "    </tr>\n",
       "    <tr>\n",
       "      <th>14840</th>\n",
       "      <td>Resort Hotel</td>\n",
       "      <td>1</td>\n",
       "      <td>222</td>\n",
       "      <td>2015</td>\n",
       "      <td>September</td>\n",
       "      <td>38</td>\n",
       "      <td>15</td>\n",
       "      <td>1</td>\n",
       "      <td>5</td>\n",
       "      <td>2</td>\n",
       "      <td>0.0</td>\n",
       "      <td>0</td>\n",
       "      <td>FB</td>\n",
       "      <td>PRT</td>\n",
       "      <td>Groups</td>\n",
       "      <td>Corporate</td>\n",
       "      <td>0</td>\n",
       "      <td>25</td>\n",
       "      <td>0</td>\n",
       "      <td>A</td>\n",
       "      <td>A</td>\n",
       "      <td>0</td>\n",
       "      <td>Non Refund</td>\n",
       "      <td>0</td>\n",
       "      <td>Transient</td>\n",
       "      <td>49.95</td>\n",
       "      <td>0</td>\n",
       "      <td>0</td>\n",
       "      <td>Canceled</td>\n",
       "      <td>2015-03-03</td>\n",
       "      <td>Outlier</td>\n",
       "    </tr>\n",
       "  </tbody>\n",
       "</table>\n",
       "</div>"
      ],
      "text/plain": [
       "              hotel  is_canceled  lead_time  arrival_date_year  \\\n",
       "15151  Resort Hotel            1        244               2015   \n",
       "14785  Resort Hotel            1        275               2015   \n",
       "80053    City Hotel            0          1               2016   \n",
       "14985  Resort Hotel            1        166               2015   \n",
       "14840  Resort Hotel            1        222               2015   \n",
       "\n",
       "      arrival_date_month  arrival_date_week_number  arrival_date_day_of_month  \\\n",
       "15151          September                        36                          2   \n",
       "14785            October                        41                          4   \n",
       "80053           February                         7                         12   \n",
       "14985               July                        29                         15   \n",
       "14840          September                        38                         15   \n",
       "\n",
       "       stays_in_weekend_nights  stays_in_week_nights  adults  children  \\\n",
       "15151                        2                     5       2       0.0   \n",
       "14785                        2                     0       2       0.0   \n",
       "80053                        0                     2       2       0.0   \n",
       "14985                        0                     2       2       0.0   \n",
       "14840                        1                     5       2       0.0   \n",
       "\n",
       "       babies meal country market_segment distribution_channel  \\\n",
       "15151       0   BB     IRL         Groups                TA/TO   \n",
       "14785       0   HB     PRT  Offline TA/TO                TA/TO   \n",
       "80053       0   SC     PRT      Online TA                TA/TO   \n",
       "14985       0   FB     PRT         Groups                TA/TO   \n",
       "14840       0   FB     PRT         Groups            Corporate   \n",
       "\n",
       "       is_repeated_guest  previous_cancellations  \\\n",
       "15151                  0                      24   \n",
       "14785                  0                      26   \n",
       "80053                  1                      11   \n",
       "14985                  0                      24   \n",
       "14840                  0                      25   \n",
       "\n",
       "       previous_bookings_not_canceled reserved_room_type assigned_room_type  \\\n",
       "15151                               0                  A                  A   \n",
       "14785                               0                  A                  A   \n",
       "80053                              22                  A                  A   \n",
       "14985                               0                  A                  A   \n",
       "14840                               0                  A                  A   \n",
       "\n",
       "       booking_changes deposit_type  days_in_waiting_list    customer_type  \\\n",
       "15151                0   No Deposit                     0  Transient-Party   \n",
       "14785                0   Non Refund                     0        Transient   \n",
       "80053                0   No Deposit                     0        Transient   \n",
       "14985                0   Non Refund                     0        Transient   \n",
       "14840                0   Non Refund                     0        Transient   \n",
       "\n",
       "          adr  required_car_parking_spaces  total_of_special_requests  \\\n",
       "15151    8.00                            0                          0   \n",
       "14785   50.00                            0                          0   \n",
       "80053   79.00                            0                          1   \n",
       "14985  121.50                            0                          0   \n",
       "14840   49.95                            0                          0   \n",
       "\n",
       "      reservation_status reservation_status_date  outlier  \n",
       "15151           Canceled              2015-06-17  Outlier  \n",
       "14785           Canceled              2015-01-30  Outlier  \n",
       "80053          Check-Out              2016-02-14  Outlier  \n",
       "14985           Canceled              2015-04-28  Outlier  \n",
       "14840           Canceled              2015-03-03  Outlier  "
      ]
     },
     "execution_count": 21,
     "metadata": {},
     "output_type": "execute_result"
    }
   ],
   "source": [
    "# sampling 5 outliers\n",
    "mydata[mydata['outlier']=='Outlier'].sample(5)"
   ]
  },
  {
   "cell_type": "code",
   "execution_count": 22,
   "metadata": {
    "scrolled": true
   },
   "outputs": [
    {
     "name": "stdout",
     "output_type": "stream",
     "text": [
      "181 multivariate outliers\n"
     ]
    }
   ],
   "source": [
    "# total multivariate outliers\n",
    "print(len(mydata[mydata['outlier']=='Outlier']),\"multivariate outliers\")"
   ]
  },
  {
   "cell_type": "markdown",
   "metadata": {},
   "source": [
    "## MULTIPLE DISTPLOTS, JOINTPLOTS & REGRESSION LINE"
   ]
  },
  {
   "cell_type": "code",
   "execution_count": 243,
   "metadata": {},
   "outputs": [
    {
     "data": {
      "text/plain": [
       "<matplotlib.legend.Legend at 0x2561435e188>"
      ]
     },
     "execution_count": 243,
     "metadata": {},
     "output_type": "execute_result"
    },
    {
     "data": {
      "image/png": "[encoded data removed]",
      "text/plain": [
       "<Figure size 432x288 with 1 Axes>"
      ]
     },
     "metadata": {},
     "output_type": "display_data"
    }
   ],
   "source": [
    "# define the parameters\n",
    "nobs = 10**5\n",
    "\n",
    "# generate the random variables \n",
    "np.random.seed(42)\n",
    "x = np.random.normal(1, 1.5, nobs)\n",
    "y = np.random.normal(2, 2, nobs)\n",
    "\n",
    "# plot the variables\n",
    "sns.distplot(x, color=\"skyblue\", label=\"x\")\n",
    "sns.distplot(y, color=\"red\", label=\"y\")\n",
    "plt.legend()"
   ]
  },
  {
   "cell_type": "code",
   "execution_count": 267,
   "metadata": {},
   "outputs": [
    {
     "data": {
      "text/plain": [
       "<matplotlib.legend.Legend at 0x2561659cac8>"
      ]
     },
     "execution_count": 267,
     "metadata": {},
     "output_type": "execute_result"
    },
    {
     "data": {
      "image/png": "[encoded data removed]",
      "text/plain": [
       "<Figure size 432x288 with 1 Axes>"
      ]
     },
     "metadata": {},
     "output_type": "display_data"
    }
   ],
   "source": [
    "# scaling data\n",
    "from sklearn.preprocessing import StandardScaler\n",
    "scaler = StandardScaler()\n",
    "a = scaler.fit_transform(mydata[['adr','lead_time']])\n",
    "non_repeater = mydata[mydata['repeater']==0]['lead_time']\n",
    "repeater = mydata[mydata['repeater']==1]['lead_time']\n",
    "\n",
    "# plot the variables\n",
    "sns.distplot(non_repeater, color=\"skyblue\", label=\"non-repeater\")\n",
    "sns.distplot(repeater, color=\"red\", label=\"repeater\")\n",
    "plt.legend()"
   ]
  },
  {
   "cell_type": "code",
   "execution_count": 98,
   "metadata": {},
   "outputs": [
    {
     "data": {
      "text/plain": [
       "<seaborn.axisgrid.JointGrid at 0x2a8d3ccaf48>"
      ]
     },
     "execution_count": 98,
     "metadata": {},
     "output_type": "execute_result"
    },
    {
     "data": {
      "image/png": "[encoded data removed]",
      "text/plain": [
       "<Figure size 432x432 with 3 Axes>"
      ]
     },
     "metadata": {},
     "output_type": "display_data"
    }
   ],
   "source": [
    "# jointplot & regline\n",
    "sns.jointplot(x=mydata['lead_time'], y=mydata['days_in_waiting_list'], kind='reg')"
   ]
  },
  {
   "cell_type": "markdown",
   "metadata": {},
   "source": [
    "## SHAPIRO, KOLMOGOROV & NORMAL DISTRIBUTION "
   ]
  },
  {
   "cell_type": "markdown",
   "metadata": {},
   "source": [
    "SHAPIRO-WILK TEST: \n",
    "    - p-value < 0.05 means that the distribution is not normally distributed\n",
    "    - The opposite means that the distribution is normally distributed \n",
    "    - This test perform the same function as Kolmogorov-Smirnov Test, some claim it's better in statistical power.\n",
    "KOLMOGOROV-SMIRNOV TEST: \n",
    "    - p-value < 0.05 means that the distribution is not normally distributed\n",
    "    - The opposite means that the distribution is normally distributed "
   ]
  },
  {
   "cell_type": "code",
   "execution_count": 23,
   "metadata": {},
   "outputs": [
    {
     "name": "stdout",
     "output_type": "stream",
     "text": [
      "- Shapiro-Wilk Test, p-value:0.0\n",
      "(Non-Normal Distribution)\n",
      "- Kolmogorov-Smirnov Test, p-value:0.0\n",
      "(Non-Normal Distribution)\n"
     ]
    }
   ],
   "source": [
    "from scipy.stats import shapiro, kstest\n",
    "\n",
    "# for individual\n",
    "print('- Shapiro-Wilk Test, p-value:{}'.format(shapiro(mydata['lead_time'])[1]))\n",
    "if shapiro(mydata['lead_time'])[1] < 0.05:\n",
    "    print('(Non-Normal Distribution)')\n",
    "else:\n",
    "     print('(Normal Distribution)')\n",
    "        \n",
    "print('- Kolmogorov-Smirnov Test, p-value:{}'.format(kstest(mydata['lead_time'],'norm')[1]))\n",
    "if kstest(mydata['lead_time'],'norm')[1] < 0.05:\n",
    "    print('(Non-Normal Distribution)')\n",
    "else:\n",
    "    print('(Normal Distribution)')"
   ]
  },
  {
   "cell_type": "code",
   "execution_count": 24,
   "metadata": {},
   "outputs": [
    {
     "name": "stdout",
     "output_type": "stream",
     "text": [
      "### NO DEPOSIT\n",
      "- Shapiro-Wilk Test, p-value:0.0\n",
      "(Non-Normal Distribution)\n",
      "- Kolmogorov-Smirnov Test, p-value:0.0\n",
      "(Non-Normal Distribution)\n",
      "### REFUNDABLE\n",
      "- Shapiro-Wilk Test, p-value:9.194957295566297e-12\n",
      "(Non-Normal Distribution)\n",
      "- Kolmogorov-Smirnov Test, p-value:4.34772743947192e-257\n",
      "(Non-Normal Distribution)\n",
      "### NON REFUND\n",
      "- Shapiro-Wilk Test, p-value:0.0\n",
      "(Non-Normal Distribution)\n",
      "- Kolmogorov-Smirnov Test, p-value:0.0\n",
      "(Non-Normal Distribution)\n"
     ]
    }
   ],
   "source": [
    "# for groups within an individual\n",
    "for i in mydata['deposit_type'].unique():\n",
    "    print(\"###\",i.upper())\n",
    "    print('- Shapiro-Wilk Test, p-value:{}'.format(shapiro(mydata[mydata['deposit_type']==i]['lead_time'])[1]))\n",
    "    if shapiro(mydata['lead_time'])[1] < 0.05:\n",
    "        print('(Non-Normal Distribution)')\n",
    "    else:\n",
    "        print('(Normal Distribution)')\n",
    "        \n",
    "    print('- Kolmogorov-Smirnov Test, p-value:{}'.format(kstest(mydata[mydata['deposit_type']==i]['lead_time'],'norm')[1]))\n",
    "    if kstest(mydata[mydata['deposit_type']==i]['lead_time'],'norm')[1] < 0.05:\n",
    "        print('(Non-Normal Distribution)')\n",
    "    else:\n",
    "        print('(Normal Distribution)')"
   ]
  },
  {
   "cell_type": "markdown",
   "metadata": {},
   "source": [
    "## BARTLETT, LEVENE & EQUAL VARIANCE (HOMOSCEDASTICITY)"
   ]
  },
  {
   "cell_type": "markdown",
   "metadata": {},
   "source": [
    "BARTLETT TEST: \n",
    "    - p-value < 0.05 means that there's unequal variance (heteroscedasticity) between data distributions\n",
    "    - The opposite means that there's equal variance (homoscedasticity) between data distributions\n",
    "    - Sensitive to departures from normal distribution\n",
    "LEVENE TEST: \n",
    "    - p-value < 0.05 means that there's unequal variance (heteroscedasticity) between data distributions\n",
    "    - The opposite means that there's equal variance (homoscedasticity) between data distributions\n",
    "    - Less sensitive to departures from normal distribution\n"
   ]
  },
  {
   "cell_type": "code",
   "execution_count": 25,
   "metadata": {},
   "outputs": [],
   "source": [
    "from scipy.stats import levene, bartlett\n",
    "\n",
    "# defining functions\n",
    "def try_equal_var(x1,x2):\n",
    "    result = {'Bartlett': {'Bartlett-Stat': bartlett(x1,x2)[0], 'p-value': bartlett(x1,x2)[1]},\n",
    "              'Levene': {'Levene-Stat':levene(x1,x2)[0], 'p-value': levene(x1,x2)[1]}}\n",
    "    return result"
   ]
  },
  {
   "cell_type": "code",
   "execution_count": 26,
   "metadata": {},
   "outputs": [
    {
     "data": {
      "text/plain": [
       "BartlettResult(statistic=834.4752254906294, pvalue=1.7247318751884144e-183)"
      ]
     },
     "execution_count": 26,
     "metadata": {},
     "output_type": "execute_result"
    }
   ],
   "source": [
    "# for normal distribution\n",
    "bartlett(mydata[(mydata['is_repeated_guest']== 0)]['lead_time'],\n",
    "         mydata[(mydata['is_repeated_guest']== 1)]['lead_time'])"
   ]
  },
  {
   "cell_type": "markdown",
   "metadata": {},
   "source": [
    "- p-value 1.7247318751884144e-183 < 0.05, there's unequal variance (heteroscedasticity) across groups"
   ]
  },
  {
   "cell_type": "code",
   "execution_count": 210,
   "metadata": {},
   "outputs": [
    {
     "data": {
      "text/plain": [
       "LeveneResult(statistic=2060.038321629102, pvalue=0.0)"
      ]
     },
     "execution_count": 210,
     "metadata": {},
     "output_type": "execute_result"
    }
   ],
   "source": [
    "# for non-normal distribution\n",
    "levene(mydata[(mydata['deposit_type']== \"No Deposit\")]['lead_time'],\n",
    "      mydata[(mydata['deposit_type']== \"Non Refund\")]['lead_time'],\n",
    "      mydata[(mydata['deposit_type']== \"Refundable\")]['lead_time'])"
   ]
  },
  {
   "cell_type": "markdown",
   "metadata": {},
   "source": [
    "- p-value 0.0 < 0.05, there's unequal variance (heteroscedasticity) across groups"
   ]
  },
  {
   "cell_type": "markdown",
   "metadata": {},
   "source": [
    "## CORRELATION COEFFICIENT (NUMERICAL CATEGORIES)"
   ]
  },
  {
   "cell_type": "code",
   "execution_count": 86,
   "metadata": {},
   "outputs": [
    {
     "data": {
      "text/plain": [
       "<matplotlib.axes._subplots.AxesSubplot at 0x2a8caf061c8>"
      ]
     },
     "execution_count": 86,
     "metadata": {},
     "output_type": "execute_result"
    },
    {
     "data": {
      "image/png": "[encoded data removed]",
      "text/plain": [
       "<Figure size 360x288 with 2 Axes>"
      ]
     },
     "metadata": {},
     "output_type": "display_data"
    }
   ],
   "source": [
    "# pearson correlation (parametric test for strength of linear relationship)\n",
    "\"\"\"assumes Gaussian/Gaussian-like distribution\"\"\"\n",
    "plt.figure(figsize=(5,4))\n",
    "sns.heatmap(mydata[['is_canceled','lead_time','adr']].corr('pearson'),annot=True)"
   ]
  },
  {
   "cell_type": "markdown",
   "metadata": {},
   "source": [
    "- sensitive to outliers \n",
    "- (+): positive linear relationship (A increases, B increases)\n",
    "- (-): negative linear relationship (A increases, B decreases)\n",
    "- (0): no linear relationship/independent"
   ]
  },
  {
   "cell_type": "code",
   "execution_count": 84,
   "metadata": {
    "scrolled": true
   },
   "outputs": [
    {
     "data": {
      "text/plain": [
       "<matplotlib.axes._subplots.AxesSubplot at 0x2a8cadadec8>"
      ]
     },
     "execution_count": 84,
     "metadata": {},
     "output_type": "execute_result"
    },
    {
     "data": {
      "image/png": "[encoded data removed]",
      "text/plain": [
       "<Figure size 360x288 with 2 Axes>"
      ]
     },
     "metadata": {},
     "output_type": "display_data"
    }
   ],
   "source": [
    "# spearman correlation (non-parametric test for strength of nonlinear/monotonic relationship)\n",
    "\"\"\"doesnt assume Gaussian/Gaussian-like distribution, more robust on outliers\"\"\"\n",
    "plt.figure(figsize=(5,4))\n",
    "sns.heatmap(mydata[['is_canceled','lead_time','adr']].corr('spearman'),annot=True)"
   ]
  },
  {
   "cell_type": "markdown",
   "metadata": {},
   "source": [
    "- less sensitive to outliers\n",
    "- (+): positive monotonic relationship (larger A & larger B)\n",
    "- (-): negative monotonic relationship (larger A & smaller B)\n",
    "- (0): no monotonic relationship/independent"
   ]
  },
  {
   "cell_type": "markdown",
   "metadata": {},
   "source": [
    "## CRAMER'S V (CATEGORICAL CATEGORIES)"
   ]
  },
  {
   "cell_type": "code",
   "execution_count": 53,
   "metadata": {},
   "outputs": [],
   "source": [
    "# defining cramers v function to see the association between two categorical features\n",
    "def cramers_v(x,y):\n",
    "    \"\"\" \n",
    "    calculate Cramers V statistic for categorial-categorial association.\n",
    "    uses correction from Bergsma and Wicher, \n",
    "    Journal of the Korean Statistical Society 42 (2013): 323-328\n",
    "    \"\"\"\n",
    "    import scipy.stats as ss\n",
    "    confusion_matrix = pd.crosstab(x,y)\n",
    "    chi2 = ss.chi2_contingency(confusion_matrix)[0]\n",
    "    n = confusion_matrix.sum().sum()\n",
    "    phi2 = chi2/n\n",
    "    r,k = confusion_matrix.shape\n",
    "    phi2corr = max(0, phi2-((k-1)*(r-1))/(n-1))\n",
    "    rcorr = r -((r-1)**2)/(n-1)\n",
    "    kcorr = k -((k-1)**2)/(n-1)\n",
    "    return np.sqrt(phi2corr/min((kcorr-1),(rcorr-1)))"
   ]
  },
  {
   "cell_type": "code",
   "execution_count": 59,
   "metadata": {},
   "outputs": [
    {
     "data": {
      "text/html": [
       "<div>\n",
       "<style scoped>\n",
       "    .dataframe tbody tr th:only-of-type {\n",
       "        vertical-align: middle;\n",
       "    }\n",
       "\n",
       "    .dataframe tbody tr th {\n",
       "        vertical-align: top;\n",
       "    }\n",
       "\n",
       "    .dataframe thead th {\n",
       "        text-align: right;\n",
       "    }\n",
       "</style>\n",
       "<table border=\"1\" class=\"dataframe\">\n",
       "  <thead>\n",
       "    <tr style=\"text-align: right;\">\n",
       "      <th></th>\n",
       "      <th>Column</th>\n",
       "      <th>Cramers_V</th>\n",
       "    </tr>\n",
       "  </thead>\n",
       "  <tbody>\n",
       "    <tr>\n",
       "      <th>0</th>\n",
       "      <td>reservation_status</td>\n",
       "      <td>0.999996</td>\n",
       "    </tr>\n",
       "    <tr>\n",
       "      <th>1</th>\n",
       "      <td>deposit_type</td>\n",
       "      <td>0.481357</td>\n",
       "    </tr>\n",
       "    <tr>\n",
       "      <th>2</th>\n",
       "      <td>reservation_status_date</td>\n",
       "      <td>0.481028</td>\n",
       "    </tr>\n",
       "    <tr>\n",
       "      <th>3</th>\n",
       "      <td>country</td>\n",
       "      <td>0.358202</td>\n",
       "    </tr>\n",
       "    <tr>\n",
       "      <th>4</th>\n",
       "      <td>market_segment</td>\n",
       "      <td>0.265589</td>\n",
       "    </tr>\n",
       "    <tr>\n",
       "      <th>5</th>\n",
       "      <td>assigned_room_type</td>\n",
       "      <td>0.201625</td>\n",
       "    </tr>\n",
       "    <tr>\n",
       "      <th>6</th>\n",
       "      <td>distribution_channel</td>\n",
       "      <td>0.175126</td>\n",
       "    </tr>\n",
       "    <tr>\n",
       "      <th>7</th>\n",
       "      <td>customer_type</td>\n",
       "      <td>0.137707</td>\n",
       "    </tr>\n",
       "    <tr>\n",
       "      <th>8</th>\n",
       "      <td>hotel</td>\n",
       "      <td>0.133915</td>\n",
       "    </tr>\n",
       "    <tr>\n",
       "      <th>9</th>\n",
       "      <td>repeater</td>\n",
       "      <td>0.0850808</td>\n",
       "    </tr>\n",
       "    <tr>\n",
       "      <th>10</th>\n",
       "      <td>reserved_room_type</td>\n",
       "      <td>0.0727419</td>\n",
       "    </tr>\n",
       "    <tr>\n",
       "      <th>11</th>\n",
       "      <td>arrival_date_month</td>\n",
       "      <td>0.0680806</td>\n",
       "    </tr>\n",
       "    <tr>\n",
       "      <th>12</th>\n",
       "      <td>meal</td>\n",
       "      <td>0.050248</td>\n",
       "    </tr>\n",
       "    <tr>\n",
       "      <th>13</th>\n",
       "      <td>outlier</td>\n",
       "      <td>0.0388638</td>\n",
       "    </tr>\n",
       "  </tbody>\n",
       "</table>\n",
       "</div>"
      ],
      "text/plain": [
       "                     Column  Cramers_V\n",
       "0        reservation_status   0.999996\n",
       "1              deposit_type   0.481357\n",
       "2   reservation_status_date   0.481028\n",
       "3                   country   0.358202\n",
       "4            market_segment   0.265589\n",
       "5        assigned_room_type   0.201625\n",
       "6      distribution_channel   0.175126\n",
       "7             customer_type   0.137707\n",
       "8                     hotel   0.133915\n",
       "9                  repeater  0.0850808\n",
       "10       reserved_room_type  0.0727419\n",
       "11       arrival_date_month  0.0680806\n",
       "12                     meal   0.050248\n",
       "13                  outlier  0.0388638"
      ]
     },
     "execution_count": 59,
     "metadata": {},
     "output_type": "execute_result"
    }
   ],
   "source": [
    "# cramer's v value for each categorical columns towards target variable ('is_canceled')\n",
    "CramersV = []\n",
    "col = []\n",
    "categorical_columns = mydata.select_dtypes('object').columns \n",
    "\n",
    "for i in categorical_columns:\n",
    "    col.append(i)\n",
    "    CramersV.append(cramers_v(mydata[i],mydata['is_canceled']))\n",
    "\n",
    "res = pd.DataFrame(data=[col, CramersV]).T\n",
    "res.columns = ['Column','Cramers_V']\n",
    "res = res.sort_values(by = 'Cramers_V', ascending = False)\n",
    "res.reset_index(drop=True)"
   ]
  },
  {
   "cell_type": "markdown",
   "metadata": {},
   "source": [
    "- (closer to 1): more association between variables\n",
    "- (closer to 0): less association between variables"
   ]
  },
  {
   "cell_type": "markdown",
   "metadata": {},
   "source": [
    "## ------ 2 GROUPS ------"
   ]
  },
  {
   "cell_type": "markdown",
   "metadata": {},
   "source": [
    "## STUDENT'S T-TEST"
   ]
  },
  {
   "cell_type": "markdown",
   "metadata": {},
   "source": [
    "    - Normal Distribution (Gaussian)\n",
    "    - Equal Variance (Homoscedastic)\n",
    "    - Independent Sampling\n",
    "    - Parametric \n",
    "    - Tryin to determine if the means of two sets/populations of data are significantly different from each other."
   ]
  },
  {
   "cell_type": "code",
   "execution_count": 34,
   "metadata": {},
   "outputs": [
    {
     "data": {
      "text/plain": [
       "Ttest_indResult(statistic=43.47464178890639, pvalue=0.0)"
      ]
     },
     "execution_count": 34,
     "metadata": {},
     "output_type": "execute_result"
    }
   ],
   "source": [
    "from scipy.stats import ttest_ind, norm\n",
    "\n",
    "# Student's T-Test (equal_var=True)\n",
    "ttest_ind(mydata[mydata['is_repeated_guest']== 0]['lead_time'],\n",
    "         mydata[mydata['is_repeated_guest']== 1]['lead_time'], equal_var=True) "
   ]
  },
  {
   "cell_type": "markdown",
   "metadata": {},
   "source": [
    "- p-value 0.0 < 0.05, there's a significant difference (statistically significant) in lead_time days mean between repeater-guests & non repeater-guests. In other words, its unlikely that the differences occured by chance only"
   ]
  },
  {
   "cell_type": "code",
   "execution_count": 65,
   "metadata": {},
   "outputs": [
    {
     "data": {
      "text/plain": [
       "Ttest_indResult(statistic=0.7600162666259344, pvalue=0.4474243592197943)"
      ]
     },
     "execution_count": 65,
     "metadata": {},
     "output_type": "execute_result"
    }
   ],
   "source": [
    "rvs1 = norm.rvs(loc=5,scale=10,size=500)\n",
    "rvs2 = norm.rvs(loc=4,scale=10,size=500)\n",
    "ttest_ind(rvs1,rvs2, equal_var=True)"
   ]
  },
  {
   "cell_type": "markdown",
   "metadata": {},
   "source": [
    "- p-value 0.45 > 0.05, there's similar value-distribution between rvs1 & rvs2. In other words, its likely that the differences occured by chance only"
   ]
  },
  {
   "cell_type": "code",
   "execution_count": 239,
   "metadata": {},
   "outputs": [
    {
     "data": {
      "text/html": [
       "<div>\n",
       "<style scoped>\n",
       "    .dataframe tbody tr th:only-of-type {\n",
       "        vertical-align: middle;\n",
       "    }\n",
       "\n",
       "    .dataframe tbody tr th {\n",
       "        vertical-align: top;\n",
       "    }\n",
       "\n",
       "    .dataframe thead th {\n",
       "        text-align: right;\n",
       "    }\n",
       "</style>\n",
       "<table border=\"1\" class=\"dataframe\">\n",
       "  <thead>\n",
       "    <tr style=\"text-align: right;\">\n",
       "      <th></th>\n",
       "      <th>Column</th>\n",
       "      <th>Hypothesis</th>\n",
       "    </tr>\n",
       "  </thead>\n",
       "  <tbody>\n",
       "    <tr>\n",
       "      <th>0</th>\n",
       "      <td>lead_time</td>\n",
       "      <td>Reject H0</td>\n",
       "    </tr>\n",
       "    <tr>\n",
       "      <th>1</th>\n",
       "      <td>adr</td>\n",
       "      <td>Reject H0</td>\n",
       "    </tr>\n",
       "    <tr>\n",
       "      <th>2</th>\n",
       "      <td>stays_in_weekend_nights</td>\n",
       "      <td>Reject H1</td>\n",
       "    </tr>\n",
       "    <tr>\n",
       "      <th>3</th>\n",
       "      <td>children</td>\n",
       "      <td>Reject H1</td>\n",
       "    </tr>\n",
       "    <tr>\n",
       "      <th>4</th>\n",
       "      <td>previous_cancellations</td>\n",
       "      <td>Reject H0</td>\n",
       "    </tr>\n",
       "  </tbody>\n",
       "</table>\n",
       "</div>"
      ],
      "text/plain": [
       "                    Column Hypothesis\n",
       "0                lead_time  Reject H0\n",
       "1                      adr  Reject H0\n",
       "2  stays_in_weekend_nights  Reject H1\n",
       "3                 children  Reject H1\n",
       "4   previous_cancellations  Reject H0"
      ]
     },
     "execution_count": 239,
     "metadata": {},
     "output_type": "execute_result"
    }
   ],
   "source": [
    "# multiple student t-tests but on two group comparison (canceled group [1] & not-canceled [0]) with alpha level = 0.01\n",
    "mylist=[]\n",
    "for i in mydata[['lead_time','adr','stays_in_weekend_nights','children','previous_cancellations']].columns:\n",
    "    if ttest_ind(mydata[mydata['is_canceled'] == 0][i],\n",
    "                 mydata[mydata['is_canceled'] == 1][i], equal_var=True)[1] < 0.01:\n",
    "        mylist.append('Reject H0')\n",
    "    else:\n",
    "        mylist.append('Reject H1')\n",
    "\n",
    "res = pd.DataFrame(data=[mydata[['lead_time','adr','stays_in_weekend_nights','children','previous_cancellations']].columns, mylist]).T\n",
    "res.columns = ['Column','Hypothesis']\n",
    "res"
   ]
  },
  {
   "cell_type": "markdown",
   "metadata": {},
   "source": [
    "## WELCH'S T-TEST"
   ]
  },
  {
   "cell_type": "markdown",
   "metadata": {},
   "source": [
    "    - Normal Distribution (Gaussian)\n",
    "    - Unequal Variance (Heteroscedastic) and/or Unequal Sample size (Imbalanced)\n",
    "    - Independent Sampling\n",
    "    - Parametric\n",
    "    - A two-sample location test which is used to test the hypothesis that two populations have equal means.\n",
    "      It's an adaptation of Student's t-test and is more reliable when the two samples \n",
    "      have unequal variances and/or unequal sample sizes."
   ]
  },
  {
   "cell_type": "code",
   "execution_count": 35,
   "metadata": {},
   "outputs": [
    {
     "data": {
      "text/plain": [
       "Ttest_indResult(statistic=61.69356094796933, pvalue=0.0)"
      ]
     },
     "execution_count": 35,
     "metadata": {},
     "output_type": "execute_result"
    }
   ],
   "source": [
    "# Welch's T-Test (equal_var=False)\n",
    "ttest_ind(mydata[mydata['is_repeated_guest']== 0]['lead_time'],\n",
    "          mydata[mydata['is_repeated_guest']== 1]['lead_time'], equal_var=False) "
   ]
  },
  {
   "cell_type": "markdown",
   "metadata": {},
   "source": [
    "- p-value 0.0 < 0.05, there's a significant difference (statistically significant) in lead_time days mean between repeater-guests & non repeater-guests. In other words, its unlikely that the differences occured by chance "
   ]
  },
  {
   "cell_type": "code",
   "execution_count": 67,
   "metadata": {},
   "outputs": [
    {
     "data": {
      "text/plain": [
       "Ttest_indResult(statistic=1.0374705285685495, pvalue=0.29976807111368214)"
      ]
     },
     "execution_count": 67,
     "metadata": {},
     "output_type": "execute_result"
    }
   ],
   "source": [
    "rvs1 = norm.rvs(loc=5,scale=10,size=500)\n",
    "rvs2 = norm.rvs(loc=6,scale=10,size=500)\n",
    "ttest_ind(rvs1,rvs2, equal_var=False)"
   ]
  },
  {
   "cell_type": "markdown",
   "metadata": {},
   "source": [
    "- p-value 0.30 > 0.05, there's similar value-distribution between rvs1 & rvs2. In other words, its likely that the differences occured by chance "
   ]
  },
  {
   "cell_type": "code",
   "execution_count": 234,
   "metadata": {},
   "outputs": [
    {
     "data": {
      "text/html": [
       "<div>\n",
       "<style scoped>\n",
       "    .dataframe tbody tr th:only-of-type {\n",
       "        vertical-align: middle;\n",
       "    }\n",
       "\n",
       "    .dataframe tbody tr th {\n",
       "        vertical-align: top;\n",
       "    }\n",
       "\n",
       "    .dataframe thead th {\n",
       "        text-align: right;\n",
       "    }\n",
       "</style>\n",
       "<table border=\"1\" class=\"dataframe\">\n",
       "  <thead>\n",
       "    <tr style=\"text-align: right;\">\n",
       "      <th></th>\n",
       "      <th>Column</th>\n",
       "      <th>Hypothesis</th>\n",
       "    </tr>\n",
       "  </thead>\n",
       "  <tbody>\n",
       "    <tr>\n",
       "      <th>0</th>\n",
       "      <td>lead_time</td>\n",
       "      <td>Reject H0</td>\n",
       "    </tr>\n",
       "    <tr>\n",
       "      <th>1</th>\n",
       "      <td>adr</td>\n",
       "      <td>Reject H0</td>\n",
       "    </tr>\n",
       "    <tr>\n",
       "      <th>2</th>\n",
       "      <td>stays_in_weekend_nights</td>\n",
       "      <td>Reject H1</td>\n",
       "    </tr>\n",
       "    <tr>\n",
       "      <th>3</th>\n",
       "      <td>children</td>\n",
       "      <td>Reject H1</td>\n",
       "    </tr>\n",
       "    <tr>\n",
       "      <th>4</th>\n",
       "      <td>previous_cancellations</td>\n",
       "      <td>Reject H0</td>\n",
       "    </tr>\n",
       "  </tbody>\n",
       "</table>\n",
       "</div>"
      ],
      "text/plain": [
       "                    Column Hypothesis\n",
       "0                lead_time  Reject H0\n",
       "1                      adr  Reject H0\n",
       "2  stays_in_weekend_nights  Reject H1\n",
       "3                 children  Reject H1\n",
       "4   previous_cancellations  Reject H0"
      ]
     },
     "execution_count": 234,
     "metadata": {},
     "output_type": "execute_result"
    }
   ],
   "source": [
    "# multiple welch t-tests but on two group comparison (canceled group [1] & not-canceled [0]) with alpha level = 0.01\n",
    "mylist=[]\n",
    "for i in mydata[['lead_time','adr','stays_in_weekend_nights','children','previous_cancellations']].columns:\n",
    "    if ttest_ind(mydata[mydata['is_canceled'] == 0][i],\n",
    "                 mydata[mydata['is_canceled'] == 1][i], equal_var=False)[1] < 0.01:\n",
    "        mylist.append('Reject H0')\n",
    "    else:\n",
    "        mylist.append('Reject H1')\n",
    "\n",
    "res = pd.DataFrame(data=[mydata[['lead_time','adr','stays_in_weekend_nights','children','previous_cancellations']].columns, mylist]).T\n",
    "res.columns = ['Column','Hypothesis']\n",
    "res"
   ]
  },
  {
   "cell_type": "markdown",
   "metadata": {},
   "source": [
    "## MANN-WHITNEY U TEST"
   ]
  },
  {
   "cell_type": "markdown",
   "metadata": {},
   "source": [
    "    - Agnostic to Distribution type\n",
    "    - Independent Sampling\n",
    "    - NonParametric\n",
    "    - can be used for ordinal & nominal data as well\n",
    "    - Looking at the randomly selected values X and Y from two populations, \n",
    "      is the probability of X being greater than Y equal to the probability of Y being greater than X. \n",
    "      It also tries to infer the median of each populations. "
   ]
  },
  {
   "cell_type": "code",
   "execution_count": 32,
   "metadata": {},
   "outputs": [
    {
     "data": {
      "text/plain": [
       "MannwhitneyuResult(statistic=81626091.5, pvalue=0.0)"
      ]
     },
     "execution_count": 32,
     "metadata": {},
     "output_type": "execute_result"
    }
   ],
   "source": [
    "from scipy.stats import mannwhitneyu\n",
    "\n",
    "mannwhitneyu(mydata[mydata['is_repeated_guest']== 0]['lead_time'],\n",
    "             mydata[mydata['is_repeated_guest']== 1]['lead_time'])"
   ]
  },
  {
   "cell_type": "markdown",
   "metadata": {},
   "source": [
    "- p-value 0.0 < 0.05, there's a difference (statistically significant) in lead_time days median between repeater-guests & non repeater-guests. In other words, its unlikely that the differences occured by chance alone "
   ]
  },
  {
   "cell_type": "code",
   "execution_count": 68,
   "metadata": {},
   "outputs": [
    {
     "data": {
      "text/plain": [
       "MannwhitneyuResult(statistic=124950.0, pvalue=0.4956757545190109)"
      ]
     },
     "execution_count": 68,
     "metadata": {},
     "output_type": "execute_result"
    }
   ],
   "source": [
    "rvs1 = norm.rvs(loc=5,scale=10,size=500)\n",
    "rvs2 = norm.rvs(loc=4,scale=10,size=500)\n",
    "mannwhitneyu(rvs1,rvs2)"
   ]
  },
  {
   "cell_type": "markdown",
   "metadata": {},
   "source": [
    "- p-value 0.50 > 0.05, there's similar value-distribution between rvs1 & rvs2. In other words, its likely that the differences occured by chance alone"
   ]
  },
  {
   "cell_type": "code",
   "execution_count": 233,
   "metadata": {},
   "outputs": [
    {
     "data": {
      "text/html": [
       "<div>\n",
       "<style scoped>\n",
       "    .dataframe tbody tr th:only-of-type {\n",
       "        vertical-align: middle;\n",
       "    }\n",
       "\n",
       "    .dataframe tbody tr th {\n",
       "        vertical-align: top;\n",
       "    }\n",
       "\n",
       "    .dataframe thead th {\n",
       "        text-align: right;\n",
       "    }\n",
       "</style>\n",
       "<table border=\"1\" class=\"dataframe\">\n",
       "  <thead>\n",
       "    <tr style=\"text-align: right;\">\n",
       "      <th></th>\n",
       "      <th>Column</th>\n",
       "      <th>Hypothesis</th>\n",
       "    </tr>\n",
       "  </thead>\n",
       "  <tbody>\n",
       "    <tr>\n",
       "      <th>0</th>\n",
       "      <td>lead_time</td>\n",
       "      <td>Reject H0</td>\n",
       "    </tr>\n",
       "    <tr>\n",
       "      <th>1</th>\n",
       "      <td>adr</td>\n",
       "      <td>Reject H0</td>\n",
       "    </tr>\n",
       "    <tr>\n",
       "      <th>2</th>\n",
       "      <td>stays_in_weekend_nights</td>\n",
       "      <td>Reject H1</td>\n",
       "    </tr>\n",
       "    <tr>\n",
       "      <th>3</th>\n",
       "      <td>children</td>\n",
       "      <td>Reject H1</td>\n",
       "    </tr>\n",
       "    <tr>\n",
       "      <th>4</th>\n",
       "      <td>previous_cancellations</td>\n",
       "      <td>Reject H0</td>\n",
       "    </tr>\n",
       "  </tbody>\n",
       "</table>\n",
       "</div>"
      ],
      "text/plain": [
       "                    Column Hypothesis\n",
       "0                lead_time  Reject H0\n",
       "1                      adr  Reject H0\n",
       "2  stays_in_weekend_nights  Reject H1\n",
       "3                 children  Reject H1\n",
       "4   previous_cancellations  Reject H0"
      ]
     },
     "execution_count": 233,
     "metadata": {},
     "output_type": "execute_result"
    }
   ],
   "source": [
    "# multiple mann-whitney u tests but on two group comparison (canceled group [1] & not-canceled [0]) with alpha level = 0.01\n",
    "mylist=[]\n",
    "for i in mydata[['lead_time','adr','stays_in_weekend_nights','children','previous_cancellations']].columns:\n",
    "    if mannwhitneyu(mydata[mydata['is_canceled'] == 0][i],\n",
    "                    mydata[mydata['is_canceled'] == 1][i])[1] < 0.01:\n",
    "        mylist.append('Reject H0')\n",
    "    else:\n",
    "        mylist.append('Reject H1')\n",
    "\n",
    "res = pd.DataFrame(data=[mydata[['lead_time','adr','stays_in_weekend_nights','children','previous_cancellations']].columns, mylist]).T\n",
    "res.columns = ['Column','Hypothesis']\n",
    "res"
   ]
  },
  {
   "cell_type": "markdown",
   "metadata": {},
   "source": [
    "## ------ > 2 GROUPS  ------"
   ]
  },
  {
   "cell_type": "markdown",
   "metadata": {},
   "source": [
    "## CLASSIC ANOVA (F-TEST)"
   ]
  },
  {
   "cell_type": "markdown",
   "metadata": {},
   "source": [
    "    - Normal Distribution (Gaussian)\n",
    "    - Equal Variance (Homoscedastic)\n",
    "    - Independent Sampling\n",
    "    - Parametric \n",
    "    - a statistical test of whether two or more population means are equal, \n",
    "      and therefore generalizes the t-test beyond two means."
   ]
  },
  {
   "cell_type": "code",
   "execution_count": 83,
   "metadata": {},
   "outputs": [
    {
     "data": {
      "text/plain": [
       "F_onewayResult(statistic=10055.425875164265, pvalue=0.0)"
      ]
     },
     "execution_count": 83,
     "metadata": {},
     "output_type": "execute_result"
    }
   ],
   "source": [
    "from scipy.stats import f_oneway\n",
    "\n",
    "f_oneway(mydata[(mydata['deposit_type']== \"No Deposit\")]['lead_time'],\n",
    "      mydata[(mydata['deposit_type']== \"Non Refund\")]['lead_time'],\n",
    "      mydata[(mydata['deposit_type']== \"Refundable\")]['lead_time'])"
   ]
  },
  {
   "cell_type": "markdown",
   "metadata": {},
   "source": [
    "- p-value 0.0 < 0.05, there's a significant difference (statistically significant) in lead_time days mean within the deposit types (we can know which types differ on the post-hoc analysis). In other words, its unlikely that the differences occured by chance only. "
   ]
  },
  {
   "cell_type": "code",
   "execution_count": 207,
   "metadata": {},
   "outputs": [
    {
     "data": {
      "text/plain": [
       "F_onewayResult(statistic=0.781669528722384, pvalue=0.4578280242971865)"
      ]
     },
     "execution_count": 207,
     "metadata": {},
     "output_type": "execute_result"
    }
   ],
   "source": [
    "rvs1 = norm.rvs(loc=5,scale=10,size=500)\n",
    "rvs2 = norm.rvs(loc=5,scale=9,size=500)\n",
    "rvs3 = norm.rvs(loc=5,scale=8.5,size=500)\n",
    "\n",
    "f_oneway(rvs1,rvs2,rvs3)"
   ]
  },
  {
   "cell_type": "markdown",
   "metadata": {},
   "source": [
    "- p-value 0.46 > 0.05, there's no significant difference in lead_time days mean within the deposit types. In other words, its likely that the differences occured by chance only. "
   ]
  },
  {
   "cell_type": "markdown",
   "metadata": {},
   "source": [
    "## WELCH'S ANOVA"
   ]
  },
  {
   "cell_type": "markdown",
   "metadata": {},
   "source": [
    "    - Normal Distribution (Gaussian)\n",
    "    - Unequal Variance (Heteroscedastic) and/or Unequal Sample size (Imbalanced)\n",
    "    - Independent Sampling\n",
    "    - Parametric\n",
    "    - For performing an ANOVA analysis when there's unequal variances and/or unequal sample sizes."
   ]
  },
  {
   "cell_type": "code",
   "execution_count": 97,
   "metadata": {},
   "outputs": [
    {
     "data": {
      "text/html": [
       "<div>\n",
       "<style scoped>\n",
       "    .dataframe tbody tr th:only-of-type {\n",
       "        vertical-align: middle;\n",
       "    }\n",
       "\n",
       "    .dataframe tbody tr th {\n",
       "        vertical-align: top;\n",
       "    }\n",
       "\n",
       "    .dataframe thead th {\n",
       "        text-align: right;\n",
       "    }\n",
       "</style>\n",
       "<table border=\"1\" class=\"dataframe\">\n",
       "  <thead>\n",
       "    <tr style=\"text-align: right;\">\n",
       "      <th></th>\n",
       "      <th>Source</th>\n",
       "      <th>ddof1</th>\n",
       "      <th>ddof2</th>\n",
       "      <th>F</th>\n",
       "      <th>p-unc</th>\n",
       "    </tr>\n",
       "  </thead>\n",
       "  <tbody>\n",
       "    <tr>\n",
       "      <th>0</th>\n",
       "      <td>deposit_type</td>\n",
       "      <td>2</td>\n",
       "      <td>426.327</td>\n",
       "      <td>5901.701</td>\n",
       "      <td>1.893392e-311</td>\n",
       "    </tr>\n",
       "  </tbody>\n",
       "</table>\n",
       "</div>"
      ],
      "text/plain": [
       "         Source  ddof1    ddof2         F          p-unc\n",
       "0  deposit_type      2  426.327  5901.701  1.893392e-311"
      ]
     },
     "execution_count": 97,
     "metadata": {},
     "output_type": "execute_result"
    }
   ],
   "source": [
    "from pingouin import welch_anova\n",
    "\n",
    "welch_anova(data=mydata, dv='lead_time', between='deposit_type')"
   ]
  },
  {
   "cell_type": "markdown",
   "metadata": {},
   "source": [
    "- p-value 1.893392e-311 < 0.05, there's a significant difference (statistically significant) in lead_time days mean within the deposit types (we can know which types differ on the post-hoc analysis). In other words, its unlikely that the differences occured by chance. "
   ]
  },
  {
   "cell_type": "code",
   "execution_count": 155,
   "metadata": {},
   "outputs": [],
   "source": [
    "# equally weighted probability\n",
    "import random\n",
    "my_val = [] \n",
    "my_list = ['A']*25 + ['B']*25 + ['C']*25 + ['D']*25\n",
    "for i in range(1,501):\n",
    "    my_val.append(random.choice(my_list))\n",
    "rvs = pd.Series(norm.rvs(loc=5,scale=10,size=500))\n",
    "my_val = pd.Series(my_val)\n",
    "\n",
    "# creating dataframe\n",
    "test = pd.DataFrame(data=[rvs,my_val]).T\n",
    "test.columns = ['rvs','val']\n",
    "test['rvs'] = test['rvs'].astype('float')"
   ]
  },
  {
   "cell_type": "code",
   "execution_count": 208,
   "metadata": {},
   "outputs": [
    {
     "data": {
      "text/html": [
       "<div>\n",
       "<style scoped>\n",
       "    .dataframe tbody tr th:only-of-type {\n",
       "        vertical-align: middle;\n",
       "    }\n",
       "\n",
       "    .dataframe tbody tr th {\n",
       "        vertical-align: top;\n",
       "    }\n",
       "\n",
       "    .dataframe thead th {\n",
       "        text-align: right;\n",
       "    }\n",
       "</style>\n",
       "<table border=\"1\" class=\"dataframe\">\n",
       "  <thead>\n",
       "    <tr style=\"text-align: right;\">\n",
       "      <th></th>\n",
       "      <th>Source</th>\n",
       "      <th>ddof1</th>\n",
       "      <th>ddof2</th>\n",
       "      <th>F</th>\n",
       "      <th>p-unc</th>\n",
       "    </tr>\n",
       "  </thead>\n",
       "  <tbody>\n",
       "    <tr>\n",
       "      <th>0</th>\n",
       "      <td>val</td>\n",
       "      <td>3</td>\n",
       "      <td>273.472</td>\n",
       "      <td>1.16</td>\n",
       "      <td>0.325257</td>\n",
       "    </tr>\n",
       "  </tbody>\n",
       "</table>\n",
       "</div>"
      ],
      "text/plain": [
       "  Source  ddof1    ddof2     F     p-unc\n",
       "0    val      3  273.472  1.16  0.325257"
      ]
     },
     "execution_count": 208,
     "metadata": {},
     "output_type": "execute_result"
    }
   ],
   "source": [
    "welch_anova(data=test, dv='rvs', between='val')"
   ]
  },
  {
   "cell_type": "markdown",
   "metadata": {},
   "source": [
    "- p-value 0.33 > 0.05, there's no significant differences in lead_time days mean within the deposit types. In other words, its likely that the differences occured by chance. "
   ]
  },
  {
   "cell_type": "markdown",
   "metadata": {},
   "source": [
    "## KRUSKAL-WALLIS ANOVA"
   ]
  },
  {
   "cell_type": "markdown",
   "metadata": {},
   "source": [
    "    - Agnostic to Distribution type\n",
    "    - Independent Sampling\n",
    "    - NonParametric\n",
    "    - Looking at the indication that at least one sample stochastically dominates one other sample"
   ]
  },
  {
   "cell_type": "code",
   "execution_count": 157,
   "metadata": {},
   "outputs": [
    {
     "data": {
      "text/plain": [
       "KruskalResult(statistic=13032.214175098388, pvalue=0.0)"
      ]
     },
     "execution_count": 157,
     "metadata": {},
     "output_type": "execute_result"
    }
   ],
   "source": [
    "from scipy.stats import kruskal\n",
    "from pingouin import pairwise_ttests, pairwise_tukey, pairwise_gameshowell \n",
    "\n",
    "kruskal(mydata[(mydata['deposit_type']== \"No Deposit\")]['lead_time'],\n",
    "      mydata[(mydata['deposit_type']== \"Non Refund\")]['lead_time'],\n",
    "      mydata[(mydata['deposit_type']== \"Refundable\")]['lead_time'])"
   ]
  },
  {
   "cell_type": "markdown",
   "metadata": {},
   "source": [
    "- p-value 0.0 < 0.05, there's a significant difference (statistically significant) in lead_time days median within the deposit types (we can know which types differ on the post-hoc analysis). In other words, its unlikely that the differences occured by chance alone. "
   ]
  },
  {
   "cell_type": "code",
   "execution_count": 158,
   "metadata": {},
   "outputs": [
    {
     "data": {
      "text/plain": [
       "KruskalResult(statistic=3.1404332799954773, pvalue=0.37047581921742784)"
      ]
     },
     "execution_count": 158,
     "metadata": {},
     "output_type": "execute_result"
    }
   ],
   "source": [
    "kruskal(test[(test['val']== \"A\")]['rvs'],\n",
    "      test[(test['val']== \"B\")]['rvs'],\n",
    "      test[(test['val']== \"C\")]['rvs'],\n",
    "      test[(test['val']== \"D\")]['rvs'])"
   ]
  },
  {
   "cell_type": "markdown",
   "metadata": {},
   "source": [
    "- p-value 0.37 > 0.05, there's no significant difference in lead_time days median within the deposit types. In other words, its likely that the differences occured by chance alone. "
   ]
  },
  {
   "cell_type": "markdown",
   "metadata": {},
   "source": [
    "## ------ POST-HOC ------"
   ]
  },
  {
   "cell_type": "markdown",
   "metadata": {},
   "source": [
    "## PAIRWISE TUKEY TEST"
   ]
  },
  {
   "cell_type": "markdown",
   "metadata": {},
   "source": [
    "    - Normal Distribution (Gaussian)\n",
    "    - Equal Variance (Homoscedastic)\n",
    "    - Independent Sampling\n",
    "    - Parametric \n",
    "    - Identifies any difference between two means that is greater than the expected standard error"
   ]
  },
  {
   "cell_type": "code",
   "execution_count": 210,
   "metadata": {},
   "outputs": [
    {
     "data": {
      "text/html": [
       "<div>\n",
       "<style scoped>\n",
       "    .dataframe tbody tr th:only-of-type {\n",
       "        vertical-align: middle;\n",
       "    }\n",
       "\n",
       "    .dataframe tbody tr th {\n",
       "        vertical-align: top;\n",
       "    }\n",
       "\n",
       "    .dataframe thead th {\n",
       "        text-align: right;\n",
       "    }\n",
       "</style>\n",
       "<table border=\"1\" class=\"dataframe\">\n",
       "  <thead>\n",
       "    <tr style=\"text-align: right;\">\n",
       "      <th></th>\n",
       "      <th>A</th>\n",
       "      <th>B</th>\n",
       "      <th>mean(A)</th>\n",
       "      <th>mean(B)</th>\n",
       "      <th>diff</th>\n",
       "      <th>se</th>\n",
       "      <th>tail</th>\n",
       "      <th>T</th>\n",
       "      <th>p-tukey</th>\n",
       "      <th>hedges</th>\n",
       "    </tr>\n",
       "  </thead>\n",
       "  <tbody>\n",
       "    <tr>\n",
       "      <th>0</th>\n",
       "      <td>No Deposit</td>\n",
       "      <td>Non Refund</td>\n",
       "      <td>89.041</td>\n",
       "      <td>212.928</td>\n",
       "      <td>-123.887</td>\n",
       "      <td>0.874</td>\n",
       "      <td>two-sided</td>\n",
       "      <td>-141.679</td>\n",
       "      <td>0.001</td>\n",
       "      <td>-1.253</td>\n",
       "    </tr>\n",
       "    <tr>\n",
       "      <th>1</th>\n",
       "      <td>No Deposit</td>\n",
       "      <td>Refundable</td>\n",
       "      <td>89.041</td>\n",
       "      <td>152.099</td>\n",
       "      <td>-63.058</td>\n",
       "      <td>7.774</td>\n",
       "      <td>two-sided</td>\n",
       "      <td>-8.111</td>\n",
       "      <td>0.001</td>\n",
       "      <td>-0.638</td>\n",
       "    </tr>\n",
       "    <tr>\n",
       "      <th>2</th>\n",
       "      <td>Non Refund</td>\n",
       "      <td>Refundable</td>\n",
       "      <td>212.928</td>\n",
       "      <td>152.099</td>\n",
       "      <td>60.829</td>\n",
       "      <td>7.811</td>\n",
       "      <td>two-sided</td>\n",
       "      <td>7.788</td>\n",
       "      <td>0.001</td>\n",
       "      <td>0.615</td>\n",
       "    </tr>\n",
       "  </tbody>\n",
       "</table>\n",
       "</div>"
      ],
      "text/plain": [
       "            A           B  mean(A)  mean(B)     diff     se       tail  \\\n",
       "0  No Deposit  Non Refund   89.041  212.928 -123.887  0.874  two-sided   \n",
       "1  No Deposit  Refundable   89.041  152.099  -63.058  7.774  two-sided   \n",
       "2  Non Refund  Refundable  212.928  152.099   60.829  7.811  two-sided   \n",
       "\n",
       "         T  p-tukey  hedges  \n",
       "0 -141.679    0.001  -1.253  \n",
       "1   -8.111    0.001  -0.638  \n",
       "2    7.788    0.001   0.615  "
      ]
     },
     "execution_count": 210,
     "metadata": {},
     "output_type": "execute_result"
    }
   ],
   "source": [
    "from pingouin import pairwise_tukey, pairwise_gameshowell\n",
    "\n",
    "pairwise_tukey(data=mydata, dv ='lead_time', between = 'deposit_type')"
   ]
  },
  {
   "cell_type": "markdown",
   "metadata": {},
   "source": [
    "In terms of Deposit Type groups on Lead Time:\n",
    "- No Deposit & Non Refund (0) --> there's significant mean differences (p-value 0,001), with Non Refund having higher lead time values\n",
    "- No Deposit & Refundable (1) --> there's significant mean differences (p-value 0,001), with Refundable having higher lead time values\n",
    "- Non Refund & Refundable (2) --> there's significant mean differences (p-value 0,001), with Non Refund having higher lead time values"
   ]
  },
  {
   "cell_type": "markdown",
   "metadata": {},
   "source": [
    "## PAIRWISE GAMES-HOWELL TEST"
   ]
  },
  {
   "cell_type": "markdown",
   "metadata": {},
   "source": [
    "    - Just like Parwise Tukey Test, but applicable to Unequal Variance (Heteroscedastic) \n",
    "      and/or Unequal Sample size (Imbalanced)\n",
    "    - Independent Sampling"
   ]
  },
  {
   "cell_type": "code",
   "execution_count": 213,
   "metadata": {},
   "outputs": [
    {
     "data": {
      "text/html": [
       "<div>\n",
       "<style scoped>\n",
       "    .dataframe tbody tr th:only-of-type {\n",
       "        vertical-align: middle;\n",
       "    }\n",
       "\n",
       "    .dataframe tbody tr th {\n",
       "        vertical-align: top;\n",
       "    }\n",
       "\n",
       "    .dataframe thead th {\n",
       "        text-align: right;\n",
       "    }\n",
       "</style>\n",
       "<table border=\"1\" class=\"dataframe\">\n",
       "  <thead>\n",
       "    <tr style=\"text-align: right;\">\n",
       "      <th></th>\n",
       "      <th>A</th>\n",
       "      <th>B</th>\n",
       "      <th>mean(A)</th>\n",
       "      <th>mean(B)</th>\n",
       "      <th>diff</th>\n",
       "      <th>se</th>\n",
       "      <th>tail</th>\n",
       "      <th>T</th>\n",
       "      <th>df</th>\n",
       "      <th>pval</th>\n",
       "      <th>hedges</th>\n",
       "    </tr>\n",
       "  </thead>\n",
       "  <tbody>\n",
       "    <tr>\n",
       "      <th>0</th>\n",
       "      <td>No Deposit</td>\n",
       "      <td>Non Refund</td>\n",
       "      <td>103.724</td>\n",
       "      <td>89.988</td>\n",
       "      <td>13.736</td>\n",
       "      <td>0.331</td>\n",
       "      <td>two-sided</td>\n",
       "      <td>29.313</td>\n",
       "      <td>18301.700</td>\n",
       "      <td>0.001</td>\n",
       "      <td>0.259</td>\n",
       "    </tr>\n",
       "    <tr>\n",
       "      <th>1</th>\n",
       "      <td>No Deposit</td>\n",
       "      <td>Refundable</td>\n",
       "      <td>103.724</td>\n",
       "      <td>76.210</td>\n",
       "      <td>27.515</td>\n",
       "      <td>1.778</td>\n",
       "      <td>two-sided</td>\n",
       "      <td>10.945</td>\n",
       "      <td>162.222</td>\n",
       "      <td>0.001</td>\n",
       "      <td>0.861</td>\n",
       "    </tr>\n",
       "    <tr>\n",
       "      <th>2</th>\n",
       "      <td>Non Refund</td>\n",
       "      <td>Refundable</td>\n",
       "      <td>89.988</td>\n",
       "      <td>76.210</td>\n",
       "      <td>13.778</td>\n",
       "      <td>1.802</td>\n",
       "      <td>two-sided</td>\n",
       "      <td>5.408</td>\n",
       "      <td>171.165</td>\n",
       "      <td>0.001</td>\n",
       "      <td>0.427</td>\n",
       "    </tr>\n",
       "  </tbody>\n",
       "</table>\n",
       "</div>"
      ],
      "text/plain": [
       "            A           B  mean(A)  mean(B)    diff     se       tail       T  \\\n",
       "0  No Deposit  Non Refund  103.724   89.988  13.736  0.331  two-sided  29.313   \n",
       "1  No Deposit  Refundable  103.724   76.210  27.515  1.778  two-sided  10.945   \n",
       "2  Non Refund  Refundable   89.988   76.210  13.778  1.802  two-sided   5.408   \n",
       "\n",
       "          df   pval  hedges  \n",
       "0  18301.700  0.001   0.259  \n",
       "1    162.222  0.001   0.861  \n",
       "2    171.165  0.001   0.427  "
      ]
     },
     "execution_count": 213,
     "metadata": {},
     "output_type": "execute_result"
    }
   ],
   "source": [
    "from pingouin import pairwise_gameshowell\n",
    "\n",
    "pairwise_gameshowell(data=mydata, dv ='adr', between = 'deposit_type')"
   ]
  },
  {
   "cell_type": "markdown",
   "metadata": {},
   "source": [
    "In terms of Deposit Type groups on Average Daily Rate (ADR):\n",
    "- No Deposit & Non Refund (0) --> there's significant mean differences (p-value 0,001), with No Deposit having higher adr values\n",
    "- No Deposit & Refundable (1) --> there's significant mean differences (p-value 0,001), with No Deposit having higher adr values\n",
    "- Non Refund & Refundable (2) --> there's significant mean differences (p-value 0,001), with Non Refund having higher adr values"
   ]
  },
  {
   "cell_type": "markdown",
   "metadata": {},
   "source": [
    "## PAIRWISE MANN-WHITNEY U TEST"
   ]
  },
  {
   "cell_type": "markdown",
   "metadata": {},
   "source": [
    "    - Agnostic to Distribution Type\n",
    "    - Independent Sampling\n",
    "    - NonParametric Post-Hoc Analysis\n",
    "    - Looking at the randomly selected values X and Y from two populations, \n",
    "      is the probability of X being greater than Y equal to the probability of Y being greater than X."
   ]
  },
  {
   "cell_type": "code",
   "execution_count": 232,
   "metadata": {
    "scrolled": true
   },
   "outputs": [
    {
     "data": {
      "text/html": [
       "<div>\n",
       "<style scoped>\n",
       "    .dataframe tbody tr th:only-of-type {\n",
       "        vertical-align: middle;\n",
       "    }\n",
       "\n",
       "    .dataframe tbody tr th {\n",
       "        vertical-align: top;\n",
       "    }\n",
       "\n",
       "    .dataframe thead th {\n",
       "        text-align: right;\n",
       "    }\n",
       "</style>\n",
       "<table border=\"1\" class=\"dataframe\">\n",
       "  <thead>\n",
       "    <tr style=\"text-align: right;\">\n",
       "      <th></th>\n",
       "      <th>Contrast</th>\n",
       "      <th>A</th>\n",
       "      <th>B</th>\n",
       "      <th>Paired</th>\n",
       "      <th>Parametric</th>\n",
       "      <th>U-val</th>\n",
       "      <th>Tail</th>\n",
       "      <th>p-unc</th>\n",
       "      <th>hedges</th>\n",
       "    </tr>\n",
       "  </thead>\n",
       "  <tbody>\n",
       "    <tr>\n",
       "      <th>0</th>\n",
       "      <td>deposit_type</td>\n",
       "      <td>No Deposit</td>\n",
       "      <td>Non Refund</td>\n",
       "      <td>False</td>\n",
       "      <td>False</td>\n",
       "      <td>2318944.5</td>\n",
       "      <td>two-sided</td>\n",
       "      <td>3.203223e-222</td>\n",
       "      <td>-1.188</td>\n",
       "    </tr>\n",
       "    <tr>\n",
       "      <th>1</th>\n",
       "      <td>deposit_type</td>\n",
       "      <td>No Deposit</td>\n",
       "      <td>Refundable</td>\n",
       "      <td>False</td>\n",
       "      <td>False</td>\n",
       "      <td>61571.5</td>\n",
       "      <td>two-sided</td>\n",
       "      <td>8.641132e-03</td>\n",
       "      <td>-0.532</td>\n",
       "    </tr>\n",
       "    <tr>\n",
       "      <th>2</th>\n",
       "      <td>deposit_type</td>\n",
       "      <td>Non Refund</td>\n",
       "      <td>Refundable</td>\n",
       "      <td>False</td>\n",
       "      <td>False</td>\n",
       "      <td>15835.0</td>\n",
       "      <td>two-sided</td>\n",
       "      <td>5.366480e-02</td>\n",
       "      <td>0.513</td>\n",
       "    </tr>\n",
       "  </tbody>\n",
       "</table>\n",
       "</div>"
      ],
      "text/plain": [
       "       Contrast           A           B  Paired  Parametric      U-val  \\\n",
       "0  deposit_type  No Deposit  Non Refund   False       False  2318944.5   \n",
       "1  deposit_type  No Deposit  Refundable   False       False    61571.5   \n",
       "2  deposit_type  Non Refund  Refundable   False       False    15835.0   \n",
       "\n",
       "        Tail          p-unc  hedges  \n",
       "0  two-sided  3.203223e-222  -1.188  \n",
       "1  two-sided   8.641132e-03  -0.532  \n",
       "2  two-sided   5.366480e-02   0.513  "
      ]
     },
     "execution_count": 232,
     "metadata": {},
     "output_type": "execute_result"
    }
   ],
   "source": [
    "from pingouin import pairwise_ttests\n",
    "\n",
    "pairwise_ttests(data=mydata, dv='lead_time', between='deposit_type', parametric=False)"
   ]
  },
  {
   "cell_type": "markdown",
   "metadata": {},
   "source": [
    "In terms of Deposit Type groups on Lead Time:\n",
    "- No Deposit & Non Refund (0) --> there's significant differences (p-value 3.203e-222), with Non Refund having higher probability to be of greater values\n",
    "- No Deposit & Refundable (1) --> there's significant differences (p-value 8.641e-03), with Refundable having higher probability to be of greater values\n",
    "- Non Refund & Refundable (2) --> there's no significant differences (p-value 5.366480e-02, its >= 0.05)"
   ]
  },
  {
   "cell_type": "markdown",
   "metadata": {},
   "source": [
    "## ------ ON CATEGORICAL TARGET ------"
   ]
  },
  {
   "cell_type": "markdown",
   "metadata": {},
   "source": [
    "## PEARSON’S CHI-SQUARED TEST"
   ]
  },
  {
   "cell_type": "markdown",
   "metadata": {},
   "source": [
    "- at least each contingency table cells has > 5 frequency\n",
    "- to determine whether there is a statistically significant difference between the expected frequencies and the observed frequencies in one or more categories of a contingency table\n",
    "- In terms of a p-value and a chosen significance level (alpha), the test can be interpreted as follows:\n",
    "    - If p-value <= alpha: significant result, reject null hypothesis (H0), dependent feature\n",
    "    - If p-value > alpha: not significant result, fail to reject null hypothesis (H0), independent feature"
   ]
  },
  {
   "cell_type": "code",
   "execution_count": 242,
   "metadata": {},
   "outputs": [
    {
     "data": {
      "text/html": [
       "<div>\n",
       "<style scoped>\n",
       "    .dataframe tbody tr th:only-of-type {\n",
       "        vertical-align: middle;\n",
       "    }\n",
       "\n",
       "    .dataframe tbody tr th {\n",
       "        vertical-align: top;\n",
       "    }\n",
       "\n",
       "    .dataframe thead th {\n",
       "        text-align: right;\n",
       "    }\n",
       "</style>\n",
       "<table border=\"1\" class=\"dataframe\">\n",
       "  <thead>\n",
       "    <tr style=\"text-align: right;\">\n",
       "      <th></th>\n",
       "      <th>Column</th>\n",
       "      <th>Hypothesis</th>\n",
       "    </tr>\n",
       "  </thead>\n",
       "  <tbody>\n",
       "    <tr>\n",
       "      <th>0</th>\n",
       "      <td>deposit_type</td>\n",
       "      <td>Reject H0</td>\n",
       "    </tr>\n",
       "    <tr>\n",
       "      <th>1</th>\n",
       "      <td>customer_type</td>\n",
       "      <td>Reject H0</td>\n",
       "    </tr>\n",
       "    <tr>\n",
       "      <th>2</th>\n",
       "      <td>market_segment</td>\n",
       "      <td>Reject H0</td>\n",
       "    </tr>\n",
       "    <tr>\n",
       "      <th>3</th>\n",
       "      <td>repeater</td>\n",
       "      <td>Reject H0</td>\n",
       "    </tr>\n",
       "  </tbody>\n",
       "</table>\n",
       "</div>"
      ],
      "text/plain": [
       "           Column Hypothesis\n",
       "0    deposit_type  Reject H0\n",
       "1   customer_type  Reject H0\n",
       "2  market_segment  Reject H0\n",
       "3        repeater  Reject H0"
      ]
     },
     "execution_count": 242,
     "metadata": {},
     "output_type": "execute_result"
    }
   ],
   "source": [
    "from scipy.stats import chi2_contingency\n",
    "\n",
    "chi2_check = []\n",
    "for i in mydata[['deposit_type','customer_type','market_segment','repeater']].columns:\n",
    "    if chi2_contingency(pd.crosstab(mydata['is_canceled'], mydata[i]))[1] < 0.01:\n",
    "        chi2_check.append('Reject H0')\n",
    "    else:\n",
    "        chi2_check.append('Reject H1') \n",
    "\n",
    "res = pd.DataFrame(data=[mydata[['deposit_type','customer_type','market_segment','repeater']].columns, chi2_check]).T\n",
    "res.columns = ['Column','Hypothesis']\n",
    "res"
   ]
  },
  {
   "cell_type": "markdown",
   "metadata": {},
   "source": [
    "## HYPOTHESIS TESTING STEPS"
   ]
  },
  {
   "cell_type": "markdown",
   "metadata": {},
   "source": [
    "- STEPS FOR 2 GROUPS ON A NUMERICAL TARGET FEATURE\n",
    "    1. Normality Test (Shapiro; Kolmogorov, Anderson, QQ Plot), at least >= 30 samples (central limit theorem)\n",
    "    2. EqualVariance/Homoscedasticity Test (bartlett [normal distribution]; levene [non-normal distribution])\n",
    "    3. Pairwise Test \n",
    "        - Independent/Student's T-Test \n",
    "        [normal, equal variance, independent variable]\n",
    "        - Welch t-test [normal, unequal variance, independent variable]\n",
    "        - Mann-Whitney U [non-normal, unequal variance]\n",
    "        - Wilcoxson signed-rank [non-normal, paired(time-related)-dependent]\n",
    "       \n",
    "       \n",
    "- STEPS FOR >= 3 GROUPS ON A NUMERICAL TARGET FEATURE\n",
    "    1. Normality Test\n",
    "    2. EqualVariance/Homoscedasticity Test\n",
    "    3. Group Test\n",
    "        - Classic ANOVA(F-Test/One-Way) [normal, equal variance, independent]\n",
    "        - Welch ANOVA [normal, unequal variance, independent]\n",
    "        - Kruskal Wallis [non-normal]\n",
    "    4. Post-Hoc    \n",
    "        - Tukey-HSD [normal, equal variance, independent]\n",
    "        - GamesHowell [normal, unequal variance, independent]\n",
    "        - Pairwise T-Test/Mann-Whitney U [non-normal]\n",
    "\n",
    "\n",
    "- STEPS FOR GROUPS ON A CATEGORICAL TARGET FEATURE\n",
    "    1. CrossTab/Contingency Table. at least > 5 each cell\n",
    "    2. Pearson's Chi-Squared T-Test (checking on feature independence/dependence)\n",
    "\n"
   ]
  }
 ],
 "metadata": {
  "kernelspec": {
   "display_name": "Python 3",
   "language": "python",
   "name": "python3"
  },
  "language_info": {
   "codemirror_mode": {
    "name": "ipython",
    "version": 3
   },
   "file_extension": ".py",
   "mimetype": "text/x-python",
   "name": "python",
   "nbconvert_exporter": "python",
   "pygments_lexer": "ipython3",
   "version": "3.7.4"
  }
 },
 "nbformat": 4,
 "nbformat_minor": 2
}
