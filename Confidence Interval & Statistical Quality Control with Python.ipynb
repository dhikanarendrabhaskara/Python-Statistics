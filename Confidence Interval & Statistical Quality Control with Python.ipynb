{
 "cells": [
  {
   "cell_type": "markdown",
   "metadata": {},
   "source": [
    "## IMPORTING BASIC LIBRARIES & DATA"
   ]
  },
  {
   "cell_type": "code",
   "execution_count": 28,
   "metadata": {},
   "outputs": [],
   "source": [
    "# importing basic libraries\n",
    "import pandas as pd\n",
    "import numpy as np\n",
    "import scipy.stats as st\n",
    "import seaborn as sns\n",
    "import matplotlib.pyplot as plt\n",
    "import plotly.graph_objects as go\n",
    "import plotly.express as px\n",
    "import warnings\n",
    "warnings.filterwarnings('ignore')\n",
    "%matplotlib inline\n",
    "\n",
    "# importing data\n",
    "data = pd.read_csv('hotel_cancel.csv')"
   ]
  },
  {
   "cell_type": "markdown",
   "metadata": {},
   "source": [
    "## ------ POINT ESTIMATOR & CONFIDENCE INTERVAL  ------"
   ]
  },
  {
   "cell_type": "markdown",
   "metadata": {},
   "source": [
    "- Sample Mean/Proportion: Point Estimator of the population parameter (single point estimation)\n",
    "        - efficient, consistent & unbiased\n",
    "- Confidence Interval (CI): Interval Estimator of the population parameter (range of values estimation)\n",
    "        - CI = 1 - alpha\n",
    "        - alpha = probability of error, level of significance \n",
    "        - larger n_samples, smaller margin of error\n",
    "        - Width of CI = margin of error x 2\n",
    "        - CI has to be narrow enough to be precise & wide enough to be accurate\n",
    "        - 95% CI means that from all possible samples, we will be right 95% of the time"
   ]
  },
  {
   "cell_type": "markdown",
   "metadata": {},
   "source": [
    "## ------ CONFIDENCE INTERVAL WITH SAMPLE MEAN (UNKNOWN POP-STDEV)  ------"
   ]
  },
  {
   "cell_type": "markdown",
   "metadata": {},
   "source": [
    "- used when population standard deviation is unknown, which is generally the case\n",
    "- it assumes normal or approximately normal distributions (n >= 30)\n",
    "- uses t-distributions, it works well with both small & large samples\n",
    "- CI = sample_mean +- [t_score * sample_stdev/np.sqrt(n)]"
   ]
  },
  {
   "cell_type": "markdown",
   "metadata": {},
   "source": [
    "### Example 1"
   ]
  },
  {
   "cell_type": "code",
   "execution_count": 18,
   "metadata": {},
   "outputs": [],
   "source": [
    "# sample data of car mpg\n",
    "c = [97, 117, 93, 79, 97,\n",
    "    87, 78, 83, 94, 96,\n",
    "    102, 98, 82, 96, 113,\n",
    "    113, 111, 90, 101, 99,\n",
    "    112, 89, 92, 96, 98]"
   ]
  },
  {
   "cell_type": "code",
   "execution_count": 23,
   "metadata": {},
   "outputs": [
    {
     "data": {
      "text/plain": [
       "25"
      ]
     },
     "execution_count": 23,
     "metadata": {},
     "output_type": "execute_result"
    }
   ],
   "source": [
    "# number of samples\n",
    "len(c)"
   ]
  },
  {
   "cell_type": "code",
   "execution_count": 48,
   "metadata": {},
   "outputs": [
    {
     "data": {
      "text/plain": [
       "24"
      ]
     },
     "execution_count": 48,
     "metadata": {},
     "output_type": "execute_result"
    }
   ],
   "source": [
    "# degrees of freedom\n",
    "len(c)-1"
   ]
  },
  {
   "cell_type": "code",
   "execution_count": 19,
   "metadata": {},
   "outputs": [
    {
     "data": {
      "text/plain": [
       "96.52"
      ]
     },
     "execution_count": 19,
     "metadata": {},
     "output_type": "execute_result"
    }
   ],
   "source": [
    "# sample mean\n",
    "np.mean(c)"
   ]
  },
  {
   "cell_type": "code",
   "execution_count": 20,
   "metadata": {},
   "outputs": [
    {
     "data": {
      "text/plain": [
       "2.1394080178092882"
      ]
     },
     "execution_count": 20,
     "metadata": {},
     "output_type": "execute_result"
    }
   ],
   "source": [
    "# standard error (sample stdev divided by np.sqrt(number of samples))\n",
    "st.sem(c)"
   ]
  },
  {
   "cell_type": "code",
   "execution_count": 50,
   "metadata": {},
   "outputs": [
    {
     "data": {
      "text/plain": [
       "(92.85972516071553, 100.18027483928445)"
      ]
     },
     "execution_count": 50,
     "metadata": {},
     "output_type": "execute_result"
    }
   ],
   "source": [
    "# confidence interval of 90%\n",
    "st.t.interval(0.90, len(c)-1, loc=np.mean(c), scale=st.sem(c))"
   ]
  },
  {
   "cell_type": "markdown",
   "metadata": {},
   "source": [
    "- with 90% confidence, the average mpg of all cars is between 92.86 mpg & 100.18 mpg"
   ]
  },
  {
   "cell_type": "code",
   "execution_count": 51,
   "metadata": {},
   "outputs": [
    {
     "data": {
      "text/plain": [
       "(92.10447886930795, 100.93552113069204)"
      ]
     },
     "execution_count": 51,
     "metadata": {},
     "output_type": "execute_result"
    }
   ],
   "source": [
    "# confidence interval of 95%\n",
    "st.t.interval(0.95, len(c)-1, loc=np.mean(c), scale=st.sem(c))"
   ]
  },
  {
   "cell_type": "markdown",
   "metadata": {},
   "source": [
    "- with 95% confidence, the average mpg of all cars is between 92.10 mpg & 100.94 mpg"
   ]
  },
  {
   "cell_type": "code",
   "execution_count": 52,
   "metadata": {},
   "outputs": [
    {
     "data": {
      "text/plain": [
       "(90.53620519816153, 102.50379480183847)"
      ]
     },
     "execution_count": 52,
     "metadata": {},
     "output_type": "execute_result"
    }
   ],
   "source": [
    "# confidence interval of 99%\n",
    "st.t.interval(0.99, len(c)-1, loc=np.mean(c), scale=st.sem(c))"
   ]
  },
  {
   "cell_type": "markdown",
   "metadata": {},
   "source": [
    "- with 99% confidence, the average mpg of all cars is between 90.54 mpg & 102.50 mpg\n",
    "- Note: the higher the CI, the wider the interval (to account for accuracy)"
   ]
  },
  {
   "cell_type": "markdown",
   "metadata": {},
   "source": [
    "### Example 2"
   ]
  },
  {
   "cell_type": "code",
   "execution_count": 56,
   "metadata": {},
   "outputs": [
    {
     "data": {
      "text/plain": [
       "200"
      ]
     },
     "execution_count": 56,
     "metadata": {},
     "output_type": "execute_result"
    }
   ],
   "source": [
    "# stratified random sampling with adr data  \n",
    "a = data.groupby('hotel',group_keys=False)['adr'].apply(lambda x: x.sample(100))\n",
    "\n",
    "# number of samples\n",
    "len(a)"
   ]
  },
  {
   "cell_type": "code",
   "execution_count": 53,
   "metadata": {},
   "outputs": [
    {
     "data": {
      "text/plain": [
       "199"
      ]
     },
     "execution_count": 53,
     "metadata": {},
     "output_type": "execute_result"
    }
   ],
   "source": [
    "# degrees of freedom\n",
    "len(a)-1"
   ]
  },
  {
   "cell_type": "code",
   "execution_count": 54,
   "metadata": {},
   "outputs": [
    {
     "data": {
      "text/plain": [
       "102.87469999999999"
      ]
     },
     "execution_count": 54,
     "metadata": {},
     "output_type": "execute_result"
    }
   ],
   "source": [
    "# sample mean\n",
    "np.mean(a)"
   ]
  },
  {
   "cell_type": "code",
   "execution_count": 55,
   "metadata": {},
   "outputs": [
    {
     "data": {
      "text/plain": [
       "4.002162422972017"
      ]
     },
     "execution_count": 55,
     "metadata": {},
     "output_type": "execute_result"
    }
   ],
   "source": [
    "# standard error (sample stdev divided by np.sqrt(number of samples))\n",
    "st.sem(a)"
   ]
  },
  {
   "cell_type": "code",
   "execution_count": 57,
   "metadata": {},
   "outputs": [
    {
     "data": {
      "text/plain": [
       "(89.96103267789121, 100.68116732210876)"
      ]
     },
     "execution_count": 57,
     "metadata": {},
     "output_type": "execute_result"
    }
   ],
   "source": [
    "# confidence interval of 90%\n",
    "st.t.interval(0.90, len(a)-1, loc=np.mean(a), scale=st.sem(a))"
   ]
  },
  {
   "cell_type": "markdown",
   "metadata": {},
   "source": [
    "- with 90% confidence, the average adr of all hotel orders is between 89.96 & 100.68 "
   ]
  },
  {
   "cell_type": "code",
   "execution_count": 58,
   "metadata": {},
   "outputs": [
    {
     "data": {
      "text/plain": [
       "(88.92502082222624, 101.71717917777373)"
      ]
     },
     "execution_count": 58,
     "metadata": {},
     "output_type": "execute_result"
    }
   ],
   "source": [
    "# confidence interval of 90%\n",
    "st.t.interval(0.95, len(a)-1, loc=np.mean(a), scale=st.sem(a))"
   ]
  },
  {
   "cell_type": "markdown",
   "metadata": {},
   "source": [
    "- with 95% confidence, the average adr of all hotel orders is between 88.93 & 101.72"
   ]
  },
  {
   "cell_type": "code",
   "execution_count": 59,
   "metadata": {},
   "outputs": [
    {
     "data": {
      "text/plain": [
       "(86.88548395529038, 103.75671604470959)"
      ]
     },
     "execution_count": 59,
     "metadata": {},
     "output_type": "execute_result"
    }
   ],
   "source": [
    "# confidence interval of 90%\n",
    "st.t.interval(0.99, len(a)-1, loc=np.mean(a), scale=st.sem(a))"
   ]
  },
  {
   "cell_type": "markdown",
   "metadata": {},
   "source": [
    "- with 99% confidence, the average adr of all hotel orders is between 86.89 & 103.76"
   ]
  },
  {
   "cell_type": "markdown",
   "metadata": {},
   "source": [
    "## ------ CONFIDENCE INTERVAL WITH SAMPLE MEAN (KNOWN POP-STDEV)  ------"
   ]
  },
  {
   "cell_type": "markdown",
   "metadata": {},
   "source": [
    "- used when population standard deviation is known, which is rarely the case\n",
    "- it assumes normal or approximately normal distributions (n >= 30)\n",
    "- uses z-distributions, it works well with large samples\n",
    "    - 90% CI = 1.64\n",
    "    - 95% CI = 1.96\n",
    "    - 99% CI = 2.57\n",
    "- CI = sample_mean +- [z_score * pop_stdev/np.sqrt(n)]"
   ]
  },
  {
   "cell_type": "markdown",
   "metadata": {},
   "source": [
    "### Example 3"
   ]
  },
  {
   "cell_type": "code",
   "execution_count": 76,
   "metadata": {},
   "outputs": [],
   "source": [
    "sample_mean = 261.75    # mean cholesterol of sample\n",
    "population_stdev = 64.9 # standard deviation for female population\n",
    "n = 97                  # total number of samples"
   ]
  },
  {
   "cell_type": "code",
   "execution_count": 77,
   "metadata": {},
   "outputs": [
    {
     "data": {
      "text/plain": [
       "6.589596611717189"
      ]
     },
     "execution_count": 77,
     "metadata": {},
     "output_type": "execute_result"
    }
   ],
   "source": [
    "# standard error for mean\n",
    "se = population_stdev/np.sqrt(n)\n",
    "se"
   ]
  },
  {
   "cell_type": "code",
   "execution_count": 80,
   "metadata": {},
   "outputs": [
    {
     "data": {
      "text/plain": [
       "(250.94306155678382, 272.5569384432162)"
      ]
     },
     "execution_count": 80,
     "metadata": {},
     "output_type": "execute_result"
    }
   ],
   "source": [
    "# z-score from the z table (for 90% confidence)\n",
    "z = 1.64                \n",
    "\n",
    "# lower & upper limit of the CI\n",
    "lower = sample_mean - (z* se)  \n",
    "upper = sample_mean + (z* se)  \n",
    "(lower, upper)"
   ]
  },
  {
   "cell_type": "markdown",
   "metadata": {},
   "source": [
    "- with 90% confidence, the average cholestrol level of females is between 250.94 & 272.56"
   ]
  },
  {
   "cell_type": "code",
   "execution_count": 79,
   "metadata": {},
   "outputs": [
    {
     "data": {
      "text/plain": [
       "(248.8343906410343, 274.6656093589657)"
      ]
     },
     "execution_count": 79,
     "metadata": {},
     "output_type": "execute_result"
    }
   ],
   "source": [
    "# z-score from the z table (for 95% confidence)\n",
    "z = 1.96                \n",
    "\n",
    "# lower & upper limit of the CI\n",
    "lower = sample_mean - (z* se)  \n",
    "upper = sample_mean + (z* se)  \n",
    "(lower, upper)"
   ]
  },
  {
   "cell_type": "markdown",
   "metadata": {},
   "source": [
    "- with 95% confidence, the average cholestrol level of females is between 248.83 & 274.67"
   ]
  },
  {
   "cell_type": "code",
   "execution_count": 81,
   "metadata": {},
   "outputs": [
    {
     "data": {
      "text/plain": [
       "(244.81473670788682, 278.6852632921132)"
      ]
     },
     "execution_count": 81,
     "metadata": {},
     "output_type": "execute_result"
    }
   ],
   "source": [
    "# z-score from the z table (for 99% confidence)\n",
    "z = 2.57                \n",
    "\n",
    "# lower & upper limit of the CI\n",
    "lower = sample_mean - (z* se)  \n",
    "upper = sample_mean + (z* se)  \n",
    "(lower, upper)"
   ]
  },
  {
   "cell_type": "markdown",
   "metadata": {},
   "source": [
    "- with 99% confidence, the average cholestrol level of females is between 244.81 & 278.69"
   ]
  },
  {
   "cell_type": "markdown",
   "metadata": {},
   "source": [
    "## ------ CONFIDENCE INTERVAL WITH SAMPLE PROPORTION  ------"
   ]
  },
  {
   "cell_type": "markdown",
   "metadata": {},
   "source": [
    "- it assumes normal or approximately normal distributions (np >= 5 & n(1-p) >= 5)\n",
    "- uses z-distributions\n",
    "- CI = sample_proportion +- [np.sqrt(p * (1-p)/n)]"
   ]
  },
  {
   "cell_type": "markdown",
   "metadata": {},
   "source": [
    "### Example 4"
   ]
  },
  {
   "cell_type": "code",
   "execution_count": 110,
   "metadata": {},
   "outputs": [
    {
     "data": {
      "text/plain": [
       "25"
      ]
     },
     "execution_count": 110,
     "metadata": {},
     "output_type": "execute_result"
    }
   ],
   "source": [
    "# number of samples \n",
    "len(c)"
   ]
  },
  {
   "cell_type": "code",
   "execution_count": 88,
   "metadata": {},
   "outputs": [
    {
     "data": {
      "text/plain": [
       "7"
      ]
     },
     "execution_count": 88,
     "metadata": {},
     "output_type": "execute_result"
    }
   ],
   "source": [
    "# getting the mpg > 100\n",
    "above100 = []\n",
    "for i in c:\n",
    "    if i > 100:\n",
    "        above100.append(i)\n",
    "\n",
    "# number of samples > 100 mpg\n",
    "len(above100)"
   ]
  },
  {
   "cell_type": "code",
   "execution_count": 92,
   "metadata": {},
   "outputs": [
    {
     "data": {
      "text/plain": [
       "0.28"
      ]
     },
     "execution_count": 92,
     "metadata": {},
     "output_type": "execute_result"
    }
   ],
   "source": [
    "# sample proportion of above 100 mps\n",
    "len(above100)/len(c)"
   ]
  },
  {
   "cell_type": "code",
   "execution_count": 107,
   "metadata": {},
   "outputs": [
    {
     "data": {
      "text/plain": [
       "0.0897997772825746"
      ]
     },
     "execution_count": 107,
     "metadata": {},
     "output_type": "execute_result"
    }
   ],
   "source": [
    "# standard error for proportion\n",
    "np.sqrt(p * (1-p)/n)"
   ]
  },
  {
   "cell_type": "code",
   "execution_count": 111,
   "metadata": {},
   "outputs": [
    {
     "data": {
      "text/plain": [
       "(0.13229251063732272, 0.42770748936267733)"
      ]
     },
     "execution_count": 111,
     "metadata": {},
     "output_type": "execute_result"
    }
   ],
   "source": [
    "# confidence interval 90%\n",
    "sm.stats.proportion_confint(nobs=len(c), count=len(above100), alpha=0.10) "
   ]
  },
  {
   "cell_type": "markdown",
   "metadata": {},
   "source": [
    "- with 90% confidence, the percentage of cars that has over 100 mpg is between 13.2% & 42.8%"
   ]
  },
  {
   "cell_type": "code",
   "execution_count": 112,
   "metadata": {},
   "outputs": [
    {
     "data": {
      "text/plain": [
       "(0.10399567070643564, 0.4560043292935644)"
      ]
     },
     "execution_count": 112,
     "metadata": {},
     "output_type": "execute_result"
    }
   ],
   "source": [
    "# confidence interval 95%\n",
    "sm.stats.proportion_confint(nobs=len(c), count=len(above100), alpha=0.05) "
   ]
  },
  {
   "cell_type": "markdown",
   "metadata": {},
   "source": [
    "- with 95% confidence, the percentage of cars that has over 100 mpg is between 10.4% & 45.6%"
   ]
  },
  {
   "cell_type": "code",
   "execution_count": 113,
   "metadata": {},
   "outputs": [
    {
     "data": {
      "text/plain": [
       "(0.048691102223379495, 0.5113088977766206)"
      ]
     },
     "execution_count": 113,
     "metadata": {},
     "output_type": "execute_result"
    }
   ],
   "source": [
    "# confidence interval 99%\n",
    "sm.stats.proportion_confint(nobs=len(c), count=len(above100), alpha=0.01) "
   ]
  },
  {
   "cell_type": "markdown",
   "metadata": {},
   "source": [
    "- with 99% confidence, the percentage of cars that has over 100 mpg is between 4.9% & 51.1%"
   ]
  },
  {
   "cell_type": "markdown",
   "metadata": {},
   "source": [
    "### Example 5"
   ]
  },
  {
   "cell_type": "code",
   "execution_count": 117,
   "metadata": {},
   "outputs": [
    {
     "data": {
      "text/plain": [
       "119390"
      ]
     },
     "execution_count": 117,
     "metadata": {},
     "output_type": "execute_result"
    }
   ],
   "source": [
    "# number of samples \n",
    "n = len(data['is_canceled'])\n",
    "n"
   ]
  },
  {
   "cell_type": "code",
   "execution_count": 121,
   "metadata": {},
   "outputs": [
    {
     "data": {
      "text/plain": [
       "44224"
      ]
     },
     "execution_count": 121,
     "metadata": {},
     "output_type": "execute_result"
    }
   ],
   "source": [
    "# number of samples \n",
    "n_canceled = len(data[data['is_canceled']==1])\n",
    "n_canceled"
   ]
  },
  {
   "cell_type": "code",
   "execution_count": 122,
   "metadata": {},
   "outputs": [
    {
     "data": {
      "text/plain": [
       "(0.3681174093503072, 0.3727151561911955)"
      ]
     },
     "execution_count": 122,
     "metadata": {},
     "output_type": "execute_result"
    }
   ],
   "source": [
    "# confidence interval 90%\n",
    "sm.stats.proportion_confint(nobs=n, count=n_canceled, alpha=0.10) "
   ]
  },
  {
   "cell_type": "markdown",
   "metadata": {},
   "source": [
    "- with 90% confidence, the percentage of canceled orders is between 36.8% & 37.3%"
   ]
  },
  {
   "cell_type": "code",
   "execution_count": 124,
   "metadata": {},
   "outputs": [
    {
     "data": {
      "text/plain": [
       "(0.3676770061352748, 0.37315555940622785)"
      ]
     },
     "execution_count": 124,
     "metadata": {},
     "output_type": "execute_result"
    }
   ],
   "source": [
    "# confidence interval 95%\n",
    "sm.stats.proportion_confint(nobs=n, count=n_canceled, alpha=0.05) "
   ]
  },
  {
   "cell_type": "markdown",
   "metadata": {},
   "source": [
    "- with 95% confidence, the percentage of canceled orders is between 36.8% & 37.3%"
   ]
  },
  {
   "cell_type": "code",
   "execution_count": 125,
   "metadata": {},
   "outputs": [
    {
     "data": {
      "text/plain": [
       "(0.36681626303373405, 0.3740163025077686)"
      ]
     },
     "execution_count": 125,
     "metadata": {},
     "output_type": "execute_result"
    }
   ],
   "source": [
    "# confidence interval 99%\n",
    "sm.stats.proportion_confint(nobs=n, count=n_canceled, alpha=0.01) "
   ]
  },
  {
   "cell_type": "markdown",
   "metadata": {},
   "source": [
    "- with 99% confidence, the percentage of canceled orders is between 36.7% & 37.4%\n",
    "- Note: there's little difference between 90, 95 & 99% CI due to large number of samples (larger n_samples, smaller margin of error)"
   ]
  },
  {
   "cell_type": "markdown",
   "metadata": {},
   "source": [
    "### Example 5"
   ]
  },
  {
   "cell_type": "markdown",
   "metadata": {},
   "source": [
    "case:\n",
    "- there's 1300 people living in neighbourhood A\n",
    "- 100 people (sample) is tested for PCR test\n",
    "- 10 people has covid"
   ]
  },
  {
   "cell_type": "code",
   "execution_count": 126,
   "metadata": {},
   "outputs": [
    {
     "data": {
      "text/plain": [
       "(0.050654391191455816, 0.1493456088085442)"
      ]
     },
     "execution_count": 126,
     "metadata": {},
     "output_type": "execute_result"
    }
   ],
   "source": [
    "# confidence interval 90%\n",
    "sm.stats.proportion_confint(nobs=100, count=10, alpha=0.10) "
   ]
  },
  {
   "cell_type": "code",
   "execution_count": 5,
   "metadata": {},
   "outputs": [
    {
     "name": "stdout",
     "output_type": "stream",
     "text": [
      "with 90% confidence, there's at least 66 people & at most 194 people who has covid in neighbourhood A\n"
     ]
    }
   ],
   "source": [
    "# infering the lowest proportion from 90% CI to the population\n",
    "print(\"with 90% confidence, there's at least {} people & at most {} people who has covid in neighbourhood A\".format\n",
    "      (round(0.050654391191455816*1300), round(0.1493456088085442* 1300)))"
   ]
  },
  {
   "cell_type": "code",
   "execution_count": 130,
   "metadata": {},
   "outputs": [
    {
     "data": {
      "text/plain": [
       "(0.04120108046379837, 0.15879891953620165)"
      ]
     },
     "execution_count": 130,
     "metadata": {},
     "output_type": "execute_result"
    }
   ],
   "source": [
    "# confidence interval 95%\n",
    "sm.stats.proportion_confint(nobs=100, count=10, alpha=0.05) "
   ]
  },
  {
   "cell_type": "code",
   "execution_count": 6,
   "metadata": {},
   "outputs": [
    {
     "name": "stdout",
     "output_type": "stream",
     "text": [
      "with 95% confidence, there's at least 54 people & at most 206 people who has covid in neighbourhood A\n"
     ]
    }
   ],
   "source": [
    "# infering the lowest proportion from 95% CI to the population\n",
    "print(\"with 95% confidence, there's at least {} people & at most {} people who has covid in neighbourhood A\".format\n",
    "      (round(0.04120108046379837* 1300), round(0.15879891953620165* 1300)))"
   ]
  },
  {
   "cell_type": "code",
   "execution_count": 131,
   "metadata": {},
   "outputs": [
    {
     "data": {
      "text/plain": [
       "(0.02272512089353297, 0.17727487910646705)"
      ]
     },
     "execution_count": 131,
     "metadata": {},
     "output_type": "execute_result"
    }
   ],
   "source": [
    "# confidence interval 99%\n",
    "sm.stats.proportion_confint(nobs=100, count=10, alpha=0.01) "
   ]
  },
  {
   "cell_type": "code",
   "execution_count": 7,
   "metadata": {},
   "outputs": [
    {
     "name": "stdout",
     "output_type": "stream",
     "text": [
      "with 99% confidence, there's at least 30 people & at most 230 people who has covid in neighbourhood A\n"
     ]
    }
   ],
   "source": [
    "# infering the lowest proportion from 99% CI to the population\n",
    "print(\"with 99% confidence, there's at least {} people & at most {} people who has covid in neighbourhood A\".format\n",
    "      (round(0.02272512089353297*1300), round(0.17727487910646705*1300)))"
   ]
  },
  {
   "cell_type": "markdown",
   "metadata": {},
   "source": [
    "## ------ SELECTING SAMPLE SIZE  ------"
   ]
  },
  {
   "cell_type": "code",
   "execution_count": 32,
   "metadata": {},
   "outputs": [],
   "source": [
    "# creating function for CI-mean sample sizing\n",
    "def n_size_mean(z, max_, min_, margin):\n",
    "    q = (max_- min_)/4\n",
    "    result = (z * q/margin)**2\n",
    "    return print(round(result),'samples required')"
   ]
  },
  {
   "cell_type": "markdown",
   "metadata": {},
   "source": [
    "### Example 6"
   ]
  },
  {
   "cell_type": "code",
   "execution_count": 31,
   "metadata": {},
   "outputs": [
    {
     "name": "stdout",
     "output_type": "stream",
     "text": [
      "75 samples required\n"
     ]
    }
   ],
   "source": [
    "# zscore: 1.64 (90% CI), max_values: 118 mpg, min_values: 76 mpg, desired margin of error: +-2 mpg\n",
    "n_size_mean(1.645, 118, 76, 2) "
   ]
  },
  {
   "cell_type": "markdown",
   "metadata": {},
   "source": [
    "### Example 7"
   ]
  },
  {
   "cell_type": "code",
   "execution_count": 30,
   "metadata": {},
   "outputs": [
    {
     "name": "stdout",
     "output_type": "stream",
     "text": [
      "70179 samples required\n"
     ]
    }
   ],
   "source": [
    "# zscore: 1.96 (95% CI), max_values & min_values: from data, desired margin of error: +-10 units\n",
    "n_size_mean(1.96, np.max(data['adr']), np.min(data['adr']), 10)"
   ]
  },
  {
   "cell_type": "code",
   "execution_count": 33,
   "metadata": {},
   "outputs": [],
   "source": [
    "# creating function for CI-proportion sample sizing\n",
    "def n_size_prop(z, proportion, margin):\n",
    "    result = (z/margin)**2 * proportion * (1-proportion)\n",
    "    return print(round(result),'samples required')"
   ]
  },
  {
   "cell_type": "markdown",
   "metadata": {},
   "source": [
    "### Example 8"
   ]
  },
  {
   "cell_type": "code",
   "execution_count": 34,
   "metadata": {},
   "outputs": [
    {
     "name": "stdout",
     "output_type": "stream",
     "text": [
      "68 samples required\n"
     ]
    }
   ],
   "source": [
    "# zscore: 1.64 (90% CI), proportion-estimate: 50%, desired margin of error: +10 %\n",
    "n_size_prop(1.645, 0.50, 0.10) "
   ]
  },
  {
   "cell_type": "markdown",
   "metadata": {},
   "source": [
    "## ------ STATISTICAL QUALITY CONTROL  ------"
   ]
  },
  {
   "cell_type": "markdown",
   "metadata": {},
   "source": [
    "### Group Mean"
   ]
  },
  {
   "cell_type": "code",
   "execution_count": 107,
   "metadata": {},
   "outputs": [
    {
     "name": "stdout",
     "output_type": "stream",
     "text": [
      "Result:\n",
      "Group 9 out of mean control limits!\n"
     ]
    },
    {
     "data": {
      "image/png": "[encoded data removed]",
      "text/plain": [
       "<Figure size 1080x576 with 1 Axes>"
      ]
     },
     "metadata": {
      "needs_background": "light"
     },
     "output_type": "display_data"
    }
   ],
   "source": [
    "# creating dummy data\n",
    "np.random.seed(2)\n",
    "x = np.array([\n",
    "        list(np.random.normal(loc=10, scale=2, size=25)),\n",
    "        list(np.random.normal(loc=10, scale=2, size=25)),\n",
    "        list(np.random.normal(loc=10, scale=2, size=25)),\n",
    "        list(np.random.normal(loc=10, scale=2, size=25)),\n",
    "        list(np.random.normal(loc=10, scale=2, size=25)),\n",
    "        list(np.random.normal(loc=10, scale=2, size=25)),\n",
    "        list(np.random.normal(loc=10, scale=2, size=25)),\n",
    "        list(np.random.normal(loc=10, scale=2, size=25)),\n",
    "        list(np.random.normal(loc=10, scale=2, size=25)),\n",
    "        list(np.random.normal(loc=11.8, scale=2, size=25)),\n",
    "        list(np.random.normal(loc=11, scale=2, size=25))])\n",
    "        \n",
    "# defining list variable for groups means & standard deviations\n",
    "x_bar = []\n",
    "s = [] \n",
    "\n",
    "# getting groups means and standard deviations\n",
    "for group in x:\n",
    "    x_bar.append(group.mean())\n",
    "    s.append(np.std(group))\n",
    "\n",
    "# plotting control chart\n",
    "fig, axs = plt.subplots(figsize=(15, 8))\n",
    "axs.plot(x_bar, linestyle='-', marker='o', color='black')\n",
    "axs.axhline((np.mean(x_bar)), color='blue')\n",
    "axs.axhline((np.mean(x_bar) + 3*np.mean(s)/np.sqrt(len(group))), color='red', linestyle='dashed')\n",
    "axs.axhline((np.mean(x_bar) - 3*np.mean(s)/np.sqrt(len(group))), color='red', linestyle='dashed')\n",
    "axs.set_title('Control Chart (Group Mean)')\n",
    "axs.set(xlabel='Group', ylabel='Mean')\n",
    "\n",
    "# validating limits\n",
    "i = 0\n",
    "control = True\n",
    "print('Result:')\n",
    "for num in x_bar:\n",
    "    if num > np.mean(x_bar) + 3*np.mean(s)/np.sqrt(len(group)) or num < np.mean(x_bar) - 3*np.mean(s)/np.sqrt(len(group)):\n",
    "        print('Group', i, 'out of mean control limits!')\n",
    "        control = False\n",
    "    i += 1\n",
    "if control == True:\n",
    "    print('All points within control limits.')"
   ]
  },
  {
   "cell_type": "markdown",
   "metadata": {},
   "source": [
    "### Defect Count"
   ]
  },
  {
   "cell_type": "code",
   "execution_count": 104,
   "metadata": {},
   "outputs": [
    {
     "name": "stdout",
     "output_type": "stream",
     "text": [
      "Result:\n",
      "Group 7 out of defects control limits!\n"
     ]
    },
    {
     "data": {
      "image/png": "[encoded data removed]",
      "text/plain": [
       "<Figure size 1080x576 with 1 Axes>"
      ]
     },
     "metadata": {
      "needs_background": "light"
     },
     "output_type": "display_data"
    }
   ],
   "source": [
    "# creating dummy data\n",
    "np.random.seed(4)\n",
    "c = pd.DataFrame({'defects':np.random.randint(0,5,10).tolist(),\n",
    "    'group_size':np.repeat(100,10).tolist()})\n",
    "\n",
    "# plotting control chart\n",
    "plt.figure(figsize=(15,8))\n",
    "plt.plot(c['defects'], linestyle='-', marker='o', color='black')\n",
    "plt.axhline(2, color='blue')\n",
    "plt.axhline(2 + 3*np.std(c['defects'])/np.sqrt(10), color='red', linestyle='dashed')\n",
    "plt.ylim(bottom=0)\n",
    "plt.title('Control Chart (Defect Count)')\n",
    "plt.xlabel('Group')\n",
    "plt.ylabel('Count')\n",
    "\n",
    "# validating limits\n",
    "i = 0\n",
    "control = True\n",
    "print('Result:')\n",
    "for num in c['defects']:\n",
    "    if num > 2 + 3*np.std(c['defects'])/np.sqrt(10):\n",
    "        print('Group', i, 'out of defects control limits!')\n",
    "        control = False\n",
    "    i += 1\n",
    "if control == True:\n",
    "    print('All points within control limits.')"
   ]
  }
 ],
 "metadata": {
  "kernelspec": {
   "display_name": "Python 3",
   "language": "python",
   "name": "python3"
  },
  "language_info": {
   "codemirror_mode": {
    "name": "ipython",
    "version": 3
   },
   "file_extension": ".py",
   "mimetype": "text/x-python",
   "name": "python",
   "nbconvert_exporter": "python",
   "pygments_lexer": "ipython3",
   "version": "3.7.4"
  }
 },
 "nbformat": 4,
 "nbformat_minor": 2
}
