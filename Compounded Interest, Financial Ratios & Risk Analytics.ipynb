{
 "cells": [
  {
   "cell_type": "markdown",
   "metadata": {},
   "source": [
    "# TABLE OF CONTENTS"
   ]
  },
  {
   "cell_type": "markdown",
   "metadata": {},
   "source": [
    "1. [Business Problem](#problem)\n",
    "2. [Basic Imports](#basic_imports) \n",
    "3. [Bank Statements Analysis](#bank_statement)\n",
    "    1. [Loan, Interest & Future Value](#bank_statement1)\n",
    "    2. [Cash Flow Measures](#bank_statement2)\n",
    "4. [Financial Statements Analysis](#ratio)\n",
    "    1. [Profitability Measures](#ratio1)\n",
    "    2. [Liquidity Measures](#ratio2)\n",
    "    3. [Solvency Measures](#ratio3)\n",
    "    4. [Activity Measures](#ratio4)\n",
    "5. [Conclusion](#conclusion)\n"
   ]
  },
  {
   "cell_type": "markdown",
   "metadata": {},
   "source": [
    "# BUSINESS PROBLEM <a name='problem'><a/>"
   ]
  },
  {
   "cell_type": "markdown",
   "metadata": {},
   "source": [
    "- The objective here is to do an analysis on a potential customer (company) who requested a loan of IDR 500 million for a tenure of 3 months.\n",
    "- We are provided by with two primary data sources  of Bank Statement (Debit & Credit Cashflow) & Financial Statement (Balance Sheet & income Statement) \n",
    "- The objective of this analysis is to make an informed decision, supported by data, on whether to accept or reject the customer's loan request"
   ]
  },
  {
   "cell_type": "markdown",
   "metadata": {},
   "source": [
    "# BASIC IMPORTS <a name='basic_imports'><a/>"
   ]
  },
  {
   "cell_type": "code",
   "execution_count": 1,
   "metadata": {},
   "outputs": [],
   "source": [
    "# importimg modules\n",
    "import os\n",
    "import pandas as pd\n",
    "import numpy as np\n",
    "import seaborn as sns\n",
    "import matplotlib.pyplot as plt\n",
    "import datetime as dt\n",
    "import scorecardpy as sc\n",
    "from tqdm import tqdm\n",
    "\n",
    "import warnings\n",
    "warnings.filterwarnings(\"ignore\")\n",
    "%matplotlib inline\n",
    "%load_ext autoreload\n",
    "%autoreload 2\n",
    "\n",
    "# format output\n",
    "pd.set_option('display.max_columns', None)\n",
    "pd.set_option('display.max_rows', 150)\n",
    "pd.set_option('display.float_format', lambda x: '%.2f' % x)"
   ]
  },
  {
   "cell_type": "code",
   "execution_count": 2,
   "metadata": {},
   "outputs": [],
   "source": [
    "# importing percentile helper functions\n",
    "def percentile_(n):\n",
    "    def percentile(grp):\n",
    "        return grp.quantile(n / 100)\n",
    "    percentile.__name__ = f'{n}%'\n",
    "    return percentile\n",
    "\n",
    "# importing describer helper functions\n",
    "def describe_(data):\n",
    "    listItem = []\n",
    "    for col in data.columns:\n",
    "        listItem.append([col, data[col].dtype, data[col].notna().sum(), data[col].isna().sum(),\n",
    "                        round((data[col].isna().sum()/len(data[col])) * 100,2),\n",
    "                        data[col].nunique(), list(data[col].drop_duplicates().sample(1).values)]);\n",
    "    dfDesc = pd.DataFrame(columns=['Data Features', 'Data Type', 'Not-Null Count', 'Null Count', 'Null %', \n",
    "                                   'N-Unique', 'Unique Sample'],\n",
    "                         data=listItem)\n",
    "    return dfDesc"
   ]
  },
  {
   "cell_type": "code",
   "execution_count": 3,
   "metadata": {},
   "outputs": [],
   "source": [
    "# importing data\n",
    "df1 = pd.read_csv('Bank_Statement.csv')\n",
    "df2 = pd.read_excel('Financial_Statement.xlsx', sheet_name='BS', skiprows=2)\n",
    "df3 = pd.read_excel('Financial_Statement.xlsx', sheet_name='Income Statement')\n",
    "\n",
    "# data contingency\n",
    "bank_df = df1.copy(deep=True)\n",
    "bs_df = df2.copy(deep=True)\n",
    "is_df = df3.copy(deep=True)"
   ]
  },
  {
   "cell_type": "markdown",
   "metadata": {},
   "source": [
    "# BANK STATEMENT ANALYSIS <a name=bank_statement><a/>"
   ]
  },
  {
   "cell_type": "code",
   "execution_count": 4,
   "metadata": {},
   "outputs": [],
   "source": [
    "# converting excel serial date to datetime\n",
    "def excel_date_to_datetime(excel_date):\n",
    "    return dt.datetime(1899, 12, 30) + dt.timedelta(days=excel_date)\n",
    "\n",
    "bank_df['Transaction Date'] = bank_df['Transaction Date'].apply(excel_date_to_datetime)"
   ]
  },
  {
   "cell_type": "code",
   "execution_count": 5,
   "metadata": {
    "scrolled": false
   },
   "outputs": [
    {
     "data": {
      "text/plain": [
       "(128, 9)"
      ]
     },
     "metadata": {},
     "output_type": "display_data"
    },
    {
     "data": {
      "text/html": [
       "<div>\n",
       "<style scoped>\n",
       "    .dataframe tbody tr th:only-of-type {\n",
       "        vertical-align: middle;\n",
       "    }\n",
       "\n",
       "    .dataframe tbody tr th {\n",
       "        vertical-align: top;\n",
       "    }\n",
       "\n",
       "    .dataframe thead th {\n",
       "        text-align: right;\n",
       "    }\n",
       "</style>\n",
       "<table border=\"1\" class=\"dataframe\">\n",
       "  <thead>\n",
       "    <tr style=\"text-align: right;\">\n",
       "      <th></th>\n",
       "      <th>Bank Name</th>\n",
       "      <th>Bank Country</th>\n",
       "      <th>Bank Account Number</th>\n",
       "      <th>Channel</th>\n",
       "      <th>Currency</th>\n",
       "      <th>Transaction Date</th>\n",
       "      <th>Debit</th>\n",
       "      <th>Credit</th>\n",
       "      <th>Balance</th>\n",
       "    </tr>\n",
       "  </thead>\n",
       "  <tbody>\n",
       "    <tr>\n",
       "      <th>0</th>\n",
       "      <td>MANDIRI</td>\n",
       "      <td>Indonesia</td>\n",
       "      <td>700009922571</td>\n",
       "      <td>csv</td>\n",
       "      <td>IDR</td>\n",
       "      <td>2023-08-04</td>\n",
       "      <td>500000</td>\n",
       "      <td>0</td>\n",
       "      <td>7184719</td>\n",
       "    </tr>\n",
       "    <tr>\n",
       "      <th>1</th>\n",
       "      <td>MANDIRI</td>\n",
       "      <td>Indonesia</td>\n",
       "      <td>700009922571</td>\n",
       "      <td>csv</td>\n",
       "      <td>IDR</td>\n",
       "      <td>2023-08-04</td>\n",
       "      <td>555000</td>\n",
       "      <td>0</td>\n",
       "      <td>6629719</td>\n",
       "    </tr>\n",
       "    <tr>\n",
       "      <th>2</th>\n",
       "      <td>MANDIRI</td>\n",
       "      <td>Indonesia</td>\n",
       "      <td>700009922571</td>\n",
       "      <td>csv</td>\n",
       "      <td>IDR</td>\n",
       "      <td>2023-08-06</td>\n",
       "      <td>0</td>\n",
       "      <td>36000000</td>\n",
       "      <td>42629719</td>\n",
       "    </tr>\n",
       "    <tr>\n",
       "      <th>3</th>\n",
       "      <td>MANDIRI</td>\n",
       "      <td>Indonesia</td>\n",
       "      <td>700009922571</td>\n",
       "      <td>csv</td>\n",
       "      <td>IDR</td>\n",
       "      <td>2023-08-06</td>\n",
       "      <td>36000000</td>\n",
       "      <td>0</td>\n",
       "      <td>6629719</td>\n",
       "    </tr>\n",
       "    <tr>\n",
       "      <th>4</th>\n",
       "      <td>MANDIRI</td>\n",
       "      <td>Indonesia</td>\n",
       "      <td>700009922571</td>\n",
       "      <td>csv</td>\n",
       "      <td>IDR</td>\n",
       "      <td>2023-08-11</td>\n",
       "      <td>5000000</td>\n",
       "      <td>0</td>\n",
       "      <td>1629719</td>\n",
       "    </tr>\n",
       "  </tbody>\n",
       "</table>\n",
       "</div>"
      ],
      "text/plain": [
       "  Bank Name Bank Country  Bank Account Number Channel Currency  \\\n",
       "0   MANDIRI    Indonesia         700009922571     csv      IDR   \n",
       "1   MANDIRI    Indonesia         700009922571     csv      IDR   \n",
       "2   MANDIRI    Indonesia         700009922571     csv      IDR   \n",
       "3   MANDIRI    Indonesia         700009922571     csv      IDR   \n",
       "4   MANDIRI    Indonesia         700009922571     csv      IDR   \n",
       "\n",
       "  Transaction Date     Debit    Credit   Balance  \n",
       "0       2023-08-04    500000         0   7184719  \n",
       "1       2023-08-04    555000         0   6629719  \n",
       "2       2023-08-06         0  36000000  42629719  \n",
       "3       2023-08-06  36000000         0   6629719  \n",
       "4       2023-08-11   5000000         0   1629719  "
      ]
     },
     "metadata": {},
     "output_type": "display_data"
    },
    {
     "data": {
      "text/html": [
       "<div>\n",
       "<style scoped>\n",
       "    .dataframe tbody tr th:only-of-type {\n",
       "        vertical-align: middle;\n",
       "    }\n",
       "\n",
       "    .dataframe tbody tr th {\n",
       "        vertical-align: top;\n",
       "    }\n",
       "\n",
       "    .dataframe thead th {\n",
       "        text-align: right;\n",
       "    }\n",
       "</style>\n",
       "<table border=\"1\" class=\"dataframe\">\n",
       "  <thead>\n",
       "    <tr style=\"text-align: right;\">\n",
       "      <th></th>\n",
       "      <th>Bank Account Number</th>\n",
       "      <th>Debit</th>\n",
       "      <th>Credit</th>\n",
       "      <th>Balance</th>\n",
       "    </tr>\n",
       "  </thead>\n",
       "  <tbody>\n",
       "    <tr>\n",
       "      <th>count</th>\n",
       "      <td>128.00</td>\n",
       "      <td>128.00</td>\n",
       "      <td>128.00</td>\n",
       "      <td>128.00</td>\n",
       "    </tr>\n",
       "    <tr>\n",
       "      <th>mean</th>\n",
       "      <td>700009922571.00</td>\n",
       "      <td>16024980.51</td>\n",
       "      <td>28992680.22</td>\n",
       "      <td>1528094180.85</td>\n",
       "    </tr>\n",
       "    <tr>\n",
       "      <th>std</th>\n",
       "      <td>0.00</td>\n",
       "      <td>54661955.61</td>\n",
       "      <td>160820625.41</td>\n",
       "      <td>764061951.22</td>\n",
       "    </tr>\n",
       "    <tr>\n",
       "      <th>min</th>\n",
       "      <td>700009922571.00</td>\n",
       "      <td>0.00</td>\n",
       "      <td>0.00</td>\n",
       "      <td>1074629.00</td>\n",
       "    </tr>\n",
       "    <tr>\n",
       "      <th>25%</th>\n",
       "      <td>700009922571.00</td>\n",
       "      <td>6500.00</td>\n",
       "      <td>0.00</td>\n",
       "      <td>1652833682.50</td>\n",
       "    </tr>\n",
       "    <tr>\n",
       "      <th>50%</th>\n",
       "      <td>700009922571.00</td>\n",
       "      <td>735000.00</td>\n",
       "      <td>0.00</td>\n",
       "      <td>1687706914.00</td>\n",
       "    </tr>\n",
       "    <tr>\n",
       "      <th>75%</th>\n",
       "      <td>700009922571.00</td>\n",
       "      <td>8852976.00</td>\n",
       "      <td>0.00</td>\n",
       "      <td>1910508939.50</td>\n",
       "    </tr>\n",
       "    <tr>\n",
       "      <th>max</th>\n",
       "      <td>700009922571.00</td>\n",
       "      <td>500000000.00</td>\n",
       "      <td>1447220250.00</td>\n",
       "      <td>2837894748.00</td>\n",
       "    </tr>\n",
       "  </tbody>\n",
       "</table>\n",
       "</div>"
      ],
      "text/plain": [
       "       Bank Account Number        Debit        Credit       Balance\n",
       "count               128.00       128.00        128.00        128.00\n",
       "mean       700009922571.00  16024980.51   28992680.22 1528094180.85\n",
       "std                   0.00  54661955.61  160820625.41  764061951.22\n",
       "min        700009922571.00         0.00          0.00    1074629.00\n",
       "25%        700009922571.00      6500.00          0.00 1652833682.50\n",
       "50%        700009922571.00    735000.00          0.00 1687706914.00\n",
       "75%        700009922571.00   8852976.00          0.00 1910508939.50\n",
       "max        700009922571.00 500000000.00 1447220250.00 2837894748.00"
      ]
     },
     "metadata": {},
     "output_type": "display_data"
    },
    {
     "data": {
      "text/html": [
       "<div>\n",
       "<style scoped>\n",
       "    .dataframe tbody tr th:only-of-type {\n",
       "        vertical-align: middle;\n",
       "    }\n",
       "\n",
       "    .dataframe tbody tr th {\n",
       "        vertical-align: top;\n",
       "    }\n",
       "\n",
       "    .dataframe thead th {\n",
       "        text-align: right;\n",
       "    }\n",
       "</style>\n",
       "<table border=\"1\" class=\"dataframe\">\n",
       "  <thead>\n",
       "    <tr style=\"text-align: right;\">\n",
       "      <th></th>\n",
       "      <th>Data Features</th>\n",
       "      <th>Data Type</th>\n",
       "      <th>Not-Null Count</th>\n",
       "      <th>Null Count</th>\n",
       "      <th>Null %</th>\n",
       "      <th>N-Unique</th>\n",
       "      <th>Unique Sample</th>\n",
       "    </tr>\n",
       "  </thead>\n",
       "  <tbody>\n",
       "    <tr>\n",
       "      <th>0</th>\n",
       "      <td>Bank Name</td>\n",
       "      <td>object</td>\n",
       "      <td>128</td>\n",
       "      <td>0</td>\n",
       "      <td>0.00</td>\n",
       "      <td>1</td>\n",
       "      <td>[MANDIRI]</td>\n",
       "    </tr>\n",
       "    <tr>\n",
       "      <th>1</th>\n",
       "      <td>Bank Country</td>\n",
       "      <td>object</td>\n",
       "      <td>128</td>\n",
       "      <td>0</td>\n",
       "      <td>0.00</td>\n",
       "      <td>1</td>\n",
       "      <td>[Indonesia]</td>\n",
       "    </tr>\n",
       "    <tr>\n",
       "      <th>2</th>\n",
       "      <td>Bank Account Number</td>\n",
       "      <td>int64</td>\n",
       "      <td>128</td>\n",
       "      <td>0</td>\n",
       "      <td>0.00</td>\n",
       "      <td>1</td>\n",
       "      <td>[700009922571]</td>\n",
       "    </tr>\n",
       "    <tr>\n",
       "      <th>3</th>\n",
       "      <td>Channel</td>\n",
       "      <td>object</td>\n",
       "      <td>128</td>\n",
       "      <td>0</td>\n",
       "      <td>0.00</td>\n",
       "      <td>1</td>\n",
       "      <td>[csv]</td>\n",
       "    </tr>\n",
       "    <tr>\n",
       "      <th>4</th>\n",
       "      <td>Currency</td>\n",
       "      <td>object</td>\n",
       "      <td>128</td>\n",
       "      <td>0</td>\n",
       "      <td>0.00</td>\n",
       "      <td>1</td>\n",
       "      <td>[IDR]</td>\n",
       "    </tr>\n",
       "    <tr>\n",
       "      <th>5</th>\n",
       "      <td>Transaction Date</td>\n",
       "      <td>datetime64[ns]</td>\n",
       "      <td>128</td>\n",
       "      <td>0</td>\n",
       "      <td>0.00</td>\n",
       "      <td>26</td>\n",
       "      <td>[2023-10-13T00:00:00.000000000]</td>\n",
       "    </tr>\n",
       "    <tr>\n",
       "      <th>6</th>\n",
       "      <td>Debit</td>\n",
       "      <td>int64</td>\n",
       "      <td>128</td>\n",
       "      <td>0</td>\n",
       "      <td>0.00</td>\n",
       "      <td>62</td>\n",
       "      <td>[1735000]</td>\n",
       "    </tr>\n",
       "    <tr>\n",
       "      <th>7</th>\n",
       "      <td>Credit</td>\n",
       "      <td>int64</td>\n",
       "      <td>128</td>\n",
       "      <td>0</td>\n",
       "      <td>0.00</td>\n",
       "      <td>16</td>\n",
       "      <td>[1447220250]</td>\n",
       "    </tr>\n",
       "    <tr>\n",
       "      <th>8</th>\n",
       "      <td>Balance</td>\n",
       "      <td>int64</td>\n",
       "      <td>128</td>\n",
       "      <td>0</td>\n",
       "      <td>0.00</td>\n",
       "      <td>124</td>\n",
       "      <td>[1623219]</td>\n",
       "    </tr>\n",
       "  </tbody>\n",
       "</table>\n",
       "</div>"
      ],
      "text/plain": [
       "         Data Features       Data Type  Not-Null Count  Null Count  Null %  \\\n",
       "0            Bank Name          object             128           0    0.00   \n",
       "1         Bank Country          object             128           0    0.00   \n",
       "2  Bank Account Number           int64             128           0    0.00   \n",
       "3              Channel          object             128           0    0.00   \n",
       "4             Currency          object             128           0    0.00   \n",
       "5     Transaction Date  datetime64[ns]             128           0    0.00   \n",
       "6                Debit           int64             128           0    0.00   \n",
       "7               Credit           int64             128           0    0.00   \n",
       "8              Balance           int64             128           0    0.00   \n",
       "\n",
       "   N-Unique                    Unique Sample  \n",
       "0         1                        [MANDIRI]  \n",
       "1         1                      [Indonesia]  \n",
       "2         1                   [700009922571]  \n",
       "3         1                            [csv]  \n",
       "4         1                            [IDR]  \n",
       "5        26  [2023-10-13T00:00:00.000000000]  \n",
       "6        62                        [1735000]  \n",
       "7        16                     [1447220250]  \n",
       "8       124                        [1623219]  "
      ]
     },
     "execution_count": 5,
     "metadata": {},
     "output_type": "execute_result"
    }
   ],
   "source": [
    "# overall view of the first bank statement data\n",
    "display(bank_df.shape)\n",
    "display(bank_df.head())\n",
    "display(bank_df.describe())\n",
    "describe_(bank_df)"
   ]
  },
  {
   "cell_type": "markdown",
   "metadata": {},
   "source": [
    "## A) Loan, Interest & Future Values <a name=bank_statement1><a/>"
   ]
  },
  {
   "cell_type": "markdown",
   "metadata": {},
   "source": [
    "Future Value is the value of a current asset at a specified date in the future based on an assumed rate of growth or interest. "
   ]
  },
  {
   "cell_type": "code",
   "execution_count": 6,
   "metadata": {},
   "outputs": [
    {
     "name": "stdout",
     "output_type": "stream",
     "text": [
      "Total Interest: IDR4520083.867979109\n",
      "Monthly Loan Payment: IDR168173361.28932637\n"
     ]
    },
    {
     "data": {
      "text/plain": [
       "0.009040167735958171"
      ]
     },
     "execution_count": 6,
     "metadata": {},
     "output_type": "execute_result"
    }
   ],
   "source": [
    "# loan request & its assumptions\n",
    "loan_request = 500_000_000\n",
    "daily_interest_rate = 0.0001 # assumed highest fintech rate for productive loan (OJK)\n",
    "days = 90 # 3 month tenure\n",
    "\n",
    "# future value analysis\n",
    "future_value = loan_request * (1 + daily_interest_rate) ** days\n",
    "interest_fee = future_value - loan_request\n",
    "monthly_interest_service = (loan_request + interest_fee)/3 # monthly payment\n",
    "final_interest_rate = (future_value/loan_request) - 1\n",
    "print(f\"Total Interest: IDR{interest_fee}\")\n",
    "print(f\"Monthly Loan Payment: IDR{monthly_interest_service}\")\n",
    "final_interest_rate"
   ]
  },
  {
   "cell_type": "markdown",
   "metadata": {},
   "source": [
    "- As it can be seen from the previous informations, the loan of IDR500 million with tenure of 3 months & assumed daily interest rate of 0.01% will result in the final interest fee of around IDR4,5 miilion (the final interest rate being around 0.9% by the end of 3 months)\n",
    "- Within 3 months, its monthly loan payment should be around IDR168,1 million"
   ]
  },
  {
   "cell_type": "markdown",
   "metadata": {},
   "source": [
    "## B) Cash Flow Measures <a name=bank_statement2><a/>"
   ]
  },
  {
   "cell_type": "code",
   "execution_count": 7,
   "metadata": {},
   "outputs": [
    {
     "name": "stdout",
     "output_type": "stream",
     "text": [
      "Min Date: 2023-08-04 00:00:00 & Max Date:2023-10-30 00:00:00\n",
      "Range of 87 days\n"
     ]
    }
   ],
   "source": [
    "# getting the range of transaction dates\n",
    "print(f\"Min Date: {bank_df['Transaction Date'].min()} & Max Date:{bank_df['Transaction Date'].max()}\")\n",
    "print(f\"Range of {(bank_df['Transaction Date'].max()- bank_df['Transaction Date'].min()).days} days\")"
   ]
  },
  {
   "cell_type": "code",
   "execution_count": 8,
   "metadata": {},
   "outputs": [
    {
     "name": "stdout",
     "output_type": "stream",
     "text": [
      "Last Balance: IDR1667550282\n",
      "Overall Avg Balance: IDR1528094180.8515625\n",
      "Coefficient of Variation (CV): 0.5000097250521941\n"
     ]
    }
   ],
   "source": [
    "# getting the average balance and its coefficient of variation\n",
    "balance_lst = bank_df.iloc[-1]['Balance']\n",
    "balance_avg = bank_df['Balance'].mean()\n",
    "balance_std = bank_df['Balance'].std()\n",
    "CV = balance_std/balance_avg\n",
    "\n",
    "print(f\"Last Balance: IDR{balance_lst}\")\n",
    "print(f\"Overall Avg Balance: IDR{balance_avg}\")\n",
    "print(f\"Coefficient of Variation (CV): {CV}\")"
   ]
  },
  {
   "cell_type": "code",
   "execution_count": 10,
   "metadata": {},
   "outputs": [
    {
     "name": "stdout",
     "output_type": "stream",
     "text": [
      "Monthly Avg Debit (Cash-Outflow): IDR683732501.67\n",
      "Monthly Avg Credit (Cash-Inflow): IDR1237021022.67\n"
     ]
    }
   ],
   "source": [
    "# getting the monthly average of debit, credit & balance (in period of 3 months)\n",
    "avg_debit = round(bank_df['Debit'].sum()/3,2)\n",
    "avg_credit = round(bank_df['Credit'].sum()/3,2)\n",
    "\n",
    "print(f\"Monthly Avg Debit (Cash-Outflow): IDR{avg_debit}\")\n",
    "print(f\"Monthly Avg Credit (Cash-Inflow): IDR{avg_credit}\")"
   ]
  },
  {
   "cell_type": "code",
   "execution_count": 11,
   "metadata": {},
   "outputs": [
    {
     "name": "stdout",
     "output_type": "stream",
     "text": [
      "Monthly Avg Net Operating Cash Flow: IDR553288521.0\n"
     ]
    }
   ],
   "source": [
    "# getting the avg monthly net operating cash flow\n",
    "avg_operating_cashflow = (bank_df['Credit'].sum() - bank_df['Debit'].sum())/3\n",
    "print(f\"Monthly Avg Net Operating Cash Flow: IDR{avg_operating_cashflow}\")"
   ]
  },
  {
   "cell_type": "code",
   "execution_count": 12,
   "metadata": {},
   "outputs": [
    {
     "name": "stdout",
     "output_type": "stream",
     "text": [
      "Cash Coverage Ratio: 3.289989072931232\n",
      "Debt Burden Ratio: 30.4%\n"
     ]
    }
   ],
   "source": [
    "# cash coverage & debt burden ratio ratio \n",
    "print(f\"Cash Coverage Ratio: {avg_operating_cashflow/monthly_interest_service}\")\n",
    "print(f\"Debt Burden Ratio: {round(monthly_interest_service/avg_operating_cashflow*100,2)}%\")"
   ]
  },
  {
   "cell_type": "markdown",
   "metadata": {},
   "source": [
    "- As it can be seen from the previous informations, the overall average bank balance of the company is IDR1,5 billion with Coefficient of Variation 0,5 (well below 1) which means that not only the company has relatively high average of bank balance (compared to monthly interest payment of IDR168,1 million), but it also has a relatively stabler financial swings & activities. Furthermore, the company's average monthly Net Operating Cashflow is around IDR553 million. With that being said, we can know that the Cash Coverage Ratio is 3.29 & its monthly Debt Burden Ratio 30.4% that needs monitoring. These levels of measurement indicates a moderate initial risk outlook."
   ]
  },
  {
   "cell_type": "markdown",
   "metadata": {},
   "source": [
    "# FINANCIAL STATEMENTS ANALYSIS <a name=ratio><a/>\n"
   ]
  },
  {
   "cell_type": "code",
   "execution_count": 13,
   "metadata": {
    "scrolled": false
   },
   "outputs": [
    {
     "data": {
      "text/html": [
       "<div>\n",
       "<style scoped>\n",
       "    .dataframe tbody tr th:only-of-type {\n",
       "        vertical-align: middle;\n",
       "    }\n",
       "\n",
       "    .dataframe tbody tr th {\n",
       "        vertical-align: top;\n",
       "    }\n",
       "\n",
       "    .dataframe thead th {\n",
       "        text-align: right;\n",
       "    }\n",
       "</style>\n",
       "<table border=\"1\" class=\"dataframe\">\n",
       "  <thead>\n",
       "    <tr style=\"text-align: right;\">\n",
       "      <th></th>\n",
       "      <th>Current Asset</th>\n",
       "      <th>Unnamed: 1</th>\n",
       "      <th>Unnamed: 2</th>\n",
       "    </tr>\n",
       "  </thead>\n",
       "  <tbody>\n",
       "    <tr>\n",
       "      <th>0</th>\n",
       "      <td>Bank Statement</td>\n",
       "      <td>NaN</td>\n",
       "      <td>1667550282.00</td>\n",
       "    </tr>\n",
       "    <tr>\n",
       "      <th>1</th>\n",
       "      <td>Cash</td>\n",
       "      <td>NaN</td>\n",
       "      <td>500000000.00</td>\n",
       "    </tr>\n",
       "    <tr>\n",
       "      <th>2</th>\n",
       "      <td>Trade Receivables</td>\n",
       "      <td>NaN</td>\n",
       "      <td>5280000000.00</td>\n",
       "    </tr>\n",
       "    <tr>\n",
       "      <th>3</th>\n",
       "      <td>Inventory</td>\n",
       "      <td>NaN</td>\n",
       "      <td>200000000.00</td>\n",
       "    </tr>\n",
       "    <tr>\n",
       "      <th>4</th>\n",
       "      <td>Total Current Asset</td>\n",
       "      <td>NaN</td>\n",
       "      <td>7647550282.00</td>\n",
       "    </tr>\n",
       "    <tr>\n",
       "      <th>5</th>\n",
       "      <td>Total Fixed Asset</td>\n",
       "      <td>NaN</td>\n",
       "      <td>5000000000.00</td>\n",
       "    </tr>\n",
       "    <tr>\n",
       "      <th>6</th>\n",
       "      <td>Total Asset</td>\n",
       "      <td>NaN</td>\n",
       "      <td>12647550282.00</td>\n",
       "    </tr>\n",
       "    <tr>\n",
       "      <th>7</th>\n",
       "      <td>NaN</td>\n",
       "      <td>NaN</td>\n",
       "      <td>NaN</td>\n",
       "    </tr>\n",
       "    <tr>\n",
       "      <th>8</th>\n",
       "      <td>Current Liabilities</td>\n",
       "      <td>NaN</td>\n",
       "      <td>NaN</td>\n",
       "    </tr>\n",
       "    <tr>\n",
       "      <th>9</th>\n",
       "      <td>Supplier Payables</td>\n",
       "      <td>NaN</td>\n",
       "      <td>3520000000.00</td>\n",
       "    </tr>\n",
       "    <tr>\n",
       "      <th>10</th>\n",
       "      <td>Bank Loans</td>\n",
       "      <td>NaN</td>\n",
       "      <td>1500000000.00</td>\n",
       "    </tr>\n",
       "    <tr>\n",
       "      <th>11</th>\n",
       "      <td>Total Current Liabilities</td>\n",
       "      <td>NaN</td>\n",
       "      <td>5020000000.00</td>\n",
       "    </tr>\n",
       "    <tr>\n",
       "      <th>12</th>\n",
       "      <td>Total Liabilities</td>\n",
       "      <td>NaN</td>\n",
       "      <td>5020000000.00</td>\n",
       "    </tr>\n",
       "    <tr>\n",
       "      <th>13</th>\n",
       "      <td>NaN</td>\n",
       "      <td>NaN</td>\n",
       "      <td>NaN</td>\n",
       "    </tr>\n",
       "    <tr>\n",
       "      <th>14</th>\n",
       "      <td>Equity</td>\n",
       "      <td>NaN</td>\n",
       "      <td>NaN</td>\n",
       "    </tr>\n",
       "    <tr>\n",
       "      <th>15</th>\n",
       "      <td>Share Capital</td>\n",
       "      <td>NaN</td>\n",
       "      <td>2000000000.00</td>\n",
       "    </tr>\n",
       "    <tr>\n",
       "      <th>16</th>\n",
       "      <td>Additional Paid in Capital</td>\n",
       "      <td>NaN</td>\n",
       "      <td>4500000000.00</td>\n",
       "    </tr>\n",
       "    <tr>\n",
       "      <th>17</th>\n",
       "      <td>Income Up to Last Year</td>\n",
       "      <td>NaN</td>\n",
       "      <td>500000000.00</td>\n",
       "    </tr>\n",
       "    <tr>\n",
       "      <th>18</th>\n",
       "      <td>Income this period</td>\n",
       "      <td>NaN</td>\n",
       "      <td>627550282.00</td>\n",
       "    </tr>\n",
       "    <tr>\n",
       "      <th>19</th>\n",
       "      <td>NaN</td>\n",
       "      <td>NaN</td>\n",
       "      <td>NaN</td>\n",
       "    </tr>\n",
       "    <tr>\n",
       "      <th>20</th>\n",
       "      <td>Total Equities</td>\n",
       "      <td>NaN</td>\n",
       "      <td>7627550282.00</td>\n",
       "    </tr>\n",
       "  </tbody>\n",
       "</table>\n",
       "</div>"
      ],
      "text/plain": [
       "                 Current Asset  Unnamed: 1     Unnamed: 2\n",
       "0               Bank Statement         NaN  1667550282.00\n",
       "1                         Cash         NaN   500000000.00\n",
       "2            Trade Receivables         NaN  5280000000.00\n",
       "3                    Inventory         NaN   200000000.00\n",
       "4          Total Current Asset         NaN  7647550282.00\n",
       "5            Total Fixed Asset         NaN  5000000000.00\n",
       "6                  Total Asset         NaN 12647550282.00\n",
       "7                          NaN         NaN            NaN\n",
       "8          Current Liabilities         NaN            NaN\n",
       "9            Supplier Payables         NaN  3520000000.00\n",
       "10                  Bank Loans         NaN  1500000000.00\n",
       "11   Total Current Liabilities         NaN  5020000000.00\n",
       "12           Total Liabilities         NaN  5020000000.00\n",
       "13                         NaN         NaN            NaN\n",
       "14                      Equity         NaN            NaN\n",
       "15               Share Capital         NaN  2000000000.00\n",
       "16  Additional Paid in Capital         NaN  4500000000.00\n",
       "17      Income Up to Last Year         NaN   500000000.00\n",
       "18          Income this period         NaN   627550282.00\n",
       "19                         NaN         NaN            NaN\n",
       "20              Total Equities         NaN  7627550282.00"
      ]
     },
     "execution_count": 13,
     "metadata": {},
     "output_type": "execute_result"
    }
   ],
   "source": [
    "# overall view of the balance sheet data\n",
    "bs_df"
   ]
  },
  {
   "cell_type": "code",
   "execution_count": 14,
   "metadata": {},
   "outputs": [
    {
     "data": {
      "text/html": [
       "<div>\n",
       "<style scoped>\n",
       "    .dataframe tbody tr th:only-of-type {\n",
       "        vertical-align: middle;\n",
       "    }\n",
       "\n",
       "    .dataframe tbody tr th {\n",
       "        vertical-align: top;\n",
       "    }\n",
       "\n",
       "    .dataframe thead th {\n",
       "        text-align: right;\n",
       "    }\n",
       "</style>\n",
       "<table border=\"1\" class=\"dataframe\">\n",
       "  <thead>\n",
       "    <tr style=\"text-align: right;\">\n",
       "      <th></th>\n",
       "      <th>Income Statement</th>\n",
       "      <th>Unnamed: 1</th>\n",
       "      <th>Unnamed: 2</th>\n",
       "    </tr>\n",
       "  </thead>\n",
       "  <tbody>\n",
       "    <tr>\n",
       "      <th>0</th>\n",
       "      <td>NaN</td>\n",
       "      <td>NaN</td>\n",
       "      <td>YTD Oct-23</td>\n",
       "    </tr>\n",
       "    <tr>\n",
       "      <th>1</th>\n",
       "      <td>Revenue</td>\n",
       "      <td>NaN</td>\n",
       "      <td>NaN</td>\n",
       "    </tr>\n",
       "    <tr>\n",
       "      <th>2</th>\n",
       "      <td>NaN</td>\n",
       "      <td>Sales</td>\n",
       "      <td>3137751410</td>\n",
       "    </tr>\n",
       "    <tr>\n",
       "      <th>3</th>\n",
       "      <td>NaN</td>\n",
       "      <td>NaN</td>\n",
       "      <td>NaN</td>\n",
       "    </tr>\n",
       "    <tr>\n",
       "      <th>4</th>\n",
       "      <td>COGS</td>\n",
       "      <td>NaN</td>\n",
       "      <td>NaN</td>\n",
       "    </tr>\n",
       "    <tr>\n",
       "      <th>5</th>\n",
       "      <td>NaN</td>\n",
       "      <td>COGS</td>\n",
       "      <td>2196425987</td>\n",
       "    </tr>\n",
       "    <tr>\n",
       "      <th>6</th>\n",
       "      <td>NaN</td>\n",
       "      <td>NaN</td>\n",
       "      <td>NaN</td>\n",
       "    </tr>\n",
       "    <tr>\n",
       "      <th>7</th>\n",
       "      <td>Op Cost</td>\n",
       "      <td>NaN</td>\n",
       "      <td>NaN</td>\n",
       "    </tr>\n",
       "    <tr>\n",
       "      <th>8</th>\n",
       "      <td>NaN</td>\n",
       "      <td>cost</td>\n",
       "      <td>153245990</td>\n",
       "    </tr>\n",
       "    <tr>\n",
       "      <th>9</th>\n",
       "      <td>NaN</td>\n",
       "      <td>NaN</td>\n",
       "      <td>NaN</td>\n",
       "    </tr>\n",
       "    <tr>\n",
       "      <th>10</th>\n",
       "      <td>Others Expense</td>\n",
       "      <td>NaN</td>\n",
       "      <td>NaN</td>\n",
       "    </tr>\n",
       "    <tr>\n",
       "      <th>11</th>\n",
       "      <td>NaN</td>\n",
       "      <td>other expense</td>\n",
       "      <td>160529151</td>\n",
       "    </tr>\n",
       "    <tr>\n",
       "      <th>12</th>\n",
       "      <td>NaN</td>\n",
       "      <td>NaN</td>\n",
       "      <td>NaN</td>\n",
       "    </tr>\n",
       "    <tr>\n",
       "      <th>13</th>\n",
       "      <td>Net Income</td>\n",
       "      <td>NaN</td>\n",
       "      <td>627550282</td>\n",
       "    </tr>\n",
       "  </tbody>\n",
       "</table>\n",
       "</div>"
      ],
      "text/plain": [
       "   Income Statement     Unnamed: 1  Unnamed: 2\n",
       "0               NaN            NaN  YTD Oct-23\n",
       "1           Revenue            NaN         NaN\n",
       "2               NaN          Sales  3137751410\n",
       "3               NaN            NaN         NaN\n",
       "4              COGS            NaN         NaN\n",
       "5               NaN           COGS  2196425987\n",
       "6               NaN            NaN         NaN\n",
       "7           Op Cost            NaN         NaN\n",
       "8               NaN           cost   153245990\n",
       "9               NaN            NaN         NaN\n",
       "10   Others Expense            NaN         NaN\n",
       "11              NaN  other expense   160529151\n",
       "12              NaN            NaN         NaN\n",
       "13       Net Income            NaN   627550282"
      ]
     },
     "execution_count": 14,
     "metadata": {},
     "output_type": "execute_result"
    }
   ],
   "source": [
    "# overall view of income statement data\n",
    "is_df"
   ]
  },
  {
   "cell_type": "code",
   "execution_count": 15,
   "metadata": {},
   "outputs": [],
   "source": [
    "# making sense of the balance sheet data\n",
    "# assets\n",
    "bank_statement = 1667550282.00\n",
    "cash = 500000000.00\n",
    "trade_receivables = 5280000000.00\n",
    "inventory = 200000000.00\n",
    "total_current_assets = 7647550282.00\n",
    "total_fixed_assets = 5000000000.00\n",
    "total_assets = 12647550282.00\n",
    "\n",
    "# liabilities\n",
    "supplier_payables = 3520000000.00\n",
    "bank_loans = 1500000000.00\n",
    "total_current_liabilities = 5020000000.00\n",
    "total_liabilities = 5020000000.00\n",
    "\n",
    "# equity\n",
    "share_capital = 2000000000.00\n",
    "add_paid_in_capital = 4500000000.00\n",
    "income_last_year = 500000000.00\n",
    "income_this_period = 627550282.00\n",
    "total_equities = 7627550282.00\n",
    "\n",
    "# making sense of the income statement data\n",
    "sales = 3137751410\n",
    "COGS = 2196425987\n",
    "operating_expense = 153245990\n",
    "other_expense = 160529151\n",
    "net_income = 627550282"
   ]
  },
  {
   "cell_type": "code",
   "execution_count": 16,
   "metadata": {},
   "outputs": [
    {
     "name": "stdout",
     "output_type": "stream",
     "text": [
      "True\n",
      "True\n"
     ]
    }
   ],
   "source": [
    "# checking overall data validity \n",
    "print(net_income == sales - COGS - operating_expense - other_expense)\n",
    "print(total_assets == total_liabilities + total_equities)"
   ]
  },
  {
   "cell_type": "markdown",
   "metadata": {},
   "source": [
    "## A) Profitability Measures <a name=ratio1><a/>"
   ]
  },
  {
   "cell_type": "markdown",
   "metadata": {},
   "source": [
    "Financial ratios are relationships determined from a firm's financial statements, capturing the business financial information and used for analysis & comparison purposes. In conducting the analysis, we should get some benchmarks from the industry to make sense where the company situation is compared to other companies in the industry. The benchmark that I also use is from USA 2023 https://www.readyratios.com/sec/industry/D/ (the dollar conversion rate at October is assumed around 1 USD = IDR15.871k)"
   ]
  },
  {
   "cell_type": "code",
   "execution_count": 17,
   "metadata": {},
   "outputs": [],
   "source": [
    "# on profitability\n",
    "EBIT = sales - COGS - operating_expense\n",
    "EBIT_margin = EBIT/sales\n",
    "profit_margin = net_income/sales\n",
    "ROA = net_income/total_assets\n",
    "ROE = net_income/total_equities"
   ]
  },
  {
   "cell_type": "code",
   "execution_count": 18,
   "metadata": {},
   "outputs": [
    {
     "name": "stdout",
     "output_type": "stream",
     "text": [
      "EBIT: IDR788079433 or USD49655.31\n",
      "EBIT Margin: 25.12%\n"
     ]
    }
   ],
   "source": [
    "# on EBIT\n",
    "print(f\"EBIT: IDR{EBIT} or USD{round(EBIT/15871, 2)}\")\n",
    "print(f\"EBIT Margin: {round(EBIT/sales *100,2)}%\")"
   ]
  },
  {
   "cell_type": "markdown",
   "metadata": {},
   "source": [
    "- EBIT or Earnings Before Income & Tax are earnings that's used for checking company's internaal operational efficiency.\n",
    "- EBIT of IDR788 million, although it is positive, it's seen as relatively low compared to the US manufacturing industry in 2023 yet relatively moderate in Indonesia's. It assumed that this company is a small/niche manufacturing company. With that being said, EBIT Margin of 25% is relatively high since it usually on the range of 5-15% showing that there may be a competitive advantage that this compoany has when it comes to cost management."
   ]
  },
  {
   "cell_type": "code",
   "execution_count": 19,
   "metadata": {},
   "outputs": [
    {
     "name": "stdout",
     "output_type": "stream",
     "text": [
      "Profit Margin: 20.0%\n"
     ]
    }
   ],
   "source": [
    "# on profit margin\n",
    "print(f\"Profit Margin: {round(profit_margin *100,2)}%\")"
   ]
  },
  {
   "cell_type": "markdown",
   "metadata": {},
   "source": [
    "- Profit Margin is the proportion of revenue that remains as profit after all expenses. It's a good indicator of how efficient the company is converting revenue to actual profit\n",
    "- Profit Margin of 20% is considered relatively high. This finding supported the previous statement that this company has a relatively healthy management of cost & its efficiency  "
   ]
  },
  {
   "cell_type": "code",
   "execution_count": 20,
   "metadata": {},
   "outputs": [
    {
     "name": "stdout",
     "output_type": "stream",
     "text": [
      "Return on Assets (ROA): 4.96%\n"
     ]
    }
   ],
   "source": [
    "# on ROA\n",
    "print(f\"Return on Assets (ROA): {round(ROA *100,2)}%\")"
   ]
  },
  {
   "cell_type": "markdown",
   "metadata": {},
   "source": [
    "- ROA is an indicator of how the company utilizes its assets to generate income, returns on asset investments & the economies of scale it\n",
    "- ROA of 4.96% is moderately efficient & acceptable for a relatively small manufacturing company. For a bigger-sized company, higher efficiencies might be expected. This level shows that every 1 dollar/rupiah in assets, it generates 0,0496 dollar/rupiah in returns."
   ]
  },
  {
   "cell_type": "code",
   "execution_count": 21,
   "metadata": {},
   "outputs": [
    {
     "name": "stdout",
     "output_type": "stream",
     "text": [
      "Return on Equities (ROE): 8.23%\n"
     ]
    }
   ],
   "source": [
    "# on ROE\n",
    "print(f\"Return on Equities (ROE): {round(ROE *100,2)}%\")"
   ]
  },
  {
   "cell_type": "markdown",
   "metadata": {},
   "source": [
    "- ROE is a measure of how the company's stockholders fared. It shows how every dollar/rupiah invested in equity generated x dollar/rupiah in returns. \n",
    "- ROE of 8.23% is high compared to industry standards. The fact that this company's ROE exceed ROA reflects how the company's use of financial leverage. This level shows that every 1 dollar/rupiah invested in equity, it generates 0,0823 dollar/rupiah in returns."
   ]
  },
  {
   "cell_type": "markdown",
   "metadata": {},
   "source": [
    "## B) Liquidity Measures <a name=ratio1><a/>"
   ]
  },
  {
   "cell_type": "code",
   "execution_count": 22,
   "metadata": {},
   "outputs": [],
   "source": [
    "# on liquidity (short-term capacity to meet its obligations)\n",
    "current_ratio = total_current_assets/total_current_liabilities\n",
    "quick_ratio = (total_current_assets-inventory)/total_current_liabilities\n",
    "cash_ratio = (cash+bank_statement)/total_current_liabilities\n",
    "net_working_capital = total_current_assets-total_current_liabilities\n",
    "net_working_capital_to_assets = net_working_capital/total_assets"
   ]
  },
  {
   "cell_type": "code",
   "execution_count": 23,
   "metadata": {},
   "outputs": [
    {
     "name": "stdout",
     "output_type": "stream",
     "text": [
      "Current Ratio: 1.5234163908366534\n"
     ]
    }
   ],
   "source": [
    "# on current ratio\n",
    "print(f\"Current Ratio: {current_ratio}\")"
   ]
  },
  {
   "cell_type": "markdown",
   "metadata": {},
   "source": [
    "- Current Ratio is one of the best known and widely used to check the proportion of its current assets compared to its current liabilites. Its also shows how efficient is the company in using its cash & short-term assest. The higher the better.\n",
    "- Current Ratio of 1.52 times indicates the company has their current assets covering its short-term obligations 1.5x over. It is expected to see Current Ratio of at least 1 in a fairly healthy company in terms of its liquidity. However, compared to industry standards, the company's Current Ratio is relatively low (standard of 2++)"
   ]
  },
  {
   "cell_type": "code",
   "execution_count": 24,
   "metadata": {},
   "outputs": [
    {
     "name": "stdout",
     "output_type": "stream",
     "text": [
      "Quick Ratio: 1.4835757533864542\n"
     ]
    }
   ],
   "source": [
    "# on quick ratio\n",
    "print(f\"Quick Ratio: {quick_ratio}\")"
   ]
  },
  {
   "cell_type": "markdown",
   "metadata": {},
   "source": [
    "- Quick Ratio is a measure that shows how efficient is the company in using its short-term assets outside its inventory (often the least liquid of all current assets) to pay its short-term liabilities. Same with Current Ratio, The higher the better.\n",
    "- Quick Ratio of 1.48 times indicates the company has their current assets outside inventory covering its short-term obligations 1.48x over, which is on the average side of industry levels."
   ]
  },
  {
   "cell_type": "code",
   "execution_count": 25,
   "metadata": {},
   "outputs": [
    {
     "name": "stdout",
     "output_type": "stream",
     "text": [
      "Cash Ratio: 0.4317829247011952\n"
     ]
    }
   ],
   "source": [
    "# on cash ratio\n",
    "print(f\"Cash Ratio: {cash_ratio}\")"
   ]
  },
  {
   "cell_type": "markdown",
   "metadata": {},
   "source": [
    "- Cash Ratio is a measure that shows how every 1 dollar/rupiah is covered by x dollar/rupiah in cash, indicating how able is the company in paying its current liabilities in cash\n",
    "- Quick Ratio of 0.43 times indicates the company has 0.43 dollar/rupiah to cover every 1 dollar/rupiah in short-term obligations. This shows how the company has relatively minimal cash relative to its current liabilities (value below 1) implying that it has a risk of facing financial vulnerability with its low cash liquidity"
   ]
  },
  {
   "cell_type": "code",
   "execution_count": 26,
   "metadata": {
    "scrolled": true
   },
   "outputs": [
    {
     "name": "stdout",
     "output_type": "stream",
     "text": [
      "Net Working Capital (NWC): IDR2627550282.0 or USD165556.69\n",
      "Net Working Capital (NWC) to Total Assets: 0.20775171661025385\n"
     ]
    }
   ],
   "source": [
    "# on net working capital\n",
    "print(f\"Net Working Capital (NWC): IDR{net_working_capital} or USD{round(net_working_capital/15871, 2)}\")\n",
    "print(f\"Net Working Capital (NWC) to Total Assets: {net_working_capital/total_assets}\")"
   ]
  },
  {
   "cell_type": "markdown",
   "metadata": {},
   "source": [
    "- Net Working Capital (NWC) is a measure that shows the excess of current assets over current liabilities. It indicates the amount of capital available to the company for its day-to-day operations after covering short-term obligations.\n",
    "- NWC of IDR2,6 billions indicates it has extra current assets around IDR2,6 billions to cover their daily operations & obligations. NWC to Total Assets of 0.21 shows that the company hold around 21% of its total assets in net working capital, which is considered a moderate level of liquidity"
   ]
  },
  {
   "cell_type": "markdown",
   "metadata": {},
   "source": [
    "## C) Solvency Measures <a name=ratio2><a/>"
   ]
  },
  {
   "cell_type": "code",
   "execution_count": 29,
   "metadata": {},
   "outputs": [],
   "source": [
    "# on solvency (long-term capability to meet its obligations; financial leverage)\n",
    "total_debt_ratio = (total_assets-total_equities)/total_assets\n",
    "debt_equity_ratio = (total_assets-total_equities)/total_equities\n",
    "equity_multiplier = total_assets/total_equities"
   ]
  },
  {
   "cell_type": "code",
   "execution_count": 30,
   "metadata": {},
   "outputs": [
    {
     "name": "stdout",
     "output_type": "stream",
     "text": [
      "Total Debt Ratio: 0.39691480864436385\n"
     ]
    }
   ],
   "source": [
    "# total debt ratio\n",
    "print(f\"Total Debt Ratio: {total_debt_ratio}\")"
   ]
  },
  {
   "cell_type": "markdown",
   "metadata": {},
   "source": [
    "- Total Debt Ratio measures the proportion of a company's assets that are financed by debt. It considers all liabilities in relation to the company's total assets. \n",
    "- Total Debt Ratio is 0.40 indicates that 40% of company's assets are financed by debt (and 60% is from shareholders' equity). Though this level is still below the industry level & appears relatively balanced, the company should continue to monitor its debt levels and financial performance"
   ]
  },
  {
   "cell_type": "code",
   "execution_count": 31,
   "metadata": {},
   "outputs": [
    {
     "name": "stdout",
     "output_type": "stream",
     "text": [
      "Debt-to-Equity Ratio: 0.658140531940711\n"
     ]
    }
   ],
   "source": [
    "# debt to equity ratio\n",
    "print(f\"Debt-to-Equity Ratio: {debt_equity_ratio}\")"
   ]
  },
  {
   "cell_type": "markdown",
   "metadata": {},
   "source": [
    "- Debt-to-Equity Ratio measures the proportion of a company's debts in realtion to its equities. Showing for every dollar/rupiah of equity, the company has x dollar/rupiah amount of debt.\n",
    "- The company's Debt-to-Equity is 0.66, indicating that the company has more equity than debt in its capital structure (value below 1). Lower debt levels generally means lower financial risk, as the company has less debt to service, reducing the likelihood of financial distress."
   ]
  },
  {
   "cell_type": "code",
   "execution_count": 32,
   "metadata": {
    "scrolled": true
   },
   "outputs": [
    {
     "name": "stdout",
     "output_type": "stream",
     "text": [
      "Equity Multiplier: 1.658140531940711\n"
     ]
    }
   ],
   "source": [
    "# on equity multiplier\n",
    "print(f\"Equity Multiplier: {equity_multiplier}\")"
   ]
  },
  {
   "cell_type": "markdown",
   "metadata": {},
   "source": [
    "- Equity Multiplier is an indicator of how the company uses it financial leverage.\n",
    "- This company's Equity Multiplier is 1.66, indicating that the company's total assets is 1.66x the amount of shareholder's equity. It is still below 2 which means that the company has moderate use of debt."
   ]
  },
  {
   "cell_type": "markdown",
   "metadata": {},
   "source": [
    "## D) Activity Measures <a name=ratio2><a/>"
   ]
  },
  {
   "cell_type": "code",
   "execution_count": 33,
   "metadata": {},
   "outputs": [],
   "source": [
    "# on activity (asset utilization & management measures)\n",
    "inventory_turnover = COGS/inventory\n",
    "days_sales_in_inventory = 365/inventory_turnover\n",
    "receivables_turnover = sales/trade_receivables\n",
    "days_sales_in_receivables = 365/receivables_turnover\n",
    "NWC_turnover = sales/net_working_capital"
   ]
  },
  {
   "cell_type": "code",
   "execution_count": 34,
   "metadata": {},
   "outputs": [
    {
     "name": "stdout",
     "output_type": "stream",
     "text": [
      "Inventory Turnover: 10.982129935\n",
      "Days Sales in Inventory: 33.235811464654645\n"
     ]
    }
   ],
   "source": [
    "# on inventory turnover\n",
    "print(f\"Inventory Turnover: {inventory_turnover}\")\n",
    "print(f\"Days Sales in Inventory: {days_sales_in_inventory}\")"
   ]
  },
  {
   "cell_type": "markdown",
   "metadata": {},
   "source": [
    "- These inventory turnover measures are indicating how fast the company's sell their products\n",
    "- Inventory Turnover of 10.98 times meaning thath the company sold off the entire inventory around 10-11 times. Day Sales in Inventory of 33.2 days means that on average, inventory sits around 33 days before it is sold. These numbers are quite qood relative to the manufacture industry standards, indicating that the company is relatively efficient in selling & replacing its inventories"
   ]
  },
  {
   "cell_type": "code",
   "execution_count": 35,
   "metadata": {},
   "outputs": [
    {
     "name": "stdout",
     "output_type": "stream",
     "text": [
      "Receivables Turnover: 0.5942711003787878\n",
      "Days Sales in Receivables: 614.197795866818\n",
      "Proportion of Trade Receivables in Current Assets: 69.04%\n"
     ]
    }
   ],
   "source": [
    "# on receivables turnover\n",
    "print(f\"Receivables Turnover: {receivables_turnover}\")\n",
    "print(f\"Days Sales in Receivables: {days_sales_in_receivables}\")\n",
    "print(f\"Proportion of Trade Receivables in Current Assets: {round(trade_receivables/total_current_assets*100,2)}%\")"
   ]
  },
  {
   "cell_type": "markdown",
   "metadata": {},
   "source": [
    "- These inventory turnover measures are indicating how fast the company's collect on their sales\n",
    "- Receivables Turnover of 0.59 times meaning that the company collected its outstanding credit accounts 0.59 times (so far, the company haven't recovered it yet). Days Sales in Receivables of 614.2 days means that on average, the company collects its credit sales in 614.2 days. These numbers are very high meaning that its trade receivables of IDR5,2 billion rupiah will take more than 1.5 year to be collected. In other words, it's not that liquid. Moreover, a very high proportion of trade receivables of 69% (relative to all Current Assets) would be an issue since its heavy reliance on collecting receivables to maintain liquidity."
   ]
  },
  {
   "cell_type": "markdown",
   "metadata": {},
   "source": [
    "# CONCLUSION <a name='conclusion'><a/>"
   ]
  },
  {
   "cell_type": "markdown",
   "metadata": {},
   "source": [
    "### Positive Indicators:\n",
    "\n",
    "Strong profitability (high EBIT and net income margins).\n",
    "Relatively satisfactory levels of ROA and ROE.\n",
    "Good liquidity ratios (current and quick ratios above 1) & comparatively reasonable long-term solvency & debt-burden ratios.\n",
    "\n",
    "\n",
    "### Negative Indicators:\n",
    "\n",
    "Extremely high days sales in receivables (more than 1.5 years) & high portion of current assets in trade receivables (69%), indicating potential cash flow issues. Cash ratio is comparatively low, though mitigated by a relatively good bank balance & net operating cash flow.\n",
    "\n",
    "### Recommendation: Accept the loan application with conditions.\n",
    "- Monitor the collection of trade receivables closely to ensure cash flow is maintained.\n",
    "- Require a portion of the loan resources to be used specifically for improving the receivables collection process (increasing receivables collection rate).\n",
    "- Maintain a minimum average monthly bank balance above a set threshold to ensure liquidity (increasing cash ratio)."
   ]
  }
 ],
 "metadata": {
  "kernelspec": {
   "display_name": "Python - myenv_update",
   "language": "python",
   "name": "myenv_update"
  },
  "language_info": {
   "codemirror_mode": {
    "name": "ipython",
    "version": 3
   },
   "file_extension": ".py",
   "mimetype": "text/x-python",
   "name": "python",
   "nbconvert_exporter": "python",
   "pygments_lexer": "ipython3",
   "version": "3.10.6"
  }
 },
 "nbformat": 4,
 "nbformat_minor": 2
}
