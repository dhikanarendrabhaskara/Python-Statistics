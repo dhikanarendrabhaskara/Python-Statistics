{
 "cells": [
  {
   "cell_type": "markdown",
   "metadata": {},
   "source": [
    "## IMPORTING BASIC LIBRARIES & DATA"
   ]
  },
  {
   "cell_type": "code",
   "execution_count": 2,
   "metadata": {},
   "outputs": [],
   "source": [
    "# importing basic libraries\n",
    "import pandas as pd\n",
    "import numpy as np\n",
    "import seaborn as sns\n",
    "import matplotlib.pyplot as plt\n",
    "import plotly.graph_objects as go\n",
    "import plotly.express as px\n",
    "import warnings\n",
    "warnings.filterwarnings('ignore')\n",
    "%matplotlib inline\n",
    "\n",
    "# importing data\n",
    "data = pd.read_csv('hotel_cancel.csv')"
   ]
  },
  {
   "cell_type": "markdown",
   "metadata": {},
   "source": [
    "## ------ NORMAL DISTRIBUTION (GAUSSIAN)------"
   ]
  },
  {
   "cell_type": "markdown",
   "metadata": {},
   "source": [
    "- Continuous Random Variable\n",
    "- The basic assumption for Statistical Inference\n",
    "- Symmetric (mean=median=mode)\n",
    "- Asymptotic (its tail gets closer & closer to the horizontal axis but it never touches it)\n",
    "- Standard Normal Distribution has mean=0 & stdev=1\n",
    "- Z-Scores & Z-Tables are useful for cumulative probability calculation\n",
    "    - Z = (X-mean) / stdev \n",
    "    - X = (Z*stdev) + mean"
   ]
  },
  {
   "cell_type": "code",
   "execution_count": 47,
   "metadata": {},
   "outputs": [
    {
     "data": {
      "text/plain": [
       "<matplotlib.legend.Legend at 0x275275e3f08>"
      ]
     },
     "execution_count": 47,
     "metadata": {},
     "output_type": "execute_result"
    },
    {
     "data": {
      "image/png": "[encoded data removed]",
      "text/plain": [
       "<Figure size 432x288 with 1 Axes>"
      ]
     },
     "metadata": {
      "needs_background": "light"
     },
     "output_type": "display_data"
    }
   ],
   "source": [
    "# generating the random variables \n",
    "np.random.seed(3)\n",
    "x = np.random.normal(loc=6, scale=4, size=100)\n",
    "y = np.random.normal(loc=15, scale=5, size=100)\n",
    "\n",
    "# plotting the normal distributions\n",
    "sns.distplot(x, color=\"skyblue\", label=\"x\")\n",
    "sns.distplot(y, color=\"red\", label=\"y\")\n",
    "plt.legend()"
   ]
  },
  {
   "cell_type": "code",
   "execution_count": 6,
   "metadata": {},
   "outputs": [
    {
     "data": {
      "text/plain": [
       "0.06680720126885809"
      ]
     },
     "execution_count": 6,
     "metadata": {},
     "output_type": "execute_result"
    }
   ],
   "source": [
    "import scipy.stats as st\n",
    "\n",
    "# mean(loc):100kg, stdev(scale):10kg\n",
    "\"\"\"what's the probability of getting > 115kg\"\"\"\n",
    "1 - st.norm.cdf(115, loc=100, scale=10)"
   ]
  },
  {
   "cell_type": "markdown",
   "metadata": {},
   "source": [
    "- 6,68% is the probability of getting > 115 kg "
   ]
  },
  {
   "cell_type": "code",
   "execution_count": 15,
   "metadata": {},
   "outputs": [
    {
     "data": {
      "text/plain": [
       "0.022750131948179195"
      ]
     },
     "execution_count": 15,
     "metadata": {},
     "output_type": "execute_result"
    }
   ],
   "source": [
    "# mean(loc):100kg, stdev(scale):10kg\n",
    "\"\"\"what's the probability of getting < 80kg\"\"\"\n",
    "st.norm.cdf(80, loc=100, scale=10)"
   ]
  },
  {
   "cell_type": "markdown",
   "metadata": {},
   "source": [
    "- 2,28% is the probability of getting < 80 kg "
   ]
  },
  {
   "cell_type": "code",
   "execution_count": 16,
   "metadata": {},
   "outputs": [
    {
     "data": {
      "text/plain": [
       "0.4772498680518208"
      ]
     },
     "execution_count": 16,
     "metadata": {},
     "output_type": "execute_result"
    }
   ],
   "source": [
    "# mean(loc):100kg, stdev(scale):10kg\n",
    "\"\"\"what's the probability of getting between 80kg & 100kg\"\"\"\n",
    "st.norm.cdf(100, loc=100, scale=10) - st.norm.cdf(80, loc=100, scale=10)"
   ]
  },
  {
   "cell_type": "markdown",
   "metadata": {},
   "source": [
    "- 47,72% is the probability of getting between 80kg & 100kg"
   ]
  },
  {
   "cell_type": "code",
   "execution_count": 7,
   "metadata": {},
   "outputs": [
    {
     "data": {
      "text/plain": [
       "0.6826894921370859"
      ]
     },
     "execution_count": 7,
     "metadata": {},
     "output_type": "execute_result"
    }
   ],
   "source": [
    "# mean(loc):100kg, stdev(scale):10kg\n",
    "\"\"\"what's the probability of getting between 90kg & 110kg\"\"\"\n",
    "norm.cdf(110, loc=100, scale=10) - norm.cdf(90, loc=100, scale=10)"
   ]
  },
  {
   "cell_type": "markdown",
   "metadata": {},
   "source": [
    "- 68% is the probability of getting between 90kg & 110kg (within 1 stdev)"
   ]
  },
  {
   "cell_type": "code",
   "execution_count": 17,
   "metadata": {},
   "outputs": [
    {
     "data": {
      "text/plain": [
       "0.9544997361036416"
      ]
     },
     "execution_count": 17,
     "metadata": {},
     "output_type": "execute_result"
    }
   ],
   "source": [
    "# mean(loc): 10 bottles, stdev(scale): 2 bottles\n",
    "\"\"\"what's the probability of getting between 6 bottles & 14 bottles\"\"\"\n",
    "norm.cdf(14, loc=10, scale=2) - norm.cdf(6, loc=10, scale=2)"
   ]
  },
  {
   "cell_type": "markdown",
   "metadata": {},
   "source": [
    "- 95% is the probability of getting orders between 6 bottles & 14 bottles (within 2 stdev)"
   ]
  },
  {
   "cell_type": "code",
   "execution_count": 19,
   "metadata": {},
   "outputs": [
    {
     "data": {
      "text/plain": [
       "0.9750021048517795"
      ]
     },
     "execution_count": 19,
     "metadata": {},
     "output_type": "execute_result"
    }
   ],
   "source": [
    "# returns probability from a Z-score\n",
    "st.norm.cdf(1.96)"
   ]
  },
  {
   "cell_type": "markdown",
   "metadata": {},
   "source": [
    "- Z-Score of 1.96 equals to 97,5% cumulative probability"
   ]
  },
  {
   "cell_type": "code",
   "execution_count": 20,
   "metadata": {},
   "outputs": [
    {
     "data": {
      "text/plain": [
       "1.959963984540054"
      ]
     },
     "execution_count": 20,
     "metadata": {},
     "output_type": "execute_result"
    }
   ],
   "source": [
    "# returns Z-score from a probability\n",
    "st.norm.ppf(0.975)"
   ]
  },
  {
   "cell_type": "markdown",
   "metadata": {},
   "source": [
    "- 97,5% cumulative probability equals to Z-Score of 1.959"
   ]
  },
  {
   "cell_type": "code",
   "execution_count": 27,
   "metadata": {},
   "outputs": [
    {
     "data": {
      "text/plain": [
       "16.100965009742723"
      ]
     },
     "execution_count": 27,
     "metadata": {},
     "output_type": "execute_result"
    }
   ],
   "source": [
    "# writing a function that inputs demand mean, stdev, and probability/proportion\n",
    "def demand_average(mean, stdev, prob):\n",
    "    result = (st.norm.ppf(prob)*stdev) + mean\n",
    "    return result\n",
    "\n",
    "demand_average(12, 3.2, 0.90)"
   ]
  },
  {
   "cell_type": "markdown",
   "metadata": {},
   "source": [
    "- we should purchase approximately 16 kg of daily stock to meet the daily demand on 90% of the days (given mean 12kg & stdev 3.2kg)"
   ]
  },
  {
   "cell_type": "markdown",
   "metadata": {},
   "source": [
    "## ------ BINOMIAL DISTRIBUTION ------"
   ]
  },
  {
   "cell_type": "markdown",
   "metadata": {},
   "source": [
    "- Discrete Random Variable\n",
    "- For counting the number of successes over a fixed number of trials\n",
    "- Bernoulli Process (There must be only 2 possible outcomes)\n",
    "- ExpectedValue(X) = n_trials * probability_success\n",
    "- StdDeviation(X) = np.sqrt(n_trials * probability_success * probability_failure)"
   ]
  },
  {
   "cell_type": "code",
   "execution_count": 102,
   "metadata": {},
   "outputs": [
    {
     "data": {
      "image/png": "[encoded data removed]",
      "text/plain": [
       "<Figure size 432x288 with 1 Axes>"
      ]
     },
     "metadata": {
      "needs_background": "light"
     },
     "output_type": "display_data"
    }
   ],
   "source": [
    "# plotting binomial distribution\n",
    "x = np.random.binomial(n=10, p=0.5, size=1000)\n",
    "sns.distplot(x, hist=True, kde=False)\n",
    "plt.show()"
   ]
  },
  {
   "cell_type": "code",
   "execution_count": 82,
   "metadata": {},
   "outputs": [
    {
     "data": {
      "text/plain": [
       "0.3276800000000001"
      ]
     },
     "execution_count": 82,
     "metadata": {},
     "output_type": "execute_result"
    }
   ],
   "source": [
    "# calculating the probability of 5 successes (out of 5 total trials) with 80% probability\n",
    "st.binom.pmf(k=5, n=5, p=0.8)"
   ]
  },
  {
   "cell_type": "markdown",
   "metadata": {},
   "source": [
    "- 32,77% is the probability of getting 5 successes out of 5 trials"
   ]
  },
  {
   "cell_type": "code",
   "execution_count": 81,
   "metadata": {},
   "outputs": [
    {
     "data": {
      "text/plain": [
       "0.4095999999999999"
      ]
     },
     "execution_count": 81,
     "metadata": {},
     "output_type": "execute_result"
    }
   ],
   "source": [
    "# calculating the probability of 4 successes (out of 5 total trials) with 80% probability\n",
    "st.binom.pmf(k=4, n=5, p=0.8)"
   ]
  },
  {
   "cell_type": "markdown",
   "metadata": {},
   "source": [
    "- 40,96% is the probability of getting 4 successes out of 5 trials"
   ]
  },
  {
   "cell_type": "code",
   "execution_count": 84,
   "metadata": {},
   "outputs": [
    {
     "data": {
      "text/plain": [
       "0.20479999999999993"
      ]
     },
     "execution_count": 84,
     "metadata": {},
     "output_type": "execute_result"
    }
   ],
   "source": [
    "# calculating the probability of 3 successes (out of 5 total trials) with 80% probability\n",
    "st.binom.pmf(k=3, n=5, p=0.8)"
   ]
  },
  {
   "cell_type": "markdown",
   "metadata": {},
   "source": [
    "- 20,48% is the probability of getting 3 successes out of 5 trials"
   ]
  },
  {
   "cell_type": "code",
   "execution_count": 88,
   "metadata": {},
   "outputs": [
    {
     "data": {
      "text/plain": [
       "0.8125"
      ]
     },
     "execution_count": 88,
     "metadata": {},
     "output_type": "execute_result"
    }
   ],
   "source": [
    "# calculating the probability that a fair coin (50:50) lands on heads 3 times or fewer (<=3 successes) in 5 flips\n",
    "st.binom.cdf(k=3, n=5, p=0.5)"
   ]
  },
  {
   "cell_type": "markdown",
   "metadata": {},
   "source": [
    "- 81,25% is the probability of getting 3 heads or fewer in 5 flips"
   ]
  },
  {
   "cell_type": "code",
   "execution_count": 90,
   "metadata": {},
   "outputs": [
    {
     "data": {
      "text/plain": [
       "0.3397972032000002"
      ]
     },
     "execution_count": 90,
     "metadata": {},
     "output_type": "execute_result"
    }
   ],
   "source": [
    "# calculating the probability between 6-4 healthy people (out of 10 people) with 70% chance of healthiness\n",
    "st.binom.cdf(k=6, n=10, p=0.7) - st.binom.cdf(k=3, n=10, p=0.7)"
   ]
  },
  {
   "cell_type": "markdown",
   "metadata": {},
   "source": [
    "- 33,98% is the probability of getting between 6-4 healthy people out of 10"
   ]
  },
  {
   "cell_type": "code",
   "execution_count": 91,
   "metadata": {},
   "outputs": [
    {
     "data": {
      "text/plain": [
       "0.38278278639999996"
      ]
     },
     "execution_count": 91,
     "metadata": {},
     "output_type": "execute_result"
    }
   ],
   "source": [
    "# calculating the probability getting 8 or above healthy people (out of 10 people) with 70% chance of healthiness\n",
    "st.binom.cdf(k=10, n=10, p=0.7) - st.binom.cdf(k=7, n=10, p=0.7)"
   ]
  },
  {
   "cell_type": "code",
   "execution_count": 101,
   "metadata": {},
   "outputs": [
    {
     "data": {
      "text/plain": [
       "0.3827827863999999"
      ]
     },
     "execution_count": 101,
     "metadata": {},
     "output_type": "execute_result"
    }
   ],
   "source": [
    "# alternative 2\n",
    "st.binom.pmf(k=8, n=10, p=0.7) + st.binom.pmf(k=9, n=10, p=0.7) + st.binom.pmf(k=10, n=10, p=0.7)"
   ]
  },
  {
   "cell_type": "code",
   "execution_count": 92,
   "metadata": {},
   "outputs": [
    {
     "data": {
      "text/plain": [
       "0.38278278639999996"
      ]
     },
     "execution_count": 92,
     "metadata": {},
     "output_type": "execute_result"
    }
   ],
   "source": [
    "# alternative 3 \n",
    "1 - st.binom.cdf(k=7, n=10, p=0.7)"
   ]
  },
  {
   "cell_type": "markdown",
   "metadata": {},
   "source": [
    "- 38,28% is the probability of getting 8 or above healthy people out of 10"
   ]
  },
  {
   "cell_type": "markdown",
   "metadata": {},
   "source": [
    "## ------ POISSON DISTRIBUTION ------"
   ]
  },
  {
   "cell_type": "markdown",
   "metadata": {},
   "source": [
    "- Discrete Random Variable\n",
    "- For counting the number of successes over a given interval of time or space\n",
    "- ExpectedValue(X) = rate \n",
    "- StdDeviation(X) = np.sqrt(rate)"
   ]
  },
  {
   "cell_type": "code",
   "execution_count": 18,
   "metadata": {},
   "outputs": [],
   "source": [
    "# on average, the rate of customers using the ATM is 30 per 5 minute. Thus, it is 6 per 1 minute\n",
    "rate = 6\n",
    "\n",
    "# guess range\n",
    "n = np.arange(11)"
   ]
  },
  {
   "cell_type": "code",
   "execution_count": 19,
   "metadata": {},
   "outputs": [
    {
     "name": "stdout",
     "output_type": "stream",
     "text": [
      "### Probabilities:\n",
      "for 0 people coming in a minute, the probability is:  0.0024787521766663585\n",
      "for 1 people coming in a minute, the probability is:  0.014872513059998144\n",
      "for 2 people coming in a minute, the probability is:  0.04461753917999444\n",
      "for 3 people coming in a minute, the probability is:  0.08923507835998894\n",
      "for 4 people coming in a minute, the probability is:  0.13385261753998332\n",
      "for 5 people coming in a minute, the probability is:  0.16062314104797995\n",
      "for 6 people coming in a minute, the probability is:  0.1606231410479801\n",
      "for 7 people coming in a minute, the probability is:  0.1376769780411257\n",
      "for 8 people coming in a minute, the probability is:  0.1032577335308442\n",
      "for 9 people coming in a minute, the probability is:  0.06883848902056285\n",
      "for 10 people coming in a minute, the probability is:  0.04130309341233764\n"
     ]
    }
   ],
   "source": [
    "import scipy.stats as st\n",
    "\n",
    "mypoisson = st.poisson.pmf(n, rate)\n",
    "print('### Probabilities:')\n",
    "for i,j in list(zip(n,mypoisson)):\n",
    "    print(\"for\",i,'people coming in a minute, the probability is: ',j)"
   ]
  },
  {
   "cell_type": "code",
   "execution_count": 20,
   "metadata": {
    "scrolled": true
   },
   "outputs": [
    {
     "data": {
      "image/png": "[encoded data removed]",
      "text/plain": [
       "<Figure size 432x288 with 1 Axes>"
      ]
     },
     "metadata": {
      "needs_background": "light"
     },
     "output_type": "display_data"
    }
   ],
   "source": [
    "# plotting the poisson distribution\n",
    "plt.plot(n,mypoisson,'o-')\n",
    "plt.title('Poisson: $\\lambda$ = %i' % rate)\n",
    "plt.xlabel('Number of Customers Arriving in 1 Minute')\n",
    "plt.ylabel('Probability')\n",
    "plt.show()"
   ]
  },
  {
   "cell_type": "code",
   "execution_count": null,
   "metadata": {},
   "outputs": [],
   "source": []
  }
 ],
 "metadata": {
  "kernelspec": {
   "display_name": "Python 3",
   "language": "python",
   "name": "python3"
  },
  "language_info": {
   "codemirror_mode": {
    "name": "ipython",
    "version": 3
   },
   "file_extension": ".py",
   "mimetype": "text/x-python",
   "name": "python",
   "nbconvert_exporter": "python",
   "pygments_lexer": "ipython3",
   "version": "3.7.4"
  }
 },
 "nbformat": 4,
 "nbformat_minor": 2
}
