{
 "cells": [
  {
   "cell_type": "markdown",
   "metadata": {},
   "source": [
    "## IMPORTING BASIC LIBRARIES & DATA"
   ]
  },
  {
   "cell_type": "code",
   "execution_count": 1,
   "metadata": {},
   "outputs": [],
   "source": [
    "# importing basic libraries\n",
    "import pandas as pd\n",
    "import numpy as np\n",
    "import seaborn as sns\n",
    "import matplotlib.pyplot as plt\n",
    "import plotly.graph_objects as go\n",
    "import plotly.express as px\n",
    "import warnings\n",
    "warnings.filterwarnings('ignore')\n",
    "%matplotlib inline\n",
    "\n",
    "# importing data\n",
    "data = pd.read_csv('hotel_cancel.csv')"
   ]
  },
  {
   "cell_type": "markdown",
   "metadata": {},
   "source": [
    "## ------ NORMAL DISTRIBUTION ------"
   ]
  },
  {
   "cell_type": "markdown",
   "metadata": {},
   "source": [
    "- The basic assumption for Statistical Inference\n",
    "- Symmetric (mean=median=mode)\n",
    "- Asymptotic (its tail gets closer & closer to the horizontal axis but it never touches it)\n",
    "- Standard Normal Distribution has mean=0 & stdev=1\n",
    "- Z-Scores & Z-Tables are useful for cumulative probability calculation\n",
    "    - Z = (X-mean) / stdev \n",
    "    - X = (Z*stdev) + mean"
   ]
  },
  {
   "cell_type": "markdown",
   "metadata": {},
   "source": [
    "## CUMULATIVE DISTRIBUTIVE FUNCTION (CDF)"
   ]
  },
  {
   "cell_type": "code",
   "execution_count": 6,
   "metadata": {},
   "outputs": [
    {
     "data": {
      "text/plain": [
       "0.06680720126885809"
      ]
     },
     "execution_count": 6,
     "metadata": {},
     "output_type": "execute_result"
    }
   ],
   "source": [
    "import scipy.stats as st\n",
    "\n",
    "# mean(loc):100kg, stdev(scale):10kg\n",
    "\"\"\"what's the probability of getting > 115kg\"\"\"\n",
    "1 - st.norm.cdf(115, loc=100, scale=10)"
   ]
  },
  {
   "cell_type": "markdown",
   "metadata": {},
   "source": [
    "- 6,68% is the probability of getting > 115 kg "
   ]
  },
  {
   "cell_type": "code",
   "execution_count": 15,
   "metadata": {},
   "outputs": [
    {
     "data": {
      "text/plain": [
       "0.022750131948179195"
      ]
     },
     "execution_count": 15,
     "metadata": {},
     "output_type": "execute_result"
    }
   ],
   "source": [
    "# mean(loc):100kg, stdev(scale):10kg\n",
    "\"\"\"what's the probability of getting < 80kg\"\"\"\n",
    "st.norm.cdf(80, loc=100, scale=10)"
   ]
  },
  {
   "cell_type": "markdown",
   "metadata": {},
   "source": [
    "- 2,28% is the probability of getting < 80 kg "
   ]
  },
  {
   "cell_type": "code",
   "execution_count": 16,
   "metadata": {},
   "outputs": [
    {
     "data": {
      "text/plain": [
       "0.4772498680518208"
      ]
     },
     "execution_count": 16,
     "metadata": {},
     "output_type": "execute_result"
    }
   ],
   "source": [
    "# mean(loc):100kg, stdev(scale):10kg\n",
    "\"\"\"what's the probability of getting between 80kg & 100kg\"\"\"\n",
    "st.norm.cdf(100, loc=100, scale=10) - st.norm.cdf(80, loc=100, scale=10)"
   ]
  },
  {
   "cell_type": "markdown",
   "metadata": {},
   "source": [
    "- 47,72% is the probability of getting between 80kg & 100kg"
   ]
  },
  {
   "cell_type": "code",
   "execution_count": 7,
   "metadata": {},
   "outputs": [
    {
     "data": {
      "text/plain": [
       "0.6826894921370859"
      ]
     },
     "execution_count": 7,
     "metadata": {},
     "output_type": "execute_result"
    }
   ],
   "source": [
    "# mean(loc):100kg, stdev(scale):10kg\n",
    "\"\"\"what's the probability of getting between 90kg & 110kg\"\"\"\n",
    "norm.cdf(110, loc=100, scale=10) - norm.cdf(90, loc=100, scale=10)"
   ]
  },
  {
   "cell_type": "markdown",
   "metadata": {},
   "source": [
    "- 68% is the probability of getting between 90kg & 110kg (within 1 stdev)"
   ]
  },
  {
   "cell_type": "code",
   "execution_count": 17,
   "metadata": {},
   "outputs": [
    {
     "data": {
      "text/plain": [
       "0.9544997361036416"
      ]
     },
     "execution_count": 17,
     "metadata": {},
     "output_type": "execute_result"
    }
   ],
   "source": [
    "# mean(loc): 10 bottles, stdev(scale): 2 bottles\n",
    "\"\"\"what's the probability of getting between 6 bottles & 14 bottles\"\"\"\n",
    "norm.cdf(14, loc=10, scale=2) - norm.cdf(6, loc=10, scale=2)"
   ]
  },
  {
   "cell_type": "markdown",
   "metadata": {},
   "source": [
    "- 95% is the probability of getting orders between 6 bottles & 14 bottles (within 2 stdev)"
   ]
  },
  {
   "cell_type": "code",
   "execution_count": 19,
   "metadata": {},
   "outputs": [
    {
     "data": {
      "text/plain": [
       "0.9750021048517795"
      ]
     },
     "execution_count": 19,
     "metadata": {},
     "output_type": "execute_result"
    }
   ],
   "source": [
    "# returns probability from a Z-score\n",
    "st.norm.cdf(1.96)"
   ]
  },
  {
   "cell_type": "markdown",
   "metadata": {},
   "source": [
    "- Z-Score of 1.96 equals to 97,5% cumulative probability"
   ]
  },
  {
   "cell_type": "code",
   "execution_count": 20,
   "metadata": {},
   "outputs": [
    {
     "data": {
      "text/plain": [
       "1.959963984540054"
      ]
     },
     "execution_count": 20,
     "metadata": {},
     "output_type": "execute_result"
    }
   ],
   "source": [
    "# returns Z-score from a probability\n",
    "st.norm.ppf(0.975)"
   ]
  },
  {
   "cell_type": "markdown",
   "metadata": {},
   "source": [
    "- 97,5% cumulative probability equals to Z-Score of 1.959"
   ]
  },
  {
   "cell_type": "code",
   "execution_count": 27,
   "metadata": {},
   "outputs": [
    {
     "data": {
      "text/plain": [
       "16.100965009742723"
      ]
     },
     "execution_count": 27,
     "metadata": {},
     "output_type": "execute_result"
    }
   ],
   "source": [
    "# writing a function that inputs demand mean, stdev, and probability/proportion\n",
    "def demand_average(mean, stdev, prob):\n",
    "    result = (st.norm.ppf(prob)*stdev) + mean\n",
    "    return result\n",
    "\n",
    "demand_average(12, 3.2, 0.90)"
   ]
  },
  {
   "cell_type": "markdown",
   "metadata": {},
   "source": [
    "- we should purchase approximately 16 kg of daily stock to meet the daily demand on 90% of the days (given mean 12kg & stdev 3.2kg)"
   ]
  }
 ],
 "metadata": {
  "kernelspec": {
   "display_name": "Python 3",
   "language": "python",
   "name": "python3"
  },
  "language_info": {
   "codemirror_mode": {
    "name": "ipython",
    "version": 3
   },
   "file_extension": ".py",
   "mimetype": "text/x-python",
   "name": "python",
   "nbconvert_exporter": "python",
   "pygments_lexer": "ipython3",
   "version": "3.7.4"
  }
 },
 "nbformat": 4,
 "nbformat_minor": 2
}
