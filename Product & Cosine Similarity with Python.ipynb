{
 "cells": [
  {
   "cell_type": "markdown",
   "metadata": {},
   "source": [
    "# Importing Libraries & Data"
   ]
  },
  {
   "cell_type": "code",
   "execution_count": 1,
   "metadata": {},
   "outputs": [],
   "source": [
    "# importimg modules\n",
    "import os\n",
    "import pandas as pd\n",
    "import numpy as np\n",
    "import seaborn as sns\n",
    "import matplotlib.pyplot as plt\n",
    "from tqdm import tqdm\n",
    "\n",
    "import warnings\n",
    "warnings.filterwarnings(\"ignore\")\n",
    "%matplotlib inline\n",
    "%load_ext autoreload\n",
    "%autoreload 2"
   ]
  },
  {
   "cell_type": "markdown",
   "metadata": {},
   "source": [
    "# Data Overview"
   ]
  },
  {
   "cell_type": "code",
   "execution_count": 2,
   "metadata": {},
   "outputs": [
    {
     "data": {
      "text/plain": [
       "(500, 2)"
      ]
     },
     "metadata": {},
     "output_type": "display_data"
    },
    {
     "data": {
      "text/html": [
       "<div>\n",
       "<style scoped>\n",
       "    .dataframe tbody tr th:only-of-type {\n",
       "        vertical-align: middle;\n",
       "    }\n",
       "\n",
       "    .dataframe tbody tr th {\n",
       "        vertical-align: top;\n",
       "    }\n",
       "\n",
       "    .dataframe thead th {\n",
       "        text-align: right;\n",
       "    }\n",
       "</style>\n",
       "<table border=\"1\" class=\"dataframe\">\n",
       "  <thead>\n",
       "    <tr style=\"text-align: right;\">\n",
       "      <th></th>\n",
       "      <th>id</th>\n",
       "      <th>description</th>\n",
       "    </tr>\n",
       "  </thead>\n",
       "  <tbody>\n",
       "    <tr>\n",
       "      <th>0</th>\n",
       "      <td>1</td>\n",
       "      <td>Active classic boxers - There's a reason why o...</td>\n",
       "    </tr>\n",
       "    <tr>\n",
       "      <th>1</th>\n",
       "      <td>2</td>\n",
       "      <td>Active sport boxer briefs - Skinning up Glory ...</td>\n",
       "    </tr>\n",
       "    <tr>\n",
       "      <th>2</th>\n",
       "      <td>3</td>\n",
       "      <td>Active sport briefs - These superbreathable no...</td>\n",
       "    </tr>\n",
       "    <tr>\n",
       "      <th>3</th>\n",
       "      <td>4</td>\n",
       "      <td>Alpine guide pants - Skin in, climb ice, switc...</td>\n",
       "    </tr>\n",
       "    <tr>\n",
       "      <th>4</th>\n",
       "      <td>5</td>\n",
       "      <td>Alpine wind jkt - On high ridges, steep ice an...</td>\n",
       "    </tr>\n",
       "  </tbody>\n",
       "</table>\n",
       "</div>"
      ],
      "text/plain": [
       "   id                                        description\n",
       "0   1  Active classic boxers - There's a reason why o...\n",
       "1   2  Active sport boxer briefs - Skinning up Glory ...\n",
       "2   3  Active sport briefs - These superbreathable no...\n",
       "3   4  Alpine guide pants - Skin in, climb ice, switc...\n",
       "4   5  Alpine wind jkt - On high ridges, steep ice an..."
      ]
     },
     "metadata": {},
     "output_type": "display_data"
    },
    {
     "name": "stdout",
     "output_type": "stream",
     "text": [
      "<class 'pandas.core.frame.DataFrame'>\n",
      "RangeIndex: 500 entries, 0 to 499\n",
      "Data columns (total 2 columns):\n",
      " #   Column       Non-Null Count  Dtype \n",
      "---  ------       --------------  ----- \n",
      " 0   id           500 non-null    int64 \n",
      " 1   description  500 non-null    object\n",
      "dtypes: int64(1), object(1)\n",
      "memory usage: 7.9+ KB\n"
     ]
    }
   ],
   "source": [
    "# importing customer data & showing its general data\n",
    "prod_df = pd.read_csv('product_data.csv')\n",
    "display(prod_df.shape)\n",
    "display(prod_df.head())\n",
    "prod_df.info()"
   ]
  },
  {
   "cell_type": "code",
   "execution_count": 3,
   "metadata": {},
   "outputs": [
    {
     "data": {
      "text/plain": [
       "'Active classic boxers - There\\'s a reason why our boxers are a cult favorite - they keep their cool, especially in sticky situations. The quick-drying, lightweight underwear takes up minimal space in a travel pack. An exposed, brushed waistband offers next-to-skin softness, five-panel construction with a traditional boxer back for a classic fit, and a functional fly. Made of 3.7-oz 100% recycled polyester with moisture-wicking performance. Inseam (size M) is 4 1/2\". Recyclable through the Common Threads Recycling Program.<br><br><b>Details:</b><ul> <li>\"Silky Capilene 1 fabric is ultralight, breathable and quick-to-dry\"</li> <li>\"Exposed, brushed elastic waistband for comfort\"</li> <li>5-panel construction with traditional boxer back</li> <li>\"Inseam (size M) is 4 1/2\"\"\"</li></ul><br><br><b>Fabric: </b>3.7-oz 100% all-recycled polyester with Gladiodor natural odor control for the garment. Recyclable through the Common Threads Recycling Program<br><br><b>Weight: </b>99 g (3.5 oz)<br><br>Made in Mexico.'"
      ]
     },
     "execution_count": 3,
     "metadata": {},
     "output_type": "execute_result"
    }
   ],
   "source": [
    "# first row example\n",
    "prod_df['description'][0]"
   ]
  },
  {
   "cell_type": "markdown",
   "metadata": {},
   "source": [
    "# EDA & Preprocessing"
   ]
  },
  {
   "cell_type": "code",
   "execution_count": 5,
   "metadata": {},
   "outputs": [],
   "source": [
    "# showcase example\n",
    "text = prod_df['description'][0]\n",
    "text1 = prod_df['description'][493] # more similar with produc1\n",
    "text2 = prod_df['description'][4] # more different with produc2\n",
    "test_df = pd.DataFrame([text,text1,text2]).rename(columns={0:'description'})"
   ]
  },
  {
   "cell_type": "code",
   "execution_count": 6,
   "metadata": {},
   "outputs": [],
   "source": [
    "# declaring common text preprocessing function\n",
    "def preprocess_text(text):\n",
    "    # Replace . & - with each assigned characters\n",
    "    import re\n",
    "    text = text.lower()\n",
    "    text = text.replace('.', ' __PERIOD__ ') \n",
    "    text = text.replace('-', ' ')   \n",
    "\n",
    "    # Remove special characters_1\n",
    "    text = re.sub(r'[{}()\\'\"/]', '', text)\n",
    "\n",
    "    # Replace special characters_2 with space\n",
    "    text = re.sub(r'[;,:-@#%]', ' ', text) \n",
    "    return text\n",
    "\n",
    "# applying function to the test df\n",
    "test_df['description'] = test_df['description'].apply(preprocess_text)"
   ]
  },
  {
   "cell_type": "code",
   "execution_count": 7,
   "metadata": {},
   "outputs": [
    {
     "data": {
      "text/plain": [
       "'active classic boxers   theres a reason why our boxers are a cult favorite   they keep their cool  especially in sticky situations __PERIOD__  the quick drying  lightweight underwear takes up minimal space in a travel pack __PERIOD__  an exposed  brushed waistband offers next to skin softness  five panel construction with a traditional boxer back for a classic fit  and a functional fly __PERIOD__  made of 3 __PERIOD__ 7 oz 100  recycled polyester with moisture wicking performance __PERIOD__  inseam size m is 4 12 __PERIOD__  recyclable through the common threads recycling program __PERIOD__  br  br  b details  b  ul   li silky capilene 1 fabric is ultralight  breathable and quick to dry li   li exposed  brushed elastic waistband for comfort li   li 5 panel construction with traditional boxer back li   li inseam size m is 4 12 li  ul  br  br  b fabric   b 3 __PERIOD__ 7 oz 100  all recycled polyester with gladiodor natural odor control for the garment __PERIOD__  recyclable through the common threads recycling program br  br  b weight   b 99 g 3 __PERIOD__ 5 oz br  br made in mexico __PERIOD__ '"
      ]
     },
     "execution_count": 7,
     "metadata": {},
     "output_type": "execute_result"
    }
   ],
   "source": [
    "# first example preprocessed (Product1)\n",
    "test_df['description'][0]"
   ]
  },
  {
   "cell_type": "code",
   "execution_count": 8,
   "metadata": {},
   "outputs": [
    {
     "data": {
      "text/plain": [
       "'active boxer briefs   a no fuss travel companion  these skivvies love sink and creek baths  and they dry in a flash __PERIOD__  the quick wicking underwear breathes exceptionally well  keeping you comfortable in any condition __PERIOD__  an exposed elastic waistband is brushed for no chafe softness  the hem is coverstitched for a smooth glide beneath shorts or pants __PERIOD__  with a 5 12 inseam size m an easy access fly and a supportive front panel __PERIOD__  made from 100  polyester 54  recycled with moisture wicking performance __PERIOD__  recyclable through the common threads recycling program __PERIOD__  br  br  b details  b  ul   li moisture wicking capilene 2 fabric with an open knit weave for breathability li   li brushed elastic waistband for next to skin softness li   li supportive front panel li   li cover stitched hem for smooth glide under shorts or pants  wont restrict mobility li   li inseam size m is 5 12 li  ul  br  br  b fabric   b 4 oz 100  polyester 54  recycled with gladiodor natural odor control for the garment __PERIOD__  recyclable through the common threads recycling program br  br  b weight   b 72 g 2 __PERIOD__ 5 oz br  br made in usa __PERIOD__ '"
      ]
     },
     "execution_count": 8,
     "metadata": {},
     "output_type": "execute_result"
    }
   ],
   "source": [
    "# second example preprocessed (Product494)\n",
    "test_df['description'][1]"
   ]
  },
  {
   "cell_type": "code",
   "execution_count": 9,
   "metadata": {},
   "outputs": [
    {
     "data": {
      "text/plain": [
       "'alpine wind jkt   on high ridges  steep ice and anything alpine  this jacket serves as a true best of all worlds staple __PERIOD__  it excels as a stand alone shell for blustery rock climbs  cool weather trail runs and high output ski tours __PERIOD__  and then  when conditions have you ice and alpine climbing  it functions as a lightly insulated windshirt on the approach  as well as a frictionless midlayer when its time to bundle up and tie in __PERIOD__  the polyester ripstop shell with a deluge dwr durable water repellent treatment sheds snow and blocks wind  while the smooth  lightly brushed hanging mesh liner wicks moisture  dries fast  and doesnt bind to your baselayers __PERIOD__  superlight stretch woven underarm panels enhance breathability and allow for unimpaired arm motion  and the two hand pockets close with zippers __PERIOD__  a drawcord hem  elastic cuffs  a heat transfer reflective logo and a regular coil  center front zipper with dwr finish round out the features __PERIOD__  updated this season for an improved fit __PERIOD__  recyclable through the common threads recycling program __PERIOD__  br  br  b details  b  ul   li lightweight  breathable polyester ripstop fabric with deluge dwr durable water repellent finish  slightly brushed polyester mesh liner wicks moisture and dries fast li   li stretch woven underarm panels provide breathability  stretch for unimpeded range of motion li   li dwr finish on center front zipper li   li elastic cuffs li   li pockets  exterior chest  zippered handwarmers li   li drawcord hem li   li reflective heat transfer logo li  ul  br  br  b fabric   b shell  1 __PERIOD__ 3 oz 20 denier 100  polyester ripstop __PERIOD__  panels  4 __PERIOD__ 6 oz 75 denier 90  all recycled polyester10  spandex __PERIOD__  shell and panels have deluge dwr durable water repellent finish __PERIOD__  lining  100  polyester brushed tricot mesh __PERIOD__  recyclable through the common threads recycling program br  br  b weight   b 331 g 11 __PERIOD__ 5 oz br  br made in china __PERIOD__ '"
      ]
     },
     "execution_count": 9,
     "metadata": {},
     "output_type": "execute_result"
    }
   ],
   "source": [
    "# third example preprocessed (Product5)\n",
    "test_df['description'][2]"
   ]
  },
  {
   "cell_type": "code",
   "execution_count": 10,
   "metadata": {},
   "outputs": [],
   "source": [
    "# declaring the cosine similarity function\n",
    "from collections import Counter\n",
    "from sklearn.feature_extraction.text import CountVectorizer\n",
    "from sklearn.feature_extraction.text import TfidfVectorizer\n",
    "from sklearn.metrics.pairwise import cosine_similarity\n",
    "from rapidfuzz import fuzz\n",
    "\n",
    "def get_cosine_sim(*strs, v=1, show_vectors=0): \n",
    "    \n",
    "    def get_vectors(*strs):\n",
    "        text = [t for t in strs]\n",
    "        if v==1: #CountVectorizer\n",
    "            vectorizer = CountVectorizer(text)\n",
    "        elif v==2: #TfidfVectorizer\n",
    "            vectorizer = TfidfVectorizer(text)\n",
    "        vectorizer.fit(text)\n",
    "        return vectorizer.transform(text).toarray()\n",
    "    vectors = [t for t in get_vectors(*strs)]\n",
    "    \n",
    "    if show_vectors==0:\n",
    "        return cosine_similarity(vectors)\n",
    "    else:\n",
    "        return get_vectors(*strs)"
   ]
  },
  {
   "cell_type": "code",
   "execution_count": 11,
   "metadata": {},
   "outputs": [
    {
     "data": {
      "text/plain": [
       "array([[ 2,  2,  0,  0,  1, 11,  0,  1,  1,  1,  2,  0,  1,  2,  0,  0,\n",
       "         2,  2,  8,  0,  1,  0,  0,  2,  1,  0,  2,  1,  0,  2,  0,  0,\n",
       "         2,  1,  1,  0,  0,  0,  1,  1,  1,  1,  0,  1,  1,  0,  2,  2,\n",
       "         1,  1,  1,  0,  1,  3,  0,  0,  1,  0,  1,  1,  0,  0,  3,  2,\n",
       "         3,  1,  0,  0,  8,  1,  0,  2,  1,  1,  0,  1,  1,  1,  0,  1,\n",
       "         1,  1,  0,  0,  1,  3,  1,  2,  0,  1,  2,  2,  2,  1,  2,  2,\n",
       "         2,  0,  0,  1,  0,  1,  2,  1,  0,  0,  1,  1,  1,  0,  0,  1,\n",
       "         4,  1,  1,  0,  1,  2,  2,  2,  2,  1,  2,  1,  0,  1,  1,  0,\n",
       "         2,  0,  1,  0,  1,  1,  4,  0,  0],\n",
       "       [ 2,  2,  2,  1,  0,  9,  1,  1,  0,  3,  3,  1,  0,  0,  1,  1,\n",
       "         1,  0,  8,  1,  0,  1,  1,  2,  1,  1,  0,  0,  1,  2,  1,  1,\n",
       "         0,  1,  0,  1,  1,  1,  0,  1,  1,  0,  1,  2,  0,  1,  1,  2,\n",
       "         0,  0,  0,  1,  1,  6,  1,  2,  0,  1,  1,  1,  2,  2,  3,  2,\n",
       "         3,  0,  1,  1, 10,  0,  1,  2,  0,  0,  1,  2,  1,  1,  2,  1,\n",
       "         0,  0,  1,  2,  0,  2,  0,  2,  2,  1,  2,  2,  1,  0,  2,  2,\n",
       "         2,  1,  2,  0,  1,  0,  2,  1,  1,  2,  2,  0,  0,  1,  2,  0,\n",
       "         5,  0,  0,  1,  1,  2,  2,  1,  0,  1,  2,  0,  1,  1,  0,  1,\n",
       "         2,  1,  1,  1,  0,  3,  4,  1,  1]], dtype=int64)"
      ]
     },
     "execution_count": 11,
     "metadata": {},
     "output_type": "execute_result"
    }
   ],
   "source": [
    "# getting the example vectors from the texts\n",
    "get_cosine_sim(test_df['description'][0], test_df['description'][1], show_vectors=1)"
   ]
  },
  {
   "cell_type": "markdown",
   "metadata": {},
   "source": [
    "### --- Example 1 (Benchmarking Results on Product1-Product494 /More Similar) ---"
   ]
  },
  {
   "cell_type": "code",
   "execution_count": 29,
   "metadata": {},
   "outputs": [
    {
     "data": {
      "text/plain": [
       "0.8443905903899785"
      ]
     },
     "metadata": {},
     "output_type": "display_data"
    },
    {
     "name": "stdout",
     "output_type": "stream",
     "text": [
      "Time: 0.0032770633697509766\n"
     ]
    }
   ],
   "source": [
    "import time\n",
    "start = time.time()\n",
    "\n",
    "# getting the example cosine similarity from the texts with countvectorizer\n",
    "display(get_cosine_sim(test_df['description'][0], test_df['description'][1], v=1)[0][1])\n",
    "\n",
    "print(f'Time: {time.time() - start}')"
   ]
  },
  {
   "cell_type": "code",
   "execution_count": 32,
   "metadata": {},
   "outputs": [
    {
     "data": {
      "text/plain": [
       "0.7542238349834613"
      ]
     },
     "metadata": {},
     "output_type": "display_data"
    },
    {
     "name": "stdout",
     "output_type": "stream",
     "text": [
      "Time: 0.015222311019897461\n"
     ]
    }
   ],
   "source": [
    "start = time.time()\n",
    "\n",
    "# getting the example cosine similarity from the texts with TfidfVectorizer\n",
    "display(get_cosine_sim(test_df['description'][0], test_df['description'][1], v=2)[0][1])\n",
    "\n",
    "\n",
    "print(f'Time: {time.time() - start}')"
   ]
  },
  {
   "cell_type": "code",
   "execution_count": 33,
   "metadata": {},
   "outputs": [
    {
     "data": {
      "text/plain": [
       "0.7738461538461539"
      ]
     },
     "metadata": {},
     "output_type": "display_data"
    },
    {
     "name": "stdout",
     "output_type": "stream",
     "text": [
      "Time: 0.012053728103637695\n"
     ]
    }
   ],
   "source": [
    "start = time.time()\n",
    "\n",
    "# getting the example rapidfuzz token set ratio\n",
    "display(fuzz.token_set_ratio(test_df['description'][0], test_df['description'][1])/100)\n",
    "\n",
    "print(f'Time: {time.time() - start}')"
   ]
  },
  {
   "cell_type": "markdown",
   "metadata": {},
   "source": [
    "### --- Example 2 (Benchmarking Results on Product1-Product5 /More Different) ---"
   ]
  },
  {
   "cell_type": "code",
   "execution_count": 39,
   "metadata": {},
   "outputs": [
    {
     "data": {
      "text/plain": [
       "0.6790925093968282"
      ]
     },
     "metadata": {},
     "output_type": "display_data"
    },
    {
     "name": "stdout",
     "output_type": "stream",
     "text": [
      "Time: 0.011217832565307617\n"
     ]
    }
   ],
   "source": [
    "start = time.time()\n",
    "\n",
    "# getting the example cosine similarity from the texts with countvectorizer\n",
    "display(get_cosine_sim(test_df['description'][0], test_df['description'][2], v=1)[0][1])\n",
    "\n",
    "print(f'Time: {time.time() - start}')"
   ]
  },
  {
   "cell_type": "code",
   "execution_count": 42,
   "metadata": {},
   "outputs": [
    {
     "data": {
      "text/plain": [
       "0.5425244648893441"
      ]
     },
     "metadata": {},
     "output_type": "display_data"
    },
    {
     "name": "stdout",
     "output_type": "stream",
     "text": [
      "Time: 0.014736413955688477\n"
     ]
    }
   ],
   "source": [
    "start = time.time()\n",
    "\n",
    "# getting the example cosine similarity from the texts with TfidfVectorizer\n",
    "display(get_cosine_sim(test_df['description'][0], test_df['description'][2], v=2)[0][1])\n",
    "\n",
    "print(f'Time: {time.time() - start}')"
   ]
  },
  {
   "cell_type": "code",
   "execution_count": 43,
   "metadata": {},
   "outputs": [
    {
     "data": {
      "text/plain": [
       "0.5631981187536743"
      ]
     },
     "metadata": {},
     "output_type": "display_data"
    },
    {
     "name": "stdout",
     "output_type": "stream",
     "text": [
      "Time: 0.018030643463134766\n"
     ]
    }
   ],
   "source": [
    "start = time.time()\n",
    "\n",
    "display(fuzz.token_set_ratio(test_df['description'][0], test_df['description'][2])/100)\n",
    "\n",
    "print(f'Time: {time.time() - start}')"
   ]
  },
  {
   "cell_type": "markdown",
   "metadata": {},
   "source": [
    "- For ease of process & time, we're going to use Cosine Similarity with CountVectorizer for the next steps"
   ]
  },
  {
   "cell_type": "markdown",
   "metadata": {},
   "source": [
    "### --- Creating Similarity Matrix with Cosine Similarity CountVectorizer---"
   ]
  },
  {
   "cell_type": "code",
   "execution_count": 44,
   "metadata": {},
   "outputs": [
    {
     "data": {
      "text/html": [
       "<div>\n",
       "<style scoped>\n",
       "    .dataframe tbody tr th:only-of-type {\n",
       "        vertical-align: middle;\n",
       "    }\n",
       "\n",
       "    .dataframe tbody tr th {\n",
       "        vertical-align: top;\n",
       "    }\n",
       "\n",
       "    .dataframe thead th {\n",
       "        text-align: right;\n",
       "    }\n",
       "</style>\n",
       "<table border=\"1\" class=\"dataframe\">\n",
       "  <thead>\n",
       "    <tr style=\"text-align: right;\">\n",
       "      <th></th>\n",
       "      <th>product_1</th>\n",
       "      <th>product494</th>\n",
       "      <th>product5</th>\n",
       "    </tr>\n",
       "  </thead>\n",
       "  <tbody>\n",
       "    <tr>\n",
       "      <th>product_1</th>\n",
       "      <td>1.000000</td>\n",
       "      <td>0.844391</td>\n",
       "      <td>0.679093</td>\n",
       "    </tr>\n",
       "    <tr>\n",
       "      <th>product494</th>\n",
       "      <td>0.844391</td>\n",
       "      <td>1.000000</td>\n",
       "      <td>0.675314</td>\n",
       "    </tr>\n",
       "    <tr>\n",
       "      <th>product5</th>\n",
       "      <td>0.679093</td>\n",
       "      <td>0.675314</td>\n",
       "      <td>1.000000</td>\n",
       "    </tr>\n",
       "  </tbody>\n",
       "</table>\n",
       "</div>"
      ],
      "text/plain": [
       "            product_1  product494  product5\n",
       "product_1    1.000000    0.844391  0.679093\n",
       "product494   0.844391    1.000000  0.675314\n",
       "product5     0.679093    0.675314  1.000000"
      ]
     },
     "execution_count": 44,
     "metadata": {},
     "output_type": "execute_result"
    }
   ],
   "source": [
    "# creating the dataframe of the test texts\n",
    "lst_tab = []\n",
    "for idx in range(0, len(test_df)):\n",
    "    lst_row = []\n",
    "    for col in range(0, len(test_df)):\n",
    "        res = get_cosine_sim(test_df['description'][idx], test_df['description'][col], v=1) [0][1]\n",
    "        lst_row.append(res)\n",
    "    lst_tab.append(lst_row)    \n",
    "df = pd.DataFrame(lst_tab)\n",
    "\n",
    "# renaming columns & index\n",
    "df.columns = ['product_1','product494','product5']\n",
    "df.index = ['product_1','product494','product5']\n",
    "\n",
    "df"
   ]
  },
  {
   "cell_type": "code",
   "execution_count": 45,
   "metadata": {},
   "outputs": [
    {
     "data": {
      "text/plain": [
       "<matplotlib.axes._subplots.AxesSubplot at 0x2a4b0059588>"
      ]
     },
     "execution_count": 45,
     "metadata": {},
     "output_type": "execute_result"
    },
    {
     "data": {
      "image/png": "[encoded data removed]",
      "text/plain": [
       "<Figure size 432x288 with 2 Axes>"
      ]
     },
     "metadata": {
      "needs_background": "light"
     },
     "output_type": "display_data"
    }
   ],
   "source": [
    "# example heatmap\n",
    "sns.heatmap(df,annot=True)"
   ]
  },
  {
   "cell_type": "markdown",
   "metadata": {},
   "source": [
    "# Applying Analysis to Whole Dataset"
   ]
  },
  {
   "cell_type": "code",
   "execution_count": 46,
   "metadata": {},
   "outputs": [],
   "source": [
    "# data contingency\n",
    "mydf = prod_df.copy()"
   ]
  },
  {
   "cell_type": "code",
   "execution_count": 47,
   "metadata": {},
   "outputs": [
    {
     "data": {
      "text/plain": [
       "0    active classic boxers   theres a reason why ou...\n",
       "1    active sport boxer briefs   skinning up glory ...\n",
       "2    active sport briefs   these superbreathable no...\n",
       "3    alpine guide pants   skin in  climb ice  switc...\n",
       "4    alpine wind jkt   on high ridges  steep ice an...\n",
       "Name: description, dtype: object"
      ]
     },
     "execution_count": 47,
     "metadata": {},
     "output_type": "execute_result"
    }
   ],
   "source": [
    "# applying text preprocessing\n",
    "mydf['description'] = mydf['description'].apply(preprocess_text)\n",
    "mydf['description'].head(5)"
   ]
  },
  {
   "cell_type": "code",
   "execution_count": 128,
   "metadata": {},
   "outputs": [
    {
     "data": {
      "text/html": [
       "<div>\n",
       "<style scoped>\n",
       "    .dataframe tbody tr th:only-of-type {\n",
       "        vertical-align: middle;\n",
       "    }\n",
       "\n",
       "    .dataframe tbody tr th {\n",
       "        vertical-align: top;\n",
       "    }\n",
       "\n",
       "    .dataframe thead th {\n",
       "        text-align: right;\n",
       "    }\n",
       "</style>\n",
       "<table border=\"1\" class=\"dataframe\">\n",
       "  <thead>\n",
       "    <tr style=\"text-align: right;\">\n",
       "      <th></th>\n",
       "      <th>product_1</th>\n",
       "      <th>product_2</th>\n",
       "      <th>product_3</th>\n",
       "      <th>product_4</th>\n",
       "      <th>product_5</th>\n",
       "      <th>product_6</th>\n",
       "      <th>product_7</th>\n",
       "      <th>product_8</th>\n",
       "      <th>product_9</th>\n",
       "      <th>product_10</th>\n",
       "      <th>...</th>\n",
       "      <th>product_491</th>\n",
       "      <th>product_492</th>\n",
       "      <th>product_493</th>\n",
       "      <th>product_494</th>\n",
       "      <th>product_495</th>\n",
       "      <th>product_496</th>\n",
       "      <th>product_497</th>\n",
       "      <th>product_498</th>\n",
       "      <th>product_499</th>\n",
       "      <th>product_500</th>\n",
       "    </tr>\n",
       "  </thead>\n",
       "  <tbody>\n",
       "    <tr>\n",
       "      <th>product_1</th>\n",
       "      <td>1.000000</td>\n",
       "      <td>0.778586</td>\n",
       "      <td>0.735128</td>\n",
       "      <td>0.674829</td>\n",
       "      <td>0.679093</td>\n",
       "      <td>0.627939</td>\n",
       "      <td>0.634285</td>\n",
       "      <td>0.649841</td>\n",
       "      <td>0.746984</td>\n",
       "      <td>0.629904</td>\n",
       "      <td>...</td>\n",
       "      <td>0.700219</td>\n",
       "      <td>0.692948</td>\n",
       "      <td>0.705274</td>\n",
       "      <td>0.844391</td>\n",
       "      <td>0.775699</td>\n",
       "      <td>0.757902</td>\n",
       "      <td>0.717625</td>\n",
       "      <td>0.699837</td>\n",
       "      <td>0.750468</td>\n",
       "      <td>0.725834</td>\n",
       "    </tr>\n",
       "    <tr>\n",
       "      <th>product_2</th>\n",
       "      <td>0.778586</td>\n",
       "      <td>1.000000</td>\n",
       "      <td>0.832687</td>\n",
       "      <td>0.651419</td>\n",
       "      <td>0.659132</td>\n",
       "      <td>0.631817</td>\n",
       "      <td>0.639795</td>\n",
       "      <td>0.652303</td>\n",
       "      <td>0.709243</td>\n",
       "      <td>0.614469</td>\n",
       "      <td>...</td>\n",
       "      <td>0.677597</td>\n",
       "      <td>0.676311</td>\n",
       "      <td>0.677597</td>\n",
       "      <td>0.764430</td>\n",
       "      <td>0.696859</td>\n",
       "      <td>0.710263</td>\n",
       "      <td>0.667285</td>\n",
       "      <td>0.616325</td>\n",
       "      <td>0.714976</td>\n",
       "      <td>0.708823</td>\n",
       "    </tr>\n",
       "    <tr>\n",
       "      <th>product_3</th>\n",
       "      <td>0.735128</td>\n",
       "      <td>0.832687</td>\n",
       "      <td>1.000000</td>\n",
       "      <td>0.635946</td>\n",
       "      <td>0.694899</td>\n",
       "      <td>0.654260</td>\n",
       "      <td>0.639079</td>\n",
       "      <td>0.638945</td>\n",
       "      <td>0.677073</td>\n",
       "      <td>0.606188</td>\n",
       "      <td>...</td>\n",
       "      <td>0.702439</td>\n",
       "      <td>0.661922</td>\n",
       "      <td>0.686830</td>\n",
       "      <td>0.759404</td>\n",
       "      <td>0.751010</td>\n",
       "      <td>0.742793</td>\n",
       "      <td>0.679871</td>\n",
       "      <td>0.647600</td>\n",
       "      <td>0.661482</td>\n",
       "      <td>0.654141</td>\n",
       "    </tr>\n",
       "    <tr>\n",
       "      <th>product_4</th>\n",
       "      <td>0.674829</td>\n",
       "      <td>0.651419</td>\n",
       "      <td>0.635946</td>\n",
       "      <td>1.000000</td>\n",
       "      <td>0.753641</td>\n",
       "      <td>0.750765</td>\n",
       "      <td>0.711670</td>\n",
       "      <td>0.583299</td>\n",
       "      <td>0.662625</td>\n",
       "      <td>0.677843</td>\n",
       "      <td>...</td>\n",
       "      <td>0.607530</td>\n",
       "      <td>0.601275</td>\n",
       "      <td>0.603560</td>\n",
       "      <td>0.657103</td>\n",
       "      <td>0.604526</td>\n",
       "      <td>0.663694</td>\n",
       "      <td>0.644498</td>\n",
       "      <td>0.672603</td>\n",
       "      <td>0.678417</td>\n",
       "      <td>0.679464</td>\n",
       "    </tr>\n",
       "    <tr>\n",
       "      <th>product_5</th>\n",
       "      <td>0.679093</td>\n",
       "      <td>0.659132</td>\n",
       "      <td>0.694899</td>\n",
       "      <td>0.753641</td>\n",
       "      <td>1.000000</td>\n",
       "      <td>0.757411</td>\n",
       "      <td>0.717868</td>\n",
       "      <td>0.576757</td>\n",
       "      <td>0.677742</td>\n",
       "      <td>0.678506</td>\n",
       "      <td>...</td>\n",
       "      <td>0.632559</td>\n",
       "      <td>0.638866</td>\n",
       "      <td>0.635730</td>\n",
       "      <td>0.675314</td>\n",
       "      <td>0.618134</td>\n",
       "      <td>0.684628</td>\n",
       "      <td>0.683537</td>\n",
       "      <td>0.769047</td>\n",
       "      <td>0.661719</td>\n",
       "      <td>0.656978</td>\n",
       "    </tr>\n",
       "    <tr>\n",
       "      <th>...</th>\n",
       "      <td>...</td>\n",
       "      <td>...</td>\n",
       "      <td>...</td>\n",
       "      <td>...</td>\n",
       "      <td>...</td>\n",
       "      <td>...</td>\n",
       "      <td>...</td>\n",
       "      <td>...</td>\n",
       "      <td>...</td>\n",
       "      <td>...</td>\n",
       "      <td>...</td>\n",
       "      <td>...</td>\n",
       "      <td>...</td>\n",
       "      <td>...</td>\n",
       "      <td>...</td>\n",
       "      <td>...</td>\n",
       "      <td>...</td>\n",
       "      <td>...</td>\n",
       "      <td>...</td>\n",
       "      <td>...</td>\n",
       "      <td>...</td>\n",
       "    </tr>\n",
       "    <tr>\n",
       "      <th>product_496</th>\n",
       "      <td>0.757902</td>\n",
       "      <td>0.710263</td>\n",
       "      <td>0.742793</td>\n",
       "      <td>0.663694</td>\n",
       "      <td>0.684628</td>\n",
       "      <td>0.666483</td>\n",
       "      <td>0.634874</td>\n",
       "      <td>0.601255</td>\n",
       "      <td>0.681981</td>\n",
       "      <td>0.621988</td>\n",
       "      <td>...</td>\n",
       "      <td>0.692520</td>\n",
       "      <td>0.680398</td>\n",
       "      <td>0.660403</td>\n",
       "      <td>0.801224</td>\n",
       "      <td>0.793763</td>\n",
       "      <td>1.000000</td>\n",
       "      <td>0.827722</td>\n",
       "      <td>0.655652</td>\n",
       "      <td>0.660827</td>\n",
       "      <td>0.676058</td>\n",
       "    </tr>\n",
       "    <tr>\n",
       "      <th>product_497</th>\n",
       "      <td>0.717625</td>\n",
       "      <td>0.667285</td>\n",
       "      <td>0.679871</td>\n",
       "      <td>0.644498</td>\n",
       "      <td>0.683537</td>\n",
       "      <td>0.665994</td>\n",
       "      <td>0.660692</td>\n",
       "      <td>0.566038</td>\n",
       "      <td>0.681804</td>\n",
       "      <td>0.607159</td>\n",
       "      <td>...</td>\n",
       "      <td>0.638285</td>\n",
       "      <td>0.711178</td>\n",
       "      <td>0.620877</td>\n",
       "      <td>0.720178</td>\n",
       "      <td>0.732729</td>\n",
       "      <td>0.827722</td>\n",
       "      <td>1.000000</td>\n",
       "      <td>0.670525</td>\n",
       "      <td>0.633917</td>\n",
       "      <td>0.631923</td>\n",
       "    </tr>\n",
       "    <tr>\n",
       "      <th>product_498</th>\n",
       "      <td>0.699837</td>\n",
       "      <td>0.616325</td>\n",
       "      <td>0.647600</td>\n",
       "      <td>0.672603</td>\n",
       "      <td>0.769047</td>\n",
       "      <td>0.687843</td>\n",
       "      <td>0.667733</td>\n",
       "      <td>0.546225</td>\n",
       "      <td>0.685826</td>\n",
       "      <td>0.623081</td>\n",
       "      <td>...</td>\n",
       "      <td>0.629611</td>\n",
       "      <td>0.650539</td>\n",
       "      <td>0.637106</td>\n",
       "      <td>0.664687</td>\n",
       "      <td>0.634285</td>\n",
       "      <td>0.655652</td>\n",
       "      <td>0.670525</td>\n",
       "      <td>1.000000</td>\n",
       "      <td>0.647184</td>\n",
       "      <td>0.623838</td>\n",
       "    </tr>\n",
       "    <tr>\n",
       "      <th>product_499</th>\n",
       "      <td>0.750468</td>\n",
       "      <td>0.714976</td>\n",
       "      <td>0.661482</td>\n",
       "      <td>0.678417</td>\n",
       "      <td>0.661719</td>\n",
       "      <td>0.647071</td>\n",
       "      <td>0.618110</td>\n",
       "      <td>0.668944</td>\n",
       "      <td>0.712733</td>\n",
       "      <td>0.644064</td>\n",
       "      <td>...</td>\n",
       "      <td>0.698558</td>\n",
       "      <td>0.657093</td>\n",
       "      <td>0.707630</td>\n",
       "      <td>0.721112</td>\n",
       "      <td>0.604490</td>\n",
       "      <td>0.660827</td>\n",
       "      <td>0.633917</td>\n",
       "      <td>0.647184</td>\n",
       "      <td>1.000000</td>\n",
       "      <td>0.892362</td>\n",
       "    </tr>\n",
       "    <tr>\n",
       "      <th>product_500</th>\n",
       "      <td>0.725834</td>\n",
       "      <td>0.708823</td>\n",
       "      <td>0.654141</td>\n",
       "      <td>0.679464</td>\n",
       "      <td>0.656978</td>\n",
       "      <td>0.661249</td>\n",
       "      <td>0.622453</td>\n",
       "      <td>0.698192</td>\n",
       "      <td>0.725737</td>\n",
       "      <td>0.653035</td>\n",
       "      <td>...</td>\n",
       "      <td>0.680228</td>\n",
       "      <td>0.662470</td>\n",
       "      <td>0.694599</td>\n",
       "      <td>0.717490</td>\n",
       "      <td>0.589121</td>\n",
       "      <td>0.676058</td>\n",
       "      <td>0.631923</td>\n",
       "      <td>0.623838</td>\n",
       "      <td>0.892362</td>\n",
       "      <td>1.000000</td>\n",
       "    </tr>\n",
       "  </tbody>\n",
       "</table>\n",
       "<p>500 rows × 500 columns</p>\n",
       "</div>"
      ],
      "text/plain": [
       "             product_1  product_2  product_3  product_4  product_5  product_6  \\\n",
       "product_1     1.000000   0.778586   0.735128   0.674829   0.679093   0.627939   \n",
       "product_2     0.778586   1.000000   0.832687   0.651419   0.659132   0.631817   \n",
       "product_3     0.735128   0.832687   1.000000   0.635946   0.694899   0.654260   \n",
       "product_4     0.674829   0.651419   0.635946   1.000000   0.753641   0.750765   \n",
       "product_5     0.679093   0.659132   0.694899   0.753641   1.000000   0.757411   \n",
       "...                ...        ...        ...        ...        ...        ...   \n",
       "product_496   0.757902   0.710263   0.742793   0.663694   0.684628   0.666483   \n",
       "product_497   0.717625   0.667285   0.679871   0.644498   0.683537   0.665994   \n",
       "product_498   0.699837   0.616325   0.647600   0.672603   0.769047   0.687843   \n",
       "product_499   0.750468   0.714976   0.661482   0.678417   0.661719   0.647071   \n",
       "product_500   0.725834   0.708823   0.654141   0.679464   0.656978   0.661249   \n",
       "\n",
       "             product_7  product_8  product_9  product_10  ...  product_491  \\\n",
       "product_1     0.634285   0.649841   0.746984    0.629904  ...     0.700219   \n",
       "product_2     0.639795   0.652303   0.709243    0.614469  ...     0.677597   \n",
       "product_3     0.639079   0.638945   0.677073    0.606188  ...     0.702439   \n",
       "product_4     0.711670   0.583299   0.662625    0.677843  ...     0.607530   \n",
       "product_5     0.717868   0.576757   0.677742    0.678506  ...     0.632559   \n",
       "...                ...        ...        ...         ...  ...          ...   \n",
       "product_496   0.634874   0.601255   0.681981    0.621988  ...     0.692520   \n",
       "product_497   0.660692   0.566038   0.681804    0.607159  ...     0.638285   \n",
       "product_498   0.667733   0.546225   0.685826    0.623081  ...     0.629611   \n",
       "product_499   0.618110   0.668944   0.712733    0.644064  ...     0.698558   \n",
       "product_500   0.622453   0.698192   0.725737    0.653035  ...     0.680228   \n",
       "\n",
       "             product_492  product_493  product_494  product_495  product_496  \\\n",
       "product_1       0.692948     0.705274     0.844391     0.775699     0.757902   \n",
       "product_2       0.676311     0.677597     0.764430     0.696859     0.710263   \n",
       "product_3       0.661922     0.686830     0.759404     0.751010     0.742793   \n",
       "product_4       0.601275     0.603560     0.657103     0.604526     0.663694   \n",
       "product_5       0.638866     0.635730     0.675314     0.618134     0.684628   \n",
       "...                  ...          ...          ...          ...          ...   \n",
       "product_496     0.680398     0.660403     0.801224     0.793763     1.000000   \n",
       "product_497     0.711178     0.620877     0.720178     0.732729     0.827722   \n",
       "product_498     0.650539     0.637106     0.664687     0.634285     0.655652   \n",
       "product_499     0.657093     0.707630     0.721112     0.604490     0.660827   \n",
       "product_500     0.662470     0.694599     0.717490     0.589121     0.676058   \n",
       "\n",
       "             product_497  product_498  product_499  product_500  \n",
       "product_1       0.717625     0.699837     0.750468     0.725834  \n",
       "product_2       0.667285     0.616325     0.714976     0.708823  \n",
       "product_3       0.679871     0.647600     0.661482     0.654141  \n",
       "product_4       0.644498     0.672603     0.678417     0.679464  \n",
       "product_5       0.683537     0.769047     0.661719     0.656978  \n",
       "...                  ...          ...          ...          ...  \n",
       "product_496     0.827722     0.655652     0.660827     0.676058  \n",
       "product_497     1.000000     0.670525     0.633917     0.631923  \n",
       "product_498     0.670525     1.000000     0.647184     0.623838  \n",
       "product_499     0.633917     0.647184     1.000000     0.892362  \n",
       "product_500     0.631923     0.623838     0.892362     1.000000  \n",
       "\n",
       "[500 rows x 500 columns]"
      ]
     },
     "execution_count": 128,
     "metadata": {},
     "output_type": "execute_result"
    }
   ],
   "source": [
    "# creating the dataframe of the test texts\n",
    "lst_tab = []\n",
    "for idx in range(0, len(mydf)):\n",
    "    lst_row = []\n",
    "    for col in range(0, len(mydf)):\n",
    "        res = get_cosine_sim(mydf['description'][idx], mydf['description'][col], v=1) [0][1]\n",
    "        lst_row.append(res)\n",
    "    lst_tab.append(lst_row)    \n",
    "df_desc = pd.DataFrame(lst_tab)\n",
    "\n",
    "# get length of df's columns, ensure the same lengths of columns & finally renaming columns-indexes\n",
    "num_cols = len(df_desc)\n",
    "new_cols = ['product_' + str(i) for i in np.arange(1, num_cols+1)] \n",
    "df_desc.columns = new_cols[:num_cols]\n",
    "df_desc.index = new_cols[:num_cols]\n",
    "\n",
    "df_desc"
   ]
  },
  {
   "cell_type": "markdown",
   "metadata": {},
   "source": [
    "### --- Example (Get products similar to product 1) ---"
   ]
  },
  {
   "cell_type": "code",
   "execution_count": 159,
   "metadata": {},
   "outputs": [
    {
     "data": {
      "text/plain": [
       "product_1      1.000000\n",
       "product_18     0.802389\n",
       "product_19     0.824836\n",
       "product_494    0.844391\n",
       "Name: product_1, dtype: float64"
      ]
     },
     "execution_count": 159,
     "metadata": {},
     "output_type": "execute_result"
    }
   ],
   "source": [
    "# getting the similar product with threshold 0.8\n",
    "df_desc[df_desc['product_1']>=0.8]['product_1']"
   ]
  },
  {
   "cell_type": "code",
   "execution_count": 183,
   "metadata": {},
   "outputs": [
    {
     "data": {
      "text/plain": [
       "'Active classic boxers - There\\'s a reason why our boxers are a cult favorite - they keep their cool, especially in sticky situations. The quick-drying, lightweight underwear takes up minimal space in a travel pack. An exposed, brushed waistband offers next-to-skin softness, five-panel construction with a traditional boxer back for a classic fit, and a functional fly. Made of 3.7-oz 100% recycled polyester with moisture-wicking performance. Inseam (size M) is 4 1/2\". Recyclable through the Common Threads Recycling Program.<br><br><b>Details:</b><ul> <li>\"Silky Capilene 1 fabric is ultralight, breathable and quick-to-dry\"</li> <li>\"Exposed, brushed elastic waistband for comfort\"</li> <li>5-panel construction with traditional boxer back</li> <li>\"Inseam (size M) is 4 1/2\"\"\"</li></ul><br><br><b>Fabric: </b>3.7-oz 100% all-recycled polyester with Gladiodor natural odor control for the garment. Recyclable through the Common Threads Recycling Program<br><br><b>Weight: </b>99 g (3.5 oz)<br><br>Made in Mexico.'"
      ]
     },
     "execution_count": 183,
     "metadata": {},
     "output_type": "execute_result"
    }
   ],
   "source": [
    "# showcase product1\n",
    "prod_df['description'][0]"
   ]
  },
  {
   "cell_type": "code",
   "execution_count": 184,
   "metadata": {
    "scrolled": true
   },
   "outputs": [
    {
     "data": {
      "text/plain": [
       "'Cap 1 bottoms - Spring skiing is as transient as the wind. Move fast, move light, and still stay dry with our lightest-weight Capilene performance baselayer. These bottoms wick perspiration, breathe, and dry quickly. Under a shell, they insulate without overheating. The waistband is brushed for softness, inseams are set forward to prevent chafe, and a gusseted crotch improves mobility. With a functional fly. Made from 3.7-oz 100% all-recycled polyester, with Gladiodor natural odor control for the garment and 15-UPF sun protection. Recyclable through the Common Threads Recycling Program.<br><br><b>Details:</b><ul> <li>Silky soft Capilene 1 is the lightest of our technical baselayer fabrics</li> <li>\"Fast-drying, highly breathable and sleek, it provides 15-UPF sun protection and can be worn either on its own or under layers in cooler temps\"</li> <li>Elastic waistband is brushed for next-to-skin softness</li> <li>\"Streamlined, functional fly\"</li> <li>Inseams are set forward to prevent chafe</li></ul><br><br><b>Fabric: </b>3.7-oz 100% recycled polyester with Gladiodor natural odor control for the garment and 15-UPF sun protection. Recyclable through the Common Threads Recycling Program<br><br><b>Weight: </b>(158 g 5.5 oz)<br><br>Made in USA.'"
      ]
     },
     "execution_count": 184,
     "metadata": {},
     "output_type": "execute_result"
    }
   ],
   "source": [
    "# showcase product18\n",
    "prod_df['description'][17]"
   ]
  },
  {
   "cell_type": "code",
   "execution_count": 185,
   "metadata": {},
   "outputs": [
    {
     "data": {
      "text/plain": [
       "'Cap 1 boxer briefs - On bivy or belay, the form-fitting Capilene 1 Boxer Briefs stay dry and comfortable. Made from 100% recycled polyester, the underwear excels at moisture-wicking and has Gladiodor natural odor control for the garment. Exposed elastic waistband is brushed for softness; the hem is coverstitched for a smooth glide beneath shorts or pants. Fully-functioning fly and supportive front panel keep you covered. 5 1/2\" inseam (size M). Recyclable through the Common Threads Recycling Program.<br><br><b>Details:</b><ul> <li>Moisture-wicking Capilene 1 fabric with Gladiodor for exceptional next-to-skin comfort and natural odor control for the garment</li> <li>Brushed elastic waistband</li> <li>Supportive front panel</li> <li>\"Cover-stitched hem for smooth glide under shorts or pants, won\\'t restrict mobility\"</li> <li>\"Inseam (size M) is 5 1/2\"\"\"</li></ul><br><br><b>Fabric: </b>3.7-oz 100% all-recycled polyester with Gladiodor&#174; natural odor control for the garment. Recyclable through the Common Threads Recycling Program<br><br><b>Weight: </b>(72 g 2.5 oz)<br><br>Made in USA.'"
      ]
     },
     "execution_count": 185,
     "metadata": {},
     "output_type": "execute_result"
    }
   ],
   "source": [
    "# showcase product19\n",
    "prod_df['description'][18]"
   ]
  },
  {
   "cell_type": "code",
   "execution_count": 186,
   "metadata": {},
   "outputs": [
    {
     "data": {
      "text/plain": [
       "'Active boxer briefs - A no-fuss travel companion, these skivvies love sink and creek baths, and they dry in a flash. The quick-wicking underwear breathes exceptionally well, keeping you comfortable in any condition. An exposed elastic waistband is brushed for no-chafe softness; the hem is coverstitched for a smooth glide beneath shorts or pants. With a 5 1/2\" inseam (size M) an easy-access fly and a supportive front panel. Made from 100% polyester (54% recycled) with moisture-wicking performance. Recyclable through the Common Threads Recycling Program.<br><br><b>Details:</b><ul> <li>Moisture-wicking Capilene 2 fabric with an open-knit weave for breathability</li> <li>Brushed elastic waistband for next-to-skin softness</li> <li>Supportive front panel</li> <li>\"Cover-stitched hem for smooth glide under shorts or pants, won\\'t restrict mobility\"</li> <li>\"Inseam (size M) is 5 1/2\"\"\"</li></ul><br><br><b>Fabric: </b>4-oz 100% polyester (54% recycled) with Gladiodor natural odor control for the garment. Recyclable through the Common Threads Recycling Program<br><br><b>Weight: </b>(72 g 2.5 oz)<br><br>Made in USA.'"
      ]
     },
     "execution_count": 186,
     "metadata": {},
     "output_type": "execute_result"
    }
   ],
   "source": [
    "# showcase product494\n",
    "prod_df['description'][493]"
   ]
  },
  {
   "cell_type": "code",
   "execution_count": 270,
   "metadata": {},
   "outputs": [
    {
     "data": {
      "text/plain": [
       "[('product_1', 1.0000000000000024),\n",
       " ('product_18', 0.802389142155009),\n",
       " ('product_19', 0.8248359032624542),\n",
       " ('product_494', 0.8443905903899785)]"
      ]
     },
     "execution_count": 270,
     "metadata": {},
     "output_type": "execute_result"
    }
   ],
   "source": [
    "# getting the similar products\n",
    "list(df_desc[df_desc['product_1']>=0.8]['product_1'].items())"
   ]
  },
  {
   "cell_type": "markdown",
   "metadata": {},
   "source": [
    "### --- Example (Get products similar to product 2) ---"
   ]
  },
  {
   "cell_type": "code",
   "execution_count": 191,
   "metadata": {},
   "outputs": [
    {
     "data": {
      "text/plain": [
       "'Active sport boxer briefs - Skinning up Glory requires enough movement without your boxers deciding to poach their own route. The form-fitting Active Sport Boxer Briefs are made from breathable 93% polyester (71% recycled) fabric that\\'s fast-wicking, dries quickly and has 7% spandex for stretch; the seamless waistband and soft leg edges won\\'t roll or bind. The gusseted, flat-sewn 6\" inseam (size M) is offset to prevent inner-thigh chafe. Fly-free with a smooth front panel. Recyclable through the Common Threads Recycling Program.<br><br><b>Details:</b><ul> <li>\"Stretch mesh provides support, open-weave mesh for airflow, wicks efficiently, dries fast\"</li> <li>Seamless construction</li> <li>\"Flat-sewn, gusseted inseam is set forward to prevent inner-thigh chafe\"</li> <li>Fly-free support</li> <li>\"Inseam (size M) is 6\"\"\"</li></ul><br><br><b>Fabric: </b>\"4.6-oz 93% polyester (71% recycled)/7% spandex, with moisture-wicking performance. Recyclable through the Common Threads Recycling Program\"<br><br><b>Weight: </b>(60 g 2.1 oz)<br><br>Made in Israel.'"
      ]
     },
     "execution_count": 191,
     "metadata": {},
     "output_type": "execute_result"
    }
   ],
   "source": [
    "# showcase product1\n",
    "prod_df['description'][1]"
   ]
  },
  {
   "cell_type": "code",
   "execution_count": 192,
   "metadata": {},
   "outputs": [
    {
     "data": {
      "text/plain": [
       "'Active sport briefs - These superbreathable no-fly briefs are the minimalist\\'s choice for high-octane endeavors. Made from a blend of fast-wicking, quick-drying 93% polyester (71% recycled) and 7% spandex that has both stretch-mesh (for support) and open mesh (for cooling airflow). Soft edging at the leg openings and a seamless waist won\\'t roll or create friction against layers. With a smooth front panel for opacity. Recyclable through the Common Threads Recycling Program.<br><br><b>Details:</b><ul> <li>\"Stretch mesh provides support, open-weave mesh for airflow, wicks efficiently and dries fast\"</li> <li>Seamless construction</li> <li>Leg openings have half-inch self-binding for comfort</li> <li>Fly-free support</li></ul><br><br><b>Fabric: </b>\"4.6-oz 93% polyester (71% recycled)/7% spandex, with moisture-wicking performance. Recyclable through the Common Threads Recycling Program\"<br><br><b>Weight: </b>(49 g 1.7 oz)<br><br>Made in Israel.'"
      ]
     },
     "execution_count": 192,
     "metadata": {},
     "output_type": "execute_result"
    }
   ],
   "source": [
    "# showcase product1\n",
    "prod_df['description'][2]"
   ]
  },
  {
   "cell_type": "code",
   "execution_count": 271,
   "metadata": {},
   "outputs": [
    {
     "data": {
      "text/plain": [
       "[('product_2', 1.000000000000001), ('product_3', 0.8326870064217323)]"
      ]
     },
     "execution_count": 271,
     "metadata": {},
     "output_type": "execute_result"
    }
   ],
   "source": [
    "# getting the similar products\n",
    "list(df_desc[df_desc['product_2']>=0.8]['product_2'].items())"
   ]
  },
  {
   "cell_type": "markdown",
   "metadata": {},
   "source": [
    "### --- Compiling all the similar products of each product"
   ]
  },
  {
   "cell_type": "code",
   "execution_count": 275,
   "metadata": {},
   "outputs": [],
   "source": [
    "# getting the similar product of each product (threshold 0.8)\n",
    "similar_products = []\n",
    "for i in df_desc.columns:\n",
    "    res = df_desc[df_desc[i]>=0.8][i].keys().to_list()\n",
    "    res.remove(i)\n",
    "    similar_products.append(res) "
   ]
  },
  {
   "cell_type": "code",
   "execution_count": 277,
   "metadata": {},
   "outputs": [
    {
     "data": {
      "text/html": [
       "<div>\n",
       "<style scoped>\n",
       "    .dataframe tbody tr th:only-of-type {\n",
       "        vertical-align: middle;\n",
       "    }\n",
       "\n",
       "    .dataframe tbody tr th {\n",
       "        vertical-align: top;\n",
       "    }\n",
       "\n",
       "    .dataframe thead th {\n",
       "        text-align: right;\n",
       "    }\n",
       "</style>\n",
       "<table border=\"1\" class=\"dataframe\">\n",
       "  <thead>\n",
       "    <tr style=\"text-align: right;\">\n",
       "      <th></th>\n",
       "      <th>id</th>\n",
       "      <th>description</th>\n",
       "      <th>similar products</th>\n",
       "    </tr>\n",
       "  </thead>\n",
       "  <tbody>\n",
       "    <tr>\n",
       "      <th>0</th>\n",
       "      <td>1</td>\n",
       "      <td>active classic boxers   theres a reason why ou...</td>\n",
       "      <td>[product_18, product_19, product_494]</td>\n",
       "    </tr>\n",
       "    <tr>\n",
       "      <th>1</th>\n",
       "      <td>2</td>\n",
       "      <td>active sport boxer briefs   skinning up glory ...</td>\n",
       "      <td>[product_3]</td>\n",
       "    </tr>\n",
       "    <tr>\n",
       "      <th>2</th>\n",
       "      <td>3</td>\n",
       "      <td>active sport briefs   these superbreathable no...</td>\n",
       "      <td>[product_2]</td>\n",
       "    </tr>\n",
       "    <tr>\n",
       "      <th>3</th>\n",
       "      <td>4</td>\n",
       "      <td>alpine guide pants   skin in  climb ice  switc...</td>\n",
       "      <td>[product_159, product_343, product_379, produc...</td>\n",
       "    </tr>\n",
       "    <tr>\n",
       "      <th>4</th>\n",
       "      <td>5</td>\n",
       "      <td>alpine wind jkt   on high ridges  steep ice an...</td>\n",
       "      <td>[product_308]</td>\n",
       "    </tr>\n",
       "    <tr>\n",
       "      <th>...</th>\n",
       "      <td>...</td>\n",
       "      <td>...</td>\n",
       "      <td>...</td>\n",
       "    </tr>\n",
       "    <tr>\n",
       "      <th>495</th>\n",
       "      <td>496</td>\n",
       "      <td>cap 2 bottoms   cut loose from the maddening c...</td>\n",
       "      <td>[product_18, product_22, product_23, product_1...</td>\n",
       "    </tr>\n",
       "    <tr>\n",
       "      <th>496</th>\n",
       "      <td>497</td>\n",
       "      <td>cap 2 crew   this crew takes the edge off fick...</td>\n",
       "      <td>[product_20, product_21, product_22, product_2...</td>\n",
       "    </tr>\n",
       "    <tr>\n",
       "      <th>497</th>\n",
       "      <td>498</td>\n",
       "      <td>all time shell   no need to use that morning t...</td>\n",
       "      <td>[product_267, product_302, product_386]</td>\n",
       "    </tr>\n",
       "    <tr>\n",
       "      <th>498</th>\n",
       "      <td>499</td>\n",
       "      <td>all wear cargo shorts   all wear cargo shorts ...</td>\n",
       "      <td>[product_27, product_28, product_32, product_3...</td>\n",
       "    </tr>\n",
       "    <tr>\n",
       "      <th>499</th>\n",
       "      <td>500</td>\n",
       "      <td>all wear shorts   time to simplify  our all we...</td>\n",
       "      <td>[product_27, product_28, product_32, product_3...</td>\n",
       "    </tr>\n",
       "  </tbody>\n",
       "</table>\n",
       "<p>500 rows × 3 columns</p>\n",
       "</div>"
      ],
      "text/plain": [
       "      id                                        description  \\\n",
       "0      1  active classic boxers   theres a reason why ou...   \n",
       "1      2  active sport boxer briefs   skinning up glory ...   \n",
       "2      3  active sport briefs   these superbreathable no...   \n",
       "3      4  alpine guide pants   skin in  climb ice  switc...   \n",
       "4      5  alpine wind jkt   on high ridges  steep ice an...   \n",
       "..   ...                                                ...   \n",
       "495  496  cap 2 bottoms   cut loose from the maddening c...   \n",
       "496  497  cap 2 crew   this crew takes the edge off fick...   \n",
       "497  498  all time shell   no need to use that morning t...   \n",
       "498  499  all wear cargo shorts   all wear cargo shorts ...   \n",
       "499  500  all wear shorts   time to simplify  our all we...   \n",
       "\n",
       "                                      similar products  \n",
       "0                [product_18, product_19, product_494]  \n",
       "1                                          [product_3]  \n",
       "2                                          [product_2]  \n",
       "3    [product_159, product_343, product_379, produc...  \n",
       "4                                        [product_308]  \n",
       "..                                                 ...  \n",
       "495  [product_18, product_22, product_23, product_1...  \n",
       "496  [product_20, product_21, product_22, product_2...  \n",
       "497            [product_267, product_302, product_386]  \n",
       "498  [product_27, product_28, product_32, product_3...  \n",
       "499  [product_27, product_28, product_32, product_3...  \n",
       "\n",
       "[500 rows x 3 columns]"
      ]
     },
     "execution_count": 277,
     "metadata": {},
     "output_type": "execute_result"
    }
   ],
   "source": [
    "# concatenating result to the master data & showcasing results\n",
    "mydf['similar products'] = pd.Series(similar_products)\n",
    "mydf"
   ]
  },
  {
   "cell_type": "code",
   "execution_count": null,
   "metadata": {},
   "outputs": [],
   "source": []
  }
 ],
 "metadata": {
  "kernelspec": {
   "display_name": "Python 3",
   "language": "python",
   "name": "python3"
  },
  "language_info": {
   "codemirror_mode": {
    "name": "ipython",
    "version": 3
   },
   "file_extension": ".py",
   "mimetype": "text/x-python",
   "name": "python",
   "nbconvert_exporter": "python",
   "pygments_lexer": "ipython3",
   "version": "3.7.4"
  }
 },
 "nbformat": 4,
 "nbformat_minor": 2
}
